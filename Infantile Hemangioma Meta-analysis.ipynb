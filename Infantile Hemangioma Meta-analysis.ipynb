{
 "cells": [
  {
   "cell_type": "markdown",
   "metadata": {},
   "source": [
    "# Infantile Hemangioma Meta-analysis\n",
    "\n",
    "\n",
    "> KQ 2: Among newborns, infants, and children up to 18 years of age with infantile hemangiomas who have been referred for pharmacologic intervention, what is the comparative effectiveness (benefits/harms) of corticosteroids or beta-blockers?\n",
    "\n",
    "Using data extracted by the systematic review, we will conduct a meta-analysis to estimate the effectiveness of several corticosteroids and beta blockers for the treatment of infantile hemangiomas. Of particular interest is the estimation of the efficacy of propranolol, a beta blocker that was used in a large number of studies in the review. To this end, we will determine the expected probability of partial-to-complete clearance for propranolol, and compare this to the same probabilities for several different comparators, as determined by their availability in the dataset.\n",
    "\n",
    "### Beta-binomial model\n",
    "\n",
    "For this model, the response variable is the number of individuals in study $j$ under intervention $k$ that achieve the clearance threshold:\n",
    "\n",
    "$$y_{jk} = \\sum_{i=1}^{n_{jk}} = I_i(\\text{above clearance threshold})$$\n",
    "\n",
    "This outcome is modeled as a binomial response:\n",
    "\n",
    "$$y_{jk} \\sim \\text{Bin}(n_{jk}, \\pi_{jk})$$\n",
    "\n",
    "where $\\pi_{jk})$ is the probability of a positive response for study $j$ under intervention $k$. To allow for heterogeneity in this probability across studies, we can specify it as a random effect:\n",
    "\n",
    "$$\\pi_{jk} \\sim \\text{Beta}(\\alpha, \\beta)$$\n",
    "\n",
    "where $\\alpha, \\beta$ are the parameters of a beta distribution (which models quantities on the [0,1] interval), resulting in a beta-binomial distribution for the outcome.\n",
    "\n",
    "It may be possible to incorporate covariates to improve the prediction of propranolol effectiveness. In particular, the mode of delivery (oral, intralesional, topical), dose, or the hemangioma location may be predictive of intervention effectiveness. For a vector of such covariates $x$, we can alternatively model $\\pi_{jk}$ as a logit-linear function:\n",
    "\n",
    "$$\\text{logit}(\\pi_{jk}) = x_j^{\\prime}\\theta_k + \\epsilon_j$$\n",
    "\n",
    "where $\\theta$ is a corresponding vector of regression parameters corresponding to intervention $k$, and $\\epsilon_j$ is a study-level random effect to account for the correlation of study arms.\n",
    "\n",
    "### Latent variable model\n",
    "\n",
    "However, the use of an arbitrary cutoff value as a threshold of success is an unfortunate and perhaps unsatisfactory modeling choice. There is an inherent loss of information in the dichotomization of continuous variables, and this loss is magnified here by having to discard data from studies that use a different response threshold than the adopted value (*e.g.* 75%). Since the clearance rate is a continuous measure, one can hypothesize a latent, continuous probability distribution that each study reports according to its respective quantiles: 25%, 50%, 75%, etc. If there is sufficient information, one may use a Bayesian approach to attempt to reconstruct this latent distribution, which would allow for more of the available information to be used in the meta-analytic procedure.  \n",
    "\n",
    "Under some treatment $k$, one can consider a notional *distribution* of hemangioma clearance rates, from no effect (0) to complete clearance (1). As a matter of convenience in any particular study $j$, researchers will have chosen an arbitrary clearance threshold $c_j$, only recording whether a particular subject occupied one side or the other of this threshold. We can characterize the true, latent response distribution by estimating the parameters $\\mu_k, \\sigma_k$ via the following identity:\n",
    "\n",
    "$$\\pi_{jk} = 1 - I_{c_j}(\\mu_k, \\sigma_k)$$\n",
    "\n",
    "where $I_x(a,b)$ is the cumulative distribution function of a logit-transformed normal distribution under parameters $\\mu, \\sigma$. The resulting probability is the same as specified above, and can be used in the same binomial likelihood:\n",
    "\n",
    "$$y_{jk} \\sim \\text{Bin}(n_{jk}, \\pi_{jk})$$\n",
    "\n",
    "### Comparative effectiveness\n",
    "\n",
    "Irrespective of which model form is employed, the comparative effectiveness of any two pharmacologic interventions $k=1,2$ can be assessed directly by the difference in their respective clearance threshold probabilities:\n",
    "\n",
    "$$d_{12} = \\pi_1 - \\pi_2$$\n",
    "\n",
    "Using a Bayesian framework, we can extract associated 95% posterior credible intervals for this difference."
   ]
  },
  {
   "cell_type": "code",
   "execution_count": 1,
   "metadata": {
    "collapsed": false
   },
   "outputs": [],
   "source": [
    "%matplotlib inline\n",
    "import numpy as np\n",
    "import pandas as pd\n",
    "import pymc as pm\n",
    "import seaborn as sb\n",
    "import pylab as pl\n",
    "\n",
    "from scipy.stats import norm"
   ]
  },
  {
   "cell_type": "code",
   "execution_count": 2,
   "metadata": {
    "collapsed": true
   },
   "outputs": [],
   "source": [
    "sb.set_style(\"white\")"
   ]
  },
  {
   "cell_type": "code",
   "execution_count": 3,
   "metadata": {
    "collapsed": true
   },
   "outputs": [],
   "source": [
    "# Set random number seed\n",
    "np.random.seed(42)"
   ]
  },
  {
   "cell_type": "code",
   "execution_count": 4,
   "metadata": {
    "collapsed": false
   },
   "outputs": [],
   "source": [
    "kq2_outcomes = pd.read_excel('IH_effectiveness_data_Extraction_comparative studies_revised_03242015.xlsx', \n",
    "                             sheetname='KQ2_outcome data')\n",
    "\n",
    "# Individual patient data for RefID 112\n",
    "kq2_ipd = pd.read_excel('IH_effectiveness_data_Extraction_comparative studies_revised_03242015.xlsx', \n",
    "                             sheetname='KQ2_IPD')"
   ]
  },
  {
   "cell_type": "markdown",
   "metadata": {},
   "source": [
    "Individual patient data for REFID 112 (Qiu 2013). Individual with multiple treatments per lesion was deleted; data from multiple lesions on the same individual were averaged."
   ]
  },
  {
   "cell_type": "code",
   "execution_count": 5,
   "metadata": {
    "collapsed": false
   },
   "outputs": [],
   "source": [
    "unique_outcomes = kq2_outcomes['Outcome'].unique()"
   ]
  },
  {
   "cell_type": "code",
   "execution_count": 6,
   "metadata": {
    "collapsed": false
   },
   "outputs": [
    {
     "data": {
      "text/plain": [
       "array(['propranolol', 'atenolol', 'Timolol maleate 0.5% gel', 'placebo',\n",
       "       'triamcilone', 'prednisolone', 'control', 'control - no treatment',\n",
       "       'timolol', 'Imiquimod', 'bleomycin', 'prednisone',\n",
       "       'corticosteroids', 'No treatment - observation', 'triamcinolone',\n",
       "       'nadolol', 'Methylprednisolone'], dtype=object)"
      ]
     },
     "execution_count": 6,
     "metadata": {},
     "output_type": "execute_result"
    }
   ],
   "source": [
    "unique_interventions = kq2_outcomes['Arm'].unique()\n",
    "\n",
    "unique_interventions"
   ]
  },
  {
   "cell_type": "code",
   "execution_count": 7,
   "metadata": {
    "collapsed": false
   },
   "outputs": [],
   "source": [
    "intervention_categories = pd.read_csv('interventions.csv', index_col=0)"
   ]
  },
  {
   "cell_type": "markdown",
   "metadata": {},
   "source": [
    "Remove unusable interventions"
   ]
  },
  {
   "cell_type": "code",
   "execution_count": 8,
   "metadata": {
    "collapsed": false
   },
   "outputs": [],
   "source": [
    "dropped_interventions = intervention_categories[intervention_categories.Label=='DROP'].index.values\n",
    "kq2_outcomes = kq2_outcomes[~kq2_outcomes.Arm.isin(dropped_interventions)]"
   ]
  },
  {
   "cell_type": "markdown",
   "metadata": {},
   "source": [
    "Recode interventions into collapsed category set"
   ]
  },
  {
   "cell_type": "code",
   "execution_count": 9,
   "metadata": {
    "collapsed": true
   },
   "outputs": [],
   "source": [
    "intervention_lookup = intervention_categories[intervention_categories.Label!='DROP'].to_dict()['Label']"
   ]
  },
  {
   "cell_type": "code",
   "execution_count": 10,
   "metadata": {
    "collapsed": false,
    "scrolled": true
   },
   "outputs": [
    {
     "data": {
      "text/plain": [
       "{'Control (not treated with propranolol)': 'control',\n",
       " 'Imiquimod': 'imiquimod',\n",
       " 'Methylprednisolone': 'methylprednisolone',\n",
       " 'No treatment - observation': 'control',\n",
       " 'Timolol maleate 0.5% gel': 'timolol',\n",
       " 'atenolol': 'atenolol',\n",
       " 'control': 'control',\n",
       " 'control - no treatment': 'control',\n",
       " 'corticosteroids': 'oral steroid',\n",
       " 'methyprednisolone': 'methylprednisolone',\n",
       " 'nadolol': 'nadolol',\n",
       " 'nonpropranolol': 'control',\n",
       " 'placebo': 'control',\n",
       " 'prednisolone': 'oral steroid',\n",
       " 'prednisone': 'oral steroid',\n",
       " 'propranolol': 'propranolol',\n",
       " 'timolol': 'timolol',\n",
       " 'triamcilone': 'triamcilone',\n",
       " 'triamcilone acetonide': 'triamcilone',\n",
       " 'triamcinolone': 'triamcilone'}"
      ]
     },
     "execution_count": 10,
     "metadata": {},
     "output_type": "execute_result"
    }
   ],
   "source": [
    "intervention_lookup"
   ]
  },
  {
   "cell_type": "code",
   "execution_count": 11,
   "metadata": {
    "collapsed": false
   },
   "outputs": [
    {
     "data": {
      "text/plain": [
       "propranolol           38\n",
       "timolol               26\n",
       "control               17\n",
       "oral steroid          10\n",
       "triamcilone            9\n",
       "atenolol               2\n",
       "imiquimod              1\n",
       "nadolol                1\n",
       "methylprednisolone     1\n",
       "dtype: int64"
      ]
     },
     "execution_count": 11,
     "metadata": {},
     "output_type": "execute_result"
    }
   ],
   "source": [
    "kq2_outcomes['intervention'] = kq2_outcomes.Arm.replace(intervention_lookup)\n",
    "kq2_outcomes['intervention'].value_counts()"
   ]
  },
  {
   "cell_type": "code",
   "execution_count": 12,
   "metadata": {
    "collapsed": false
   },
   "outputs": [],
   "source": [
    "kq2_outcomes = kq2_outcomes[kq2_outcomes.intervention.isin(['propranolol', 'control', 'timolol', 'triamcilone', 'oral steroid'])]"
   ]
  },
  {
   "cell_type": "code",
   "execution_count": 13,
   "metadata": {
    "collapsed": false
   },
   "outputs": [
    {
     "data": {
      "text/plain": [
       "4"
      ]
     },
     "execution_count": 13,
     "metadata": {},
     "output_type": "execute_result"
    }
   ],
   "source": [
    "unique_interventions = kq2_outcomes.intervention.unique()\n",
    "n_interventions = len(unique_interventions) - 1\n",
    "n_interventions"
   ]
  },
  {
   "cell_type": "code",
   "execution_count": 14,
   "metadata": {
    "collapsed": false
   },
   "outputs": [
    {
     "data": {
      "text/plain": [
       "array(['propranolol', 'timolol', 'control', 'triamcilone', 'oral steroid'], dtype=object)"
      ]
     },
     "execution_count": 14,
     "metadata": {},
     "output_type": "execute_result"
    }
   ],
   "source": [
    "unique_interventions"
   ]
  },
  {
   "cell_type": "markdown",
   "metadata": {},
   "source": [
    "Define indices to intervention elements"
   ]
  },
  {
   "cell_type": "code",
   "execution_count": 15,
   "metadata": {
    "collapsed": true
   },
   "outputs": [],
   "source": [
    "PROPRANOLOL = 0\n",
    "TIMOLOL = 1\n",
    "TRIAMCINOLONE = 2\n",
    "ORAL_STEROID = 3"
   ]
  },
  {
   "cell_type": "markdown",
   "metadata": {},
   "source": [
    "Number of unique studies"
   ]
  },
  {
   "cell_type": "code",
   "execution_count": 16,
   "metadata": {
    "collapsed": false
   },
   "outputs": [
    {
     "data": {
      "text/plain": [
       "21"
      ]
     },
     "execution_count": 16,
     "metadata": {},
     "output_type": "execute_result"
    }
   ],
   "source": [
    "unique_studies = kq2_outcomes.REFID.unique()\n",
    "n_studies = len(unique_studies)\n",
    "n_studies"
   ]
  },
  {
   "cell_type": "code",
   "execution_count": 17,
   "metadata": {
    "collapsed": false
   },
   "outputs": [
    {
     "data": {
      "text/plain": [
       "array([   5,  110, 1262,   43,   13,  445, 3740,   72,  112,  309,  321,\n",
       "        402,  438, 3451, 3522, 3723, 1180, 3875, 3843, 4000, 4007])"
      ]
     },
     "execution_count": 17,
     "metadata": {},
     "output_type": "execute_result"
    }
   ],
   "source": [
    "unique_studies"
   ]
  },
  {
   "cell_type": "code",
   "execution_count": 18,
   "metadata": {
    "collapsed": false
   },
   "outputs": [
    {
     "data": {
      "text/plain": [
       "{5: 1,\n",
       " 13: 2,\n",
       " 43: 1,\n",
       " 72: 1,\n",
       " 110: 2,\n",
       " 112: 1,\n",
       " 309: 1,\n",
       " 321: 2,\n",
       " 402: 2,\n",
       " 438: 0,\n",
       " 445: 1,\n",
       " 1180: 2,\n",
       " 1262: 1,\n",
       " 3451: 0,\n",
       " 3522: 1,\n",
       " 3723: 0,\n",
       " 3740: 0,\n",
       " 3843: 1,\n",
       " 3875: 1,\n",
       " 4000: 1,\n",
       " 4007: 0}"
      ]
     },
     "execution_count": 18,
     "metadata": {},
     "output_type": "execute_result"
    }
   ],
   "source": [
    "POOR, FAIR, GOOD = 0, 1, 2\n",
    "quality_scores = dict(zip(unique_studies, [FAIR, GOOD, FAIR, FAIR, GOOD, FAIR, POOR, FAIR, FAIR, FAIR, GOOD, GOOD, POOR, POOR, \n",
    "                         FAIR, POOR, GOOD, FAIR, FAIR, FAIR, POOR]))\n",
    "\n",
    "quality_scores"
   ]
  },
  {
   "cell_type": "code",
   "execution_count": 19,
   "metadata": {
    "collapsed": false
   },
   "outputs": [
    {
     "data": {
      "text/plain": [
       "Index(['Study design', 'REFID', 'PMID', 'Title', 'Author ', 'Year', 'Arm',\n",
       "       'Dosage', 'Dosage amount', 'Dosage form', 'N at enrollment',\n",
       "       'N at follow-up', 'Outcome', 'Outcome data/result',\n",
       "       'Outcome unit of measure ', 'Outcome data', 'Point estimate', 'sd',\n",
       "       'Lower range', 'Upper range', 'Outcome data/result N',\n",
       "       'Outcome data/result %',\n",
       "       'Timepoint for outcome measurement, EOT or in MONTHS (6-month ',\n",
       "       'intervention'],\n",
       "      dtype='object')"
      ]
     },
     "execution_count": 19,
     "metadata": {},
     "output_type": "execute_result"
    }
   ],
   "source": [
    "kq2_outcomes.columns"
   ]
  },
  {
   "cell_type": "code",
   "execution_count": 20,
   "metadata": {
    "collapsed": false
   },
   "outputs": [
    {
     "data": {
      "text/plain": [
       "Study design              \n",
       "RCT           propranolol     20\n",
       "              timolol         12\n",
       "              oral steroid     7\n",
       "              control          7\n",
       "              triamcilone      3\n",
       "cohort        timolol         11\n",
       "              propranolol     11\n",
       "              control          6\n",
       "              oral steroid     3\n",
       "dtype: int64"
      ]
     },
     "execution_count": 20,
     "metadata": {},
     "output_type": "execute_result"
    }
   ],
   "source": [
    "kq2_outcomes[~kq2_outcomes.REFID.isin([445, 321, 3522])].groupby('Study design')['intervention'].value_counts()"
   ]
  },
  {
   "cell_type": "markdown",
   "metadata": {},
   "source": [
    "There does not appear to be sufficient variation in dosage to estimate its effect for any agent."
   ]
  },
  {
   "cell_type": "code",
   "execution_count": 21,
   "metadata": {
    "collapsed": false
   },
   "outputs": [
    {
     "data": {
      "text/plain": [
       "Dosage form    Dosage amount  intervention          \n",
       "intralesional  mg/kg          triamcilone   1 to 5       3\n",
       "               mg/ml          propranolol   1           10\n",
       "                              triamcilone   40           6\n",
       "oral           mg/kg          oral steroid  2            5\n",
       "                                            1-4          2\n",
       "                                            4            2\n",
       "                                            2.8          1\n",
       "                              propranolol   2           17\n",
       "                                            3 then 4     2\n",
       "                                            2-3          2\n",
       "                                            2 to 3       1\n",
       "                                            3            1\n",
       "                                            2.7          1\n",
       "topical        %              timolol       0.5          6\n",
       "               BID            propranolol   0.01         4\n",
       "                              timolol       0.0025       3\n",
       "               Drop           control       1            1\n",
       "                              timolol       1            1\n",
       "               NR             timolol       NR           4\n",
       "               mg/ml          timolol       5           11\n",
       "dtype: int64"
      ]
     },
     "execution_count": 21,
     "metadata": {},
     "output_type": "execute_result"
    }
   ],
   "source": [
    "kq2_outcomes.groupby(['Dosage form','Dosage amount','intervention'])['Dosage'].value_counts()"
   ]
  },
  {
   "cell_type": "code",
   "execution_count": 22,
   "metadata": {
    "collapsed": false
   },
   "outputs": [
    {
     "data": {
      "text/plain": [
       "intervention  Dosage form  \n",
       "control       none             14\n",
       "              topical           1\n",
       "oral steroid  oral             10\n",
       "propranolol   intralesional    10\n",
       "              oral             24\n",
       "              topical           4\n",
       "timolol       topical          26\n",
       "triamcilone   intralesional     9\n",
       "Name: REFID, dtype: int64"
      ]
     },
     "execution_count": 22,
     "metadata": {},
     "output_type": "execute_result"
    }
   ],
   "source": [
    "kq2_outcomes.groupby(['intervention', 'Dosage form']).REFID.count()"
   ]
  },
  {
   "cell_type": "markdown",
   "metadata": {},
   "source": [
    "## Model specification\n",
    "\n",
    "Study random effect. Might want to use a robust distribution, like Cauchy or t."
   ]
  },
  {
   "cell_type": "code",
   "execution_count": 23,
   "metadata": {
    "collapsed": true
   },
   "outputs": [],
   "source": [
    "σ_ϵ = pm.Uniform('σ_ϵ', 0, 1000, value=10)\n",
    "τ_ϵ = σ_ϵ ** -2\n",
    "\n",
    "ϵ = pm.Normal('ϵ', 0, τ_ϵ, value=np.zeros(n_studies))"
   ]
  },
  {
   "cell_type": "markdown",
   "metadata": {},
   "source": [
    "Parameters for each intervention"
   ]
  },
  {
   "cell_type": "code",
   "execution_count": 24,
   "metadata": {
    "collapsed": false
   },
   "outputs": [],
   "source": [
    "μ = pm.Normal('μ', 0, 0.001, value=-2)\n",
    "θ = pm.Normal('θ', 0, 0.001, value=np.zeros(n_interventions))\n",
    "λ = pm.Exponential('λ', 0.1, value=0.5)\n",
    "σ = pm.HalfNormal('σ', λ, value=np.ones(n_interventions+1))\n",
    "τ = σ ** -2"
   ]
  },
  {
   "cell_type": "code",
   "execution_count": 25,
   "metadata": {
    "collapsed": false
   },
   "outputs": [
    {
     "data": {
      "text/plain": [
       "(4,)"
      ]
     },
     "execution_count": 25,
     "metadata": {},
     "output_type": "execute_result"
    }
   ],
   "source": [
    "θ.value.shape"
   ]
  },
  {
   "cell_type": "code",
   "execution_count": 26,
   "metadata": {
    "collapsed": false
   },
   "outputs": [
    {
     "data": {
      "text/plain": [
       "(5,)"
      ]
     },
     "execution_count": 26,
     "metadata": {},
     "output_type": "execute_result"
    }
   ],
   "source": [
    "σ.value.shape"
   ]
  },
  {
   "cell_type": "markdown",
   "metadata": {},
   "source": [
    "Alternate mode of delivery effects for propranolol (oral is baseline)"
   ]
  },
  {
   "cell_type": "code",
   "execution_count": 27,
   "metadata": {
    "collapsed": true
   },
   "outputs": [],
   "source": [
    "ϕ = pm.Normal('ϕ', 0, 0.001, value=0)"
   ]
  },
  {
   "cell_type": "markdown",
   "metadata": {},
   "source": [
    "Cohort study effect to evaluate the difference between RCT and cohort studies"
   ]
  },
  {
   "cell_type": "code",
   "execution_count": 28,
   "metadata": {
    "collapsed": true
   },
   "outputs": [],
   "source": [
    "include_cohort = True"
   ]
  },
  {
   "cell_type": "markdown",
   "metadata": {},
   "source": [
    "Quality score threshold. Studies must have at least this level to be included."
   ]
  },
  {
   "cell_type": "code",
   "execution_count": 29,
   "metadata": {
    "collapsed": true
   },
   "outputs": [],
   "source": [
    "quality_thresh = POOR"
   ]
  },
  {
   "cell_type": "markdown",
   "metadata": {},
   "source": [
    "### Abarrzua-Araya 2014 (RefID 5)"
   ]
  },
  {
   "cell_type": "code",
   "execution_count": 30,
   "metadata": {
    "collapsed": true
   },
   "outputs": [],
   "source": [
    "subset_cols = ['REFID', 'Arm', 'Dosage', 'Dosage amount', 'Dosage form', 'N at follow-up', 'Outcome', \n",
    "    'Outcome data/result', 'Outcome data', 'Point estimate', 'sd', 'Lower range', 'Upper range', 'Outcome data/result N']"
   ]
  },
  {
   "cell_type": "code",
   "execution_count": 31,
   "metadata": {
    "collapsed": false,
    "scrolled": true
   },
   "outputs": [
    {
     "data": {
      "text/html": [
       "<div>\n",
       "<table border=\"1\" class=\"dataframe\">\n",
       "  <thead>\n",
       "    <tr style=\"text-align: right;\">\n",
       "      <th></th>\n",
       "      <th>REFID</th>\n",
       "      <th>Arm</th>\n",
       "      <th>Dosage</th>\n",
       "      <th>Dosage amount</th>\n",
       "      <th>Dosage form</th>\n",
       "      <th>N at follow-up</th>\n",
       "      <th>Outcome</th>\n",
       "      <th>Outcome data/result</th>\n",
       "      <th>Outcome data</th>\n",
       "      <th>Point estimate</th>\n",
       "      <th>sd</th>\n",
       "      <th>Lower range</th>\n",
       "      <th>Upper range</th>\n",
       "      <th>Outcome data/result N</th>\n",
       "    </tr>\n",
       "  </thead>\n",
       "  <tbody>\n",
       "    <tr>\n",
       "      <th>0</th>\n",
       "      <td>5</td>\n",
       "      <td>propranolol</td>\n",
       "      <td>2</td>\n",
       "      <td>mg/kg</td>\n",
       "      <td>oral</td>\n",
       "      <td>10</td>\n",
       "      <td>Complete response</td>\n",
       "      <td>6 (60)</td>\n",
       "      <td>range</td>\n",
       "      <td>NaN</td>\n",
       "      <td>NaN</td>\n",
       "      <td>99</td>\n",
       "      <td>100</td>\n",
       "      <td>6</td>\n",
       "    </tr>\n",
       "    <tr>\n",
       "      <th>2</th>\n",
       "      <td>5</td>\n",
       "      <td>propranolol</td>\n",
       "      <td>2</td>\n",
       "      <td>mg/kg</td>\n",
       "      <td>oral</td>\n",
       "      <td>10</td>\n",
       "      <td>Partial response</td>\n",
       "      <td>4 (40)</td>\n",
       "      <td>range</td>\n",
       "      <td>NaN</td>\n",
       "      <td>NaN</td>\n",
       "      <td>1</td>\n",
       "      <td>99</td>\n",
       "      <td>4</td>\n",
       "    </tr>\n",
       "  </tbody>\n",
       "</table>\n",
       "</div>"
      ],
      "text/plain": [
       "   REFID          Arm Dosage Dosage amount Dosage form  N at follow-up  \\\n",
       "0      5  propranolol      2         mg/kg        oral              10   \n",
       "2      5  propranolol      2         mg/kg        oral              10   \n",
       "\n",
       "             Outcome Outcome data/result Outcome data  Point estimate   sd  \\\n",
       "0  Complete response              6 (60)        range             NaN  NaN   \n",
       "2   Partial response              4 (40)        range             NaN  NaN   \n",
       "\n",
       "   Lower range  Upper range Outcome data/result N  \n",
       "0           99          100                     6  \n",
       "2            1           99                     4  "
      ]
     },
     "execution_count": 31,
     "metadata": {},
     "output_type": "execute_result"
    }
   ],
   "source": [
    "kq2_outcomes[kq2_outcomes.REFID==5][subset_cols]"
   ]
  },
  {
   "cell_type": "code",
   "execution_count": 32,
   "metadata": {
    "collapsed": false
   },
   "outputs": [],
   "source": [
    "refid5 = np.where(unique_studies==5)[0][0]"
   ]
  },
  {
   "cell_type": "code",
   "execution_count": 33,
   "metadata": {
    "collapsed": false
   },
   "outputs": [],
   "source": [
    "if quality_scores[5] >= quality_thresh:\n",
    "    \n",
    "    @pm.deterministic\n",
    "    def mu_propranolol_5(μ=μ, θ=θ, ϵ=ϵ):\n",
    "        # Mean response on the logit scale for propranolol in RefID 5\n",
    "        return μ + θ[PROPRANOLOL] + ϵ[refid5]\n",
    "\n",
    "\n",
    "    @pm.deterministic\n",
    "    def p_propranolol_5(μ=mu_propranolol_5, τ=τ):\n",
    "        # Response category probabilities for propranolol in RefID 5\n",
    "        c1 = norm.cdf(pm.logit(0.01), μ, τ[PROPRANOLOL]**-1)\n",
    "        c2 = norm.cdf(pm.logit(0.99), μ, τ[PROPRANOLOL]**-1)\n",
    "        return c1, c2-c1, 1-c2   \n",
    "\n",
    "    # Multinomial likelihood for propranolol in RefID 5\n",
    "    y_propranolol_5 = pm.Multinomial('y_propranolol_5', 10, p_propranolol_5, value=[0, 4, 6], observed=True)\n",
    "    # Posterior predictive check\n",
    "    pred_propranolol_5 = pm.Multinomial('pred_propranolol_5', 10, p_propranolol_5, value=[0, 4, 6])"
   ]
  },
  {
   "cell_type": "markdown",
   "metadata": {},
   "source": [
    "### Chan 2013 (RefID 110)"
   ]
  },
  {
   "cell_type": "code",
   "execution_count": 34,
   "metadata": {
    "collapsed": false
   },
   "outputs": [
    {
     "data": {
      "text/html": [
       "<div>\n",
       "<table border=\"1\" class=\"dataframe\">\n",
       "  <thead>\n",
       "    <tr style=\"text-align: right;\">\n",
       "      <th></th>\n",
       "      <th>REFID</th>\n",
       "      <th>Arm</th>\n",
       "      <th>Dosage</th>\n",
       "      <th>Dosage amount</th>\n",
       "      <th>Dosage form</th>\n",
       "      <th>N at follow-up</th>\n",
       "      <th>Outcome</th>\n",
       "      <th>Outcome data/result</th>\n",
       "      <th>Outcome data</th>\n",
       "      <th>Point estimate</th>\n",
       "      <th>sd</th>\n",
       "      <th>Lower range</th>\n",
       "      <th>Upper range</th>\n",
       "      <th>Outcome data/result N</th>\n",
       "    </tr>\n",
       "  </thead>\n",
       "  <tbody>\n",
       "    <tr>\n",
       "      <th>4</th>\n",
       "      <td>110</td>\n",
       "      <td>Timolol maleate 0.5% gel</td>\n",
       "      <td>1</td>\n",
       "      <td>Drop</td>\n",
       "      <td>topical</td>\n",
       "      <td>15</td>\n",
       "      <td>Volume reduced by ≥ 5%</td>\n",
       "      <td>60</td>\n",
       "      <td>range</td>\n",
       "      <td>NaN</td>\n",
       "      <td>NaN</td>\n",
       "      <td>5</td>\n",
       "      <td>100</td>\n",
       "      <td>9</td>\n",
       "    </tr>\n",
       "    <tr>\n",
       "      <th>5</th>\n",
       "      <td>110</td>\n",
       "      <td>placebo</td>\n",
       "      <td>1</td>\n",
       "      <td>Drop</td>\n",
       "      <td>topical</td>\n",
       "      <td>18</td>\n",
       "      <td>Volume reduced by ≥ 5%</td>\n",
       "      <td>11</td>\n",
       "      <td>range</td>\n",
       "      <td>NaN</td>\n",
       "      <td>NaN</td>\n",
       "      <td>5</td>\n",
       "      <td>100</td>\n",
       "      <td>2</td>\n",
       "    </tr>\n",
       "  </tbody>\n",
       "</table>\n",
       "</div>"
      ],
      "text/plain": [
       "   REFID                       Arm Dosage Dosage amount Dosage form  \\\n",
       "4    110  Timolol maleate 0.5% gel      1          Drop     topical   \n",
       "5    110                   placebo      1          Drop     topical   \n",
       "\n",
       "   N at follow-up                 Outcome Outcome data/result Outcome data  \\\n",
       "4              15  Volume reduced by ≥ 5%                  60        range   \n",
       "5              18  Volume reduced by ≥ 5%                  11        range   \n",
       "\n",
       "   Point estimate   sd  Lower range  Upper range Outcome data/result N  \n",
       "4             NaN  NaN            5          100                     9  \n",
       "5             NaN  NaN            5          100                     2  "
      ]
     },
     "execution_count": 34,
     "metadata": {},
     "output_type": "execute_result"
    }
   ],
   "source": [
    "kq2_outcomes[kq2_outcomes.REFID==110][subset_cols]"
   ]
  },
  {
   "cell_type": "code",
   "execution_count": 35,
   "metadata": {
    "collapsed": true
   },
   "outputs": [],
   "source": [
    "refid110 = np.where(unique_studies==110)[0][0]"
   ]
  },
  {
   "cell_type": "code",
   "execution_count": 36,
   "metadata": {
    "collapsed": false
   },
   "outputs": [],
   "source": [
    "if quality_scores[110] >= quality_thresh:\n",
    "\n",
    "    @pm.deterministic\n",
    "    def mu_timolol_110(μ=μ, θ=θ, ϵ=ϵ):\n",
    "        # Mean response on the logit scale for timolol in RefID 110\n",
    "        return μ + θ[TIMOLOL] + ϵ[refid110]\n",
    "\n",
    "\n",
    "    @pm.deterministic\n",
    "    def p_timolol_110(μ=mu_timolol_110, τ=τ):\n",
    "        # Response category probabilities for timolol in RefID 110\n",
    "        return 1 - norm.cdf(pm.logit(0.05), μ, τ[TIMOLOL]**-1)\n",
    "\n",
    "    # Binomial likelihood for propranolol in RefID 5\n",
    "    y_timolol_110 = pm.Binomial('y_timolol_110', 15, p_timolol_110, value=9, observed=True)\n",
    "    # Posterior predictive check\n",
    "    pred_timolol_110 = pm.Binomial('pred_timolol_110', 15, p_timolol_110, value=9)"
   ]
  },
  {
   "cell_type": "code",
   "execution_count": 37,
   "metadata": {
    "collapsed": true
   },
   "outputs": [],
   "source": [
    "if quality_scores[110] >= quality_thresh:\n",
    "\n",
    "\n",
    "    @pm.deterministic\n",
    "    def mu_control_110(μ=μ, ϵ=ϵ):\n",
    "        # Mean response on the logit scale for control in RefID 110\n",
    "        return μ + ϵ[refid110]\n",
    "\n",
    "\n",
    "    @pm.deterministic\n",
    "    def p_control_110(μ=mu_control_110, τ=τ):\n",
    "        # Response category probabilities for control in RefID 110\n",
    "        return 1 - norm.cdf(pm.logit(0.05), μ, τ[-1]**-1)\n",
    "\n",
    "    # Binomial likelihood for control in RefID 5\n",
    "    y_control_110 = pm.Binomial('y_control_110', 18, p_control_110, value=2, observed=True)\n",
    "    # Posterior predictive check\n",
    "    pred_control_110 = pm.Binomial('pred_control_110', 18, p_control_110, value=2)"
   ]
  },
  {
   "cell_type": "markdown",
   "metadata": {},
   "source": [
    "### Jalil 2006 (RefID 1262)"
   ]
  },
  {
   "cell_type": "code",
   "execution_count": 38,
   "metadata": {
    "collapsed": false
   },
   "outputs": [
    {
     "data": {
      "text/html": [
       "<div>\n",
       "<table border=\"1\" class=\"dataframe\">\n",
       "  <thead>\n",
       "    <tr style=\"text-align: right;\">\n",
       "      <th></th>\n",
       "      <th>REFID</th>\n",
       "      <th>Arm</th>\n",
       "      <th>Dosage</th>\n",
       "      <th>Dosage amount</th>\n",
       "      <th>Dosage form</th>\n",
       "      <th>N at follow-up</th>\n",
       "      <th>Outcome</th>\n",
       "      <th>Outcome data/result</th>\n",
       "      <th>Outcome data</th>\n",
       "      <th>Point estimate</th>\n",
       "      <th>sd</th>\n",
       "      <th>Lower range</th>\n",
       "      <th>Upper range</th>\n",
       "      <th>Outcome data/result N</th>\n",
       "    </tr>\n",
       "  </thead>\n",
       "  <tbody>\n",
       "    <tr>\n",
       "      <th>6</th>\n",
       "      <td>1262</td>\n",
       "      <td>triamcilone</td>\n",
       "      <td>1 to 5</td>\n",
       "      <td>mg/kg</td>\n",
       "      <td>intralesional</td>\n",
       "      <td>25</td>\n",
       "      <td>Lesion size reduction &gt; 50%</td>\n",
       "      <td>11 (44)</td>\n",
       "      <td>range</td>\n",
       "      <td>NaN</td>\n",
       "      <td>NaN</td>\n",
       "      <td>50</td>\n",
       "      <td>100</td>\n",
       "      <td>11</td>\n",
       "    </tr>\n",
       "    <tr>\n",
       "      <th>7</th>\n",
       "      <td>1262</td>\n",
       "      <td>prednisolone</td>\n",
       "      <td>2</td>\n",
       "      <td>mg/kg</td>\n",
       "      <td>oral</td>\n",
       "      <td>25</td>\n",
       "      <td>Lesion size reduction &gt; 50%</td>\n",
       "      <td>8 (32)</td>\n",
       "      <td>range</td>\n",
       "      <td>NaN</td>\n",
       "      <td>NaN</td>\n",
       "      <td>50</td>\n",
       "      <td>100</td>\n",
       "      <td>8</td>\n",
       "    </tr>\n",
       "    <tr>\n",
       "      <th>8</th>\n",
       "      <td>1262</td>\n",
       "      <td>control</td>\n",
       "      <td>no treatment</td>\n",
       "      <td>NaN</td>\n",
       "      <td>none</td>\n",
       "      <td>25</td>\n",
       "      <td>Lesion size reduction &gt; 50%</td>\n",
       "      <td>0</td>\n",
       "      <td>range</td>\n",
       "      <td>NaN</td>\n",
       "      <td>NaN</td>\n",
       "      <td>50</td>\n",
       "      <td>100</td>\n",
       "      <td>0</td>\n",
       "    </tr>\n",
       "    <tr>\n",
       "      <th>9</th>\n",
       "      <td>1262</td>\n",
       "      <td>triamcilone</td>\n",
       "      <td>1 to 5</td>\n",
       "      <td>mg/kg</td>\n",
       "      <td>intralesional</td>\n",
       "      <td>25</td>\n",
       "      <td>Lesion size reduction &lt; 50%</td>\n",
       "      <td>8 (32)</td>\n",
       "      <td>range</td>\n",
       "      <td>NaN</td>\n",
       "      <td>NaN</td>\n",
       "      <td>10</td>\n",
       "      <td>50</td>\n",
       "      <td>8</td>\n",
       "    </tr>\n",
       "    <tr>\n",
       "      <th>10</th>\n",
       "      <td>1262</td>\n",
       "      <td>prednisolone</td>\n",
       "      <td>2</td>\n",
       "      <td>mg/kg</td>\n",
       "      <td>oral</td>\n",
       "      <td>25</td>\n",
       "      <td>Lesion size reduction &lt; 50%</td>\n",
       "      <td>11 (44)</td>\n",
       "      <td>range</td>\n",
       "      <td>NaN</td>\n",
       "      <td>NaN</td>\n",
       "      <td>10</td>\n",
       "      <td>50</td>\n",
       "      <td>11</td>\n",
       "    </tr>\n",
       "    <tr>\n",
       "      <th>11</th>\n",
       "      <td>1262</td>\n",
       "      <td>control</td>\n",
       "      <td>no treatment</td>\n",
       "      <td>NaN</td>\n",
       "      <td>none</td>\n",
       "      <td>25</td>\n",
       "      <td>Lesion size reduction &lt; 50%</td>\n",
       "      <td>1 (4)</td>\n",
       "      <td>range</td>\n",
       "      <td>NaN</td>\n",
       "      <td>NaN</td>\n",
       "      <td>10</td>\n",
       "      <td>50</td>\n",
       "      <td>1</td>\n",
       "    </tr>\n",
       "    <tr>\n",
       "      <th>12</th>\n",
       "      <td>1262</td>\n",
       "      <td>triamcilone</td>\n",
       "      <td>1 to 5</td>\n",
       "      <td>mg/kg</td>\n",
       "      <td>intralesional</td>\n",
       "      <td>25</td>\n",
       "      <td>Lesion size reduction little or none</td>\n",
       "      <td>6 (24)</td>\n",
       "      <td>range</td>\n",
       "      <td>NaN</td>\n",
       "      <td>NaN</td>\n",
       "      <td>0</td>\n",
       "      <td>10</td>\n",
       "      <td>6</td>\n",
       "    </tr>\n",
       "    <tr>\n",
       "      <th>13</th>\n",
       "      <td>1262</td>\n",
       "      <td>prednisolone</td>\n",
       "      <td>2</td>\n",
       "      <td>mg/kg</td>\n",
       "      <td>oral</td>\n",
       "      <td>25</td>\n",
       "      <td>Lesion size reduction little or none</td>\n",
       "      <td>6 (24)</td>\n",
       "      <td>range</td>\n",
       "      <td>NaN</td>\n",
       "      <td>NaN</td>\n",
       "      <td>0</td>\n",
       "      <td>10</td>\n",
       "      <td>6</td>\n",
       "    </tr>\n",
       "    <tr>\n",
       "      <th>14</th>\n",
       "      <td>1262</td>\n",
       "      <td>control</td>\n",
       "      <td>no treatment</td>\n",
       "      <td>NaN</td>\n",
       "      <td>none</td>\n",
       "      <td>25</td>\n",
       "      <td>Lesion size reduction little or none</td>\n",
       "      <td>19 (76)</td>\n",
       "      <td>range</td>\n",
       "      <td>NaN</td>\n",
       "      <td>NaN</td>\n",
       "      <td>0</td>\n",
       "      <td>10</td>\n",
       "      <td>19</td>\n",
       "    </tr>\n",
       "  </tbody>\n",
       "</table>\n",
       "</div>"
      ],
      "text/plain": [
       "    REFID           Arm        Dosage Dosage amount    Dosage form  \\\n",
       "6    1262   triamcilone        1 to 5         mg/kg  intralesional   \n",
       "7    1262  prednisolone             2         mg/kg           oral   \n",
       "8    1262       control  no treatment           NaN           none   \n",
       "9    1262   triamcilone        1 to 5         mg/kg  intralesional   \n",
       "10   1262  prednisolone             2         mg/kg           oral   \n",
       "11   1262       control  no treatment           NaN           none   \n",
       "12   1262   triamcilone        1 to 5         mg/kg  intralesional   \n",
       "13   1262  prednisolone             2         mg/kg           oral   \n",
       "14   1262       control  no treatment           NaN           none   \n",
       "\n",
       "    N at follow-up                               Outcome Outcome data/result  \\\n",
       "6               25           Lesion size reduction > 50%             11 (44)   \n",
       "7               25           Lesion size reduction > 50%              8 (32)   \n",
       "8               25           Lesion size reduction > 50%                   0   \n",
       "9               25           Lesion size reduction < 50%              8 (32)   \n",
       "10              25           Lesion size reduction < 50%             11 (44)   \n",
       "11              25           Lesion size reduction < 50%               1 (4)   \n",
       "12              25  Lesion size reduction little or none              6 (24)   \n",
       "13              25  Lesion size reduction little or none              6 (24)   \n",
       "14              25  Lesion size reduction little or none             19 (76)   \n",
       "\n",
       "   Outcome data  Point estimate   sd  Lower range  Upper range  \\\n",
       "6         range             NaN  NaN           50          100   \n",
       "7         range             NaN  NaN           50          100   \n",
       "8         range             NaN  NaN           50          100   \n",
       "9         range             NaN  NaN           10           50   \n",
       "10        range             NaN  NaN           10           50   \n",
       "11        range             NaN  NaN           10           50   \n",
       "12        range             NaN  NaN            0           10   \n",
       "13        range             NaN  NaN            0           10   \n",
       "14        range             NaN  NaN            0           10   \n",
       "\n",
       "   Outcome data/result N  \n",
       "6                     11  \n",
       "7                      8  \n",
       "8                      0  \n",
       "9                      8  \n",
       "10                    11  \n",
       "11                     1  \n",
       "12                     6  \n",
       "13                     6  \n",
       "14                    19  "
      ]
     },
     "execution_count": 38,
     "metadata": {},
     "output_type": "execute_result"
    }
   ],
   "source": [
    "kq2_outcomes[kq2_outcomes.REFID==1262][subset_cols]"
   ]
  },
  {
   "cell_type": "code",
   "execution_count": 39,
   "metadata": {
    "collapsed": false
   },
   "outputs": [],
   "source": [
    "refid1262 = np.where(unique_studies==1262)[0][0]"
   ]
  },
  {
   "cell_type": "code",
   "execution_count": 40,
   "metadata": {
    "collapsed": false
   },
   "outputs": [],
   "source": [
    "if quality_scores[1262] >= quality_thresh:\n",
    "\n",
    "    @pm.deterministic\n",
    "    def mu_triamcinolone_1262(μ=μ, θ=θ, ϵ=ϵ):\n",
    "        # Mean response on the logit scale for triamcinolone in RefID 1262\n",
    "        return μ + θ[TRIAMCINOLONE] + ϵ[refid1262]\n",
    "\n",
    "\n",
    "    @pm.deterministic\n",
    "    def p_triamcinolone_1262(μ=mu_triamcinolone_1262, τ=τ):\n",
    "        # Response category probabilities for triamcinolone in RefID 1262\n",
    "        c1 = norm.cdf(pm.logit(0.1), μ, τ[TRIAMCINOLONE]**-1)\n",
    "        c2 = norm.cdf(pm.logit(0.5), μ, τ[TRIAMCINOLONE]**-1)\n",
    "        return c1, c2-c1, 1-c2   \n",
    "\n",
    "    # Multinomial likelihood for triamcinolone in RefID 1263\n",
    "    y_triamcinolone_1262 = pm.Multinomial('y_triamcilone_1262', 25, p_triamcinolone_1262, value=[6, 8, 11], \n",
    "                                          observed=True)\n",
    "    # Posterior predictive check\n",
    "    pred_triamcinolone_1262 = pm.Multinomial('pred_triamcilone_1262', 25, p_triamcinolone_1262, value=[6, 8, 11])"
   ]
  },
  {
   "cell_type": "code",
   "execution_count": 41,
   "metadata": {
    "collapsed": false
   },
   "outputs": [],
   "source": [
    "if quality_scores[1262] >= quality_thresh:\n",
    "\n",
    "    @pm.deterministic\n",
    "    def mu_prednisolone_1262(μ=μ, θ=θ, ϵ=ϵ):\n",
    "        # Mean response on the logit scale for prednisolone in RefID 1262\n",
    "        return μ + θ[ORAL_STEROID] + ϵ[refid1262]\n",
    "\n",
    "\n",
    "    @pm.deterministic\n",
    "    def p_prednisolone_1262(μ=mu_prednisolone_1262, τ=τ):\n",
    "        # Response category probabilities for prednisolone in RefID 1262\n",
    "        c1 = norm.cdf(pm.logit(0.1), μ, τ[ORAL_STEROID]**-1)\n",
    "        c2 = norm.cdf(pm.logit(0.5), μ, τ[ORAL_STEROID]**-1)\n",
    "        return c1, c2-c1, 1-c2   \n",
    "\n",
    "    # Multinomial likelihood for prednisolone in RefID 1262\n",
    "    y_prednisolone_1262 = pm.Multinomial('y_prednisolone_1262', 25, p_prednisolone_1262, value=[6, 11, 8], \n",
    "                                         observed=True)\n",
    "    # Posterior predictive check\n",
    "    pred_prednisolone_1262 = pm.Multinomial('pred_prednisolone_1262', 25, p_prednisolone_1262, value=[6, 11, 8])"
   ]
  },
  {
   "cell_type": "code",
   "execution_count": 42,
   "metadata": {
    "collapsed": false
   },
   "outputs": [],
   "source": [
    "if quality_scores[1262] >= quality_thresh:\n",
    "\n",
    "    @pm.deterministic\n",
    "    def mu_control_1262(μ=μ, ϵ=ϵ):\n",
    "        # Mean response on the logit scale for control in RefID 1262\n",
    "        return μ + ϵ[refid1262]\n",
    "\n",
    "\n",
    "    @pm.deterministic\n",
    "    def p_control_1262(μ=mu_control_1262, τ=τ):\n",
    "        # Response category probabilities for prednisolone in RefID 1262\n",
    "        c1 = norm.cdf(pm.logit(0.01), μ, τ[-1]**-1)\n",
    "        c2 = norm.cdf(pm.logit(0.1), μ, τ[-1]**-1)\n",
    "        c3 = norm.cdf(pm.logit(0.5), μ, τ[-1]**-1)\n",
    "        return c1, c2-c1, c3-c2, 1-c3 \n",
    "\n",
    "    # Multinomial likelihood for control in RefID 1262\n",
    "    y_control_1262 = pm.Multinomial('y_control_1262', 25, p_control_1262, value=[5, 19, 1, 0], observed=True)\n",
    "    # Posterior predictive check\n",
    "    pred_control_1262 = pm.Multinomial('pred_control_1262', 25, p_control_1262, value=[5, 19, 1, 0])"
   ]
  },
  {
   "cell_type": "markdown",
   "metadata": {},
   "source": [
    "### Zahar 2013 (RefID 43)"
   ]
  },
  {
   "cell_type": "code",
   "execution_count": 43,
   "metadata": {
    "collapsed": false
   },
   "outputs": [
    {
     "data": {
      "text/html": [
       "<div>\n",
       "<table border=\"1\" class=\"dataframe\">\n",
       "  <thead>\n",
       "    <tr style=\"text-align: right;\">\n",
       "      <th></th>\n",
       "      <th>REFID</th>\n",
       "      <th>Arm</th>\n",
       "      <th>Dosage</th>\n",
       "      <th>Dosage amount</th>\n",
       "      <th>Dosage form</th>\n",
       "      <th>N at follow-up</th>\n",
       "      <th>Outcome</th>\n",
       "      <th>Outcome data/result</th>\n",
       "      <th>Outcome data</th>\n",
       "      <th>Point estimate</th>\n",
       "      <th>sd</th>\n",
       "      <th>Lower range</th>\n",
       "      <th>Upper range</th>\n",
       "      <th>Outcome data/result N</th>\n",
       "    </tr>\n",
       "  </thead>\n",
       "  <tbody>\n",
       "    <tr>\n",
       "      <th>15</th>\n",
       "      <td>43</td>\n",
       "      <td>propranolol</td>\n",
       "      <td>2</td>\n",
       "      <td>mg/kg</td>\n",
       "      <td>oral</td>\n",
       "      <td>15</td>\n",
       "      <td>Excellent response (complete resolution)</td>\n",
       "      <td>9 (60)</td>\n",
       "      <td>range</td>\n",
       "      <td>NaN</td>\n",
       "      <td>NaN</td>\n",
       "      <td>99</td>\n",
       "      <td>100</td>\n",
       "      <td>9</td>\n",
       "    </tr>\n",
       "    <tr>\n",
       "      <th>16</th>\n",
       "      <td>43</td>\n",
       "      <td>propranolol</td>\n",
       "      <td>0.01</td>\n",
       "      <td>BID</td>\n",
       "      <td>topical</td>\n",
       "      <td>15</td>\n",
       "      <td>Excellent response (complete resolution)</td>\n",
       "      <td>3 (20)</td>\n",
       "      <td>range</td>\n",
       "      <td>NaN</td>\n",
       "      <td>NaN</td>\n",
       "      <td>99</td>\n",
       "      <td>100</td>\n",
       "      <td>3</td>\n",
       "    </tr>\n",
       "    <tr>\n",
       "      <th>17</th>\n",
       "      <td>43</td>\n",
       "      <td>propranolol</td>\n",
       "      <td>1</td>\n",
       "      <td>mg/ml</td>\n",
       "      <td>intralesional</td>\n",
       "      <td>15</td>\n",
       "      <td>Excellent response (complete resolution)</td>\n",
       "      <td>2 (13.3)</td>\n",
       "      <td>range</td>\n",
       "      <td>NaN</td>\n",
       "      <td>NaN</td>\n",
       "      <td>99</td>\n",
       "      <td>100</td>\n",
       "      <td>2</td>\n",
       "    </tr>\n",
       "    <tr>\n",
       "      <th>18</th>\n",
       "      <td>43</td>\n",
       "      <td>propranolol</td>\n",
       "      <td>2</td>\n",
       "      <td>mg/kg</td>\n",
       "      <td>oral</td>\n",
       "      <td>15</td>\n",
       "      <td>Good response (≥50% reduction in size of IH)</td>\n",
       "      <td>2 (13.3)</td>\n",
       "      <td>range</td>\n",
       "      <td>NaN</td>\n",
       "      <td>NaN</td>\n",
       "      <td>50</td>\n",
       "      <td>99</td>\n",
       "      <td>2</td>\n",
       "    </tr>\n",
       "    <tr>\n",
       "      <th>19</th>\n",
       "      <td>43</td>\n",
       "      <td>propranolol</td>\n",
       "      <td>0.01</td>\n",
       "      <td>BID</td>\n",
       "      <td>topical</td>\n",
       "      <td>15</td>\n",
       "      <td>Good response (≥50% reduction in size of IH)</td>\n",
       "      <td>5 (33.3)</td>\n",
       "      <td>range</td>\n",
       "      <td>NaN</td>\n",
       "      <td>NaN</td>\n",
       "      <td>50</td>\n",
       "      <td>99</td>\n",
       "      <td>5</td>\n",
       "    </tr>\n",
       "    <tr>\n",
       "      <th>20</th>\n",
       "      <td>43</td>\n",
       "      <td>propranolol</td>\n",
       "      <td>1</td>\n",
       "      <td>mg/ml</td>\n",
       "      <td>intralesional</td>\n",
       "      <td>15</td>\n",
       "      <td>Good response (≥50% reduction in size of IH)</td>\n",
       "      <td>3 (20)</td>\n",
       "      <td>range</td>\n",
       "      <td>NaN</td>\n",
       "      <td>NaN</td>\n",
       "      <td>50</td>\n",
       "      <td>99</td>\n",
       "      <td>3</td>\n",
       "    </tr>\n",
       "    <tr>\n",
       "      <th>21</th>\n",
       "      <td>43</td>\n",
       "      <td>propranolol</td>\n",
       "      <td>2</td>\n",
       "      <td>mg/kg</td>\n",
       "      <td>oral</td>\n",
       "      <td>15</td>\n",
       "      <td>Fair response (&lt;50% reduction in size of IH)</td>\n",
       "      <td>1 (6.7)</td>\n",
       "      <td>range</td>\n",
       "      <td>NaN</td>\n",
       "      <td>NaN</td>\n",
       "      <td>1</td>\n",
       "      <td>50</td>\n",
       "      <td>1</td>\n",
       "    </tr>\n",
       "    <tr>\n",
       "      <th>22</th>\n",
       "      <td>43</td>\n",
       "      <td>propranolol</td>\n",
       "      <td>0.01</td>\n",
       "      <td>BID</td>\n",
       "      <td>topical</td>\n",
       "      <td>15</td>\n",
       "      <td>Fair response (&lt;50% reduction in size of IH)</td>\n",
       "      <td>2 (13.3)</td>\n",
       "      <td>range</td>\n",
       "      <td>NaN</td>\n",
       "      <td>NaN</td>\n",
       "      <td>1</td>\n",
       "      <td>50</td>\n",
       "      <td>2</td>\n",
       "    </tr>\n",
       "    <tr>\n",
       "      <th>23</th>\n",
       "      <td>43</td>\n",
       "      <td>propranolol</td>\n",
       "      <td>1</td>\n",
       "      <td>mg/ml</td>\n",
       "      <td>intralesional</td>\n",
       "      <td>15</td>\n",
       "      <td>Fair response (&lt;50% reduction in size of IH)</td>\n",
       "      <td>3 (20)</td>\n",
       "      <td>range</td>\n",
       "      <td>NaN</td>\n",
       "      <td>NaN</td>\n",
       "      <td>1</td>\n",
       "      <td>50</td>\n",
       "      <td>3</td>\n",
       "    </tr>\n",
       "    <tr>\n",
       "      <th>24</th>\n",
       "      <td>43</td>\n",
       "      <td>propranolol</td>\n",
       "      <td>2</td>\n",
       "      <td>mg/kg</td>\n",
       "      <td>oral</td>\n",
       "      <td>15</td>\n",
       "      <td>Poor response (no response, worsening of IH)</td>\n",
       "      <td>3 (20)</td>\n",
       "      <td>scalar</td>\n",
       "      <td>NaN</td>\n",
       "      <td>NaN</td>\n",
       "      <td>0</td>\n",
       "      <td>1</td>\n",
       "      <td>3</td>\n",
       "    </tr>\n",
       "    <tr>\n",
       "      <th>25</th>\n",
       "      <td>43</td>\n",
       "      <td>propranolol</td>\n",
       "      <td>0.01</td>\n",
       "      <td>BID</td>\n",
       "      <td>topical</td>\n",
       "      <td>15</td>\n",
       "      <td>Poor response (no response, worsening of IH)</td>\n",
       "      <td>5 (33.3)</td>\n",
       "      <td>scalar</td>\n",
       "      <td>NaN</td>\n",
       "      <td>NaN</td>\n",
       "      <td>0</td>\n",
       "      <td>1</td>\n",
       "      <td>5</td>\n",
       "    </tr>\n",
       "    <tr>\n",
       "      <th>26</th>\n",
       "      <td>43</td>\n",
       "      <td>propranolol</td>\n",
       "      <td>1</td>\n",
       "      <td>mg/ml</td>\n",
       "      <td>intralesional</td>\n",
       "      <td>15</td>\n",
       "      <td>Poor response (no response, worsening of IH)</td>\n",
       "      <td>7 (46.7)</td>\n",
       "      <td>scalar</td>\n",
       "      <td>NaN</td>\n",
       "      <td>NaN</td>\n",
       "      <td>0</td>\n",
       "      <td>1</td>\n",
       "      <td>7</td>\n",
       "    </tr>\n",
       "  </tbody>\n",
       "</table>\n",
       "</div>"
      ],
      "text/plain": [
       "    REFID          Arm Dosage Dosage amount    Dosage form  N at follow-up  \\\n",
       "15     43  propranolol      2         mg/kg           oral              15   \n",
       "16     43  propranolol   0.01           BID        topical              15   \n",
       "17     43  propranolol      1         mg/ml  intralesional              15   \n",
       "18     43  propranolol      2         mg/kg           oral              15   \n",
       "19     43  propranolol   0.01           BID        topical              15   \n",
       "20     43  propranolol      1         mg/ml  intralesional              15   \n",
       "21     43  propranolol      2         mg/kg           oral              15   \n",
       "22     43  propranolol   0.01           BID        topical              15   \n",
       "23     43  propranolol      1         mg/ml  intralesional              15   \n",
       "24     43  propranolol      2         mg/kg           oral              15   \n",
       "25     43  propranolol   0.01           BID        topical              15   \n",
       "26     43  propranolol      1         mg/ml  intralesional              15   \n",
       "\n",
       "                                         Outcome Outcome data/result  \\\n",
       "15      Excellent response (complete resolution)              9 (60)   \n",
       "16      Excellent response (complete resolution)              3 (20)   \n",
       "17      Excellent response (complete resolution)            2 (13.3)   \n",
       "18  Good response (≥50% reduction in size of IH)            2 (13.3)   \n",
       "19  Good response (≥50% reduction in size of IH)            5 (33.3)   \n",
       "20  Good response (≥50% reduction in size of IH)              3 (20)   \n",
       "21  Fair response (<50% reduction in size of IH)             1 (6.7)   \n",
       "22  Fair response (<50% reduction in size of IH)            2 (13.3)   \n",
       "23  Fair response (<50% reduction in size of IH)              3 (20)   \n",
       "24  Poor response (no response, worsening of IH)              3 (20)   \n",
       "25  Poor response (no response, worsening of IH)            5 (33.3)   \n",
       "26  Poor response (no response, worsening of IH)            7 (46.7)   \n",
       "\n",
       "   Outcome data  Point estimate   sd  Lower range  Upper range  \\\n",
       "15        range             NaN  NaN           99          100   \n",
       "16        range             NaN  NaN           99          100   \n",
       "17        range             NaN  NaN           99          100   \n",
       "18        range             NaN  NaN           50           99   \n",
       "19        range             NaN  NaN           50           99   \n",
       "20        range             NaN  NaN           50           99   \n",
       "21        range             NaN  NaN            1           50   \n",
       "22        range             NaN  NaN            1           50   \n",
       "23        range             NaN  NaN            1           50   \n",
       "24       scalar             NaN  NaN            0            1   \n",
       "25       scalar             NaN  NaN            0            1   \n",
       "26       scalar             NaN  NaN            0            1   \n",
       "\n",
       "   Outcome data/result N  \n",
       "15                     9  \n",
       "16                     3  \n",
       "17                     2  \n",
       "18                     2  \n",
       "19                     5  \n",
       "20                     3  \n",
       "21                     1  \n",
       "22                     2  \n",
       "23                     3  \n",
       "24                     3  \n",
       "25                     5  \n",
       "26                     7  "
      ]
     },
     "execution_count": 43,
     "metadata": {},
     "output_type": "execute_result"
    }
   ],
   "source": [
    "kq2_outcomes[kq2_outcomes.REFID==43][subset_cols]"
   ]
  },
  {
   "cell_type": "code",
   "execution_count": 44,
   "metadata": {
    "collapsed": true
   },
   "outputs": [],
   "source": [
    "refid43 = np.where(unique_studies==43)[0][0]"
   ]
  },
  {
   "cell_type": "code",
   "execution_count": 45,
   "metadata": {
    "collapsed": false
   },
   "outputs": [],
   "source": [
    "if quality_scores[43] >= quality_thresh:\n",
    "\n",
    "    @pm.deterministic\n",
    "    def mu_propranolol_oral_43(μ=μ, θ=θ, ϵ=ϵ):\n",
    "        # Mean response on the logit scale for oral propranolol in RefID 43\n",
    "        return μ + θ[PROPRANOLOL] + ϵ[refid43]\n",
    "\n",
    "    @pm.deterministic\n",
    "    def mu_propranolol_oral_43(μ=μ, θ=θ, ϵ=ϵ):\n",
    "        # Mean response on the logit scale for oral propranolol in RefID 43\n",
    "        return μ + θ[PROPRANOLOL] + ϵ[refid43]\n",
    "    @pm.deterministic\n",
    "    def p_propranolol_oral_43(μ=mu_propranolol_oral_43, τ=τ):\n",
    "        # Response category probabilities for oral propranolol in RefID 43\n",
    "        c1 = norm.cdf(pm.logit(0.01), μ, τ[PROPRANOLOL]**-1)\n",
    "        c2 = norm.cdf(pm.logit(0.50), μ, τ[PROPRANOLOL]**-1)\n",
    "        c3 = norm.cdf(pm.logit(0.99), μ, τ[PROPRANOLOL]**-1)\n",
    "        return c1, c2-c1, c3-c2, 1-c3  \n",
    "\n",
    "    # Multinomial likelihood for oral propranolol in RefID 43\n",
    "    y_propranolol_oral_43 = pm.Multinomial('y_propranolol_oral_43', 15, p_propranolol_oral_43, value=[3, 1, 2, 9], \n",
    "                                          observed=True)\n",
    "    # Posterior predictive check\n",
    "    pred_propranolol_oral_43 = pm.Multinomial('pred_propranolol_oral_43', 15, p_propranolol_oral_43, \n",
    "                                              value=[3, 1, 2, 9])"
   ]
  },
  {
   "cell_type": "code",
   "execution_count": 46,
   "metadata": {
    "collapsed": false
   },
   "outputs": [],
   "source": [
    "if quality_scores[43] >= quality_thresh:\n",
    "\n",
    "    @pm.deterministic\n",
    "    def mu_propranolol_intralesional_43(μ=μ, θ=θ, ϕ=ϕ, ϵ=ϵ):\n",
    "        # Mean response on the logit scale for intralesional propranolol in RefID 43\n",
    "        return μ + θ[PROPRANOLOL] + ϕ + ϵ[refid43]\n",
    "\n",
    "\n",
    "    @pm.deterministic\n",
    "    def p_propranolol_intralesional_43(μ=mu_propranolol_intralesional_43, τ=τ):\n",
    "        # Response category probabilities for intralesional propranolol in RefID 43\n",
    "        c1 = norm.cdf(pm.logit(0.01), μ, τ[PROPRANOLOL]**-1)\n",
    "        c2 = norm.cdf(pm.logit(0.50), μ, τ[PROPRANOLOL]**-1)\n",
    "        c3 = norm.cdf(pm.logit(0.99), μ, τ[PROPRANOLOL]**-1)\n",
    "        return c1, c2-c1, c3-c2, 1-c3  \n",
    "\n",
    "    # Multinomial likelihood for intralesional propranolol in RefID 43\n",
    "    y_propranolol_intralesional_43 = pm.Multinomial('y_propranolol_intralesional_43', \n",
    "                                                    15, p_propranolol_intralesional_43, \n",
    "                                                   value=[7, 3, 3, 2], observed=True)\n",
    "    # posterior predictive check\n",
    "    pred_propranolol_intralesional_43 = pm.Multinomial('pred_propranolol_intralesional_43', \n",
    "                                                       15, p_propranolol_intralesional_43, value=[7, 3, 3, 2])"
   ]
  },
  {
   "cell_type": "markdown",
   "metadata": {},
   "source": [
    "### Bauman 2014 (RefID 13)\n",
    "\n",
    "This data was given as a mean change on TSA, with 95% confidence interval. We will use a normal factor potential on augmented data based on the estimated mean, and the back-calculated standard deviation."
   ]
  },
  {
   "cell_type": "code",
   "execution_count": 47,
   "metadata": {
    "collapsed": false
   },
   "outputs": [
    {
     "data": {
      "text/html": [
       "<div>\n",
       "<table border=\"1\" class=\"dataframe\">\n",
       "  <thead>\n",
       "    <tr style=\"text-align: right;\">\n",
       "      <th></th>\n",
       "      <th>REFID</th>\n",
       "      <th>Arm</th>\n",
       "      <th>Dosage</th>\n",
       "      <th>Dosage amount</th>\n",
       "      <th>Dosage form</th>\n",
       "      <th>N at follow-up</th>\n",
       "      <th>Outcome</th>\n",
       "      <th>Outcome data/result</th>\n",
       "      <th>Outcome data</th>\n",
       "      <th>Point estimate</th>\n",
       "      <th>sd</th>\n",
       "      <th>Lower range</th>\n",
       "      <th>Upper range</th>\n",
       "      <th>Outcome data/result N</th>\n",
       "    </tr>\n",
       "  </thead>\n",
       "  <tbody>\n",
       "    <tr>\n",
       "      <th>27</th>\n",
       "      <td>13</td>\n",
       "      <td>propranolol</td>\n",
       "      <td>2</td>\n",
       "      <td>mg/kg</td>\n",
       "      <td>oral</td>\n",
       "      <td>9</td>\n",
       "      <td>Change in TSA, square millimeters</td>\n",
       "      <td>0.64 [0.44-0.83]</td>\n",
       "      <td>estimate</td>\n",
       "      <td>0.64</td>\n",
       "      <td>Back calculate</td>\n",
       "      <td>NaN</td>\n",
       "      <td>NaN</td>\n",
       "      <td>NaN</td>\n",
       "    </tr>\n",
       "    <tr>\n",
       "      <th>28</th>\n",
       "      <td>13</td>\n",
       "      <td>prednisolone</td>\n",
       "      <td>2</td>\n",
       "      <td>mg/kg</td>\n",
       "      <td>oral</td>\n",
       "      <td>6</td>\n",
       "      <td>Change in TSA, square millimeters</td>\n",
       "      <td>0.41 [0.10-0.72]</td>\n",
       "      <td>estimate</td>\n",
       "      <td>0.41</td>\n",
       "      <td>Back calculate</td>\n",
       "      <td>NaN</td>\n",
       "      <td>NaN</td>\n",
       "      <td>NaN</td>\n",
       "    </tr>\n",
       "  </tbody>\n",
       "</table>\n",
       "</div>"
      ],
      "text/plain": [
       "    REFID           Arm Dosage Dosage amount Dosage form  N at follow-up  \\\n",
       "27     13   propranolol      2         mg/kg        oral               9   \n",
       "28     13  prednisolone      2         mg/kg        oral               6   \n",
       "\n",
       "                              Outcome Outcome data/result Outcome data  \\\n",
       "27  Change in TSA, square millimeters    0.64 [0.44-0.83]     estimate   \n",
       "28  Change in TSA, square millimeters    0.41 [0.10-0.72]     estimate   \n",
       "\n",
       "    Point estimate              sd  Lower range  Upper range  \\\n",
       "27            0.64  Back calculate          NaN          NaN   \n",
       "28            0.41  Back calculate          NaN          NaN   \n",
       "\n",
       "   Outcome data/result N  \n",
       "27                   NaN  \n",
       "28                   NaN  "
      ]
     },
     "execution_count": 47,
     "metadata": {},
     "output_type": "execute_result"
    }
   ],
   "source": [
    "kq2_outcomes[kq2_outcomes.REFID==13][subset_cols]"
   ]
  },
  {
   "cell_type": "code",
   "execution_count": 48,
   "metadata": {
    "collapsed": true
   },
   "outputs": [],
   "source": [
    "refid13 = np.where(unique_studies==13)[0][0]"
   ]
  },
  {
   "cell_type": "code",
   "execution_count": 49,
   "metadata": {
    "collapsed": false
   },
   "outputs": [],
   "source": [
    "_propranolol_sd = 9 * (0.83 - 0.44) / 3.92\n",
    "_prednisolone_sd = 6 * (0.72 - 0.10) / 3.92"
   ]
  },
  {
   "cell_type": "code",
   "execution_count": 50,
   "metadata": {
    "collapsed": false
   },
   "outputs": [],
   "source": [
    "propranolol_13_var = (_propranolol_sd**2) / (0.64 * (1-0.64))**2\n",
    "prednisolone_13_var = (_prednisolone_sd**2) / (0.41 * (1-0.41))**2"
   ]
  },
  {
   "cell_type": "code",
   "execution_count": 51,
   "metadata": {
    "collapsed": false
   },
   "outputs": [],
   "source": [
    "if quality_scores[13] >= quality_thresh:\n",
    "\n",
    "    @pm.deterministic\n",
    "    def mu_propranolol_13(μ=μ, θ=θ, ϵ=ϵ):\n",
    "        # Mean response on the logit scale for oral propranolol in RefID 13\n",
    "        return μ + θ[PROPRANOLOL] + ϵ[refid13]\n",
    "\n",
    "    propranolol_obs_13 = pm.Normal('propranolol_obs_13', mu_propranolol_13, propranolol_13_var**-1, \n",
    "                                   value=pm.logit(0.64), observed=True)\n",
    "    pred_propranolol_13 = pm.Normal('pred_propranolol_13', mu_propranolol_13, propranolol_13_var**-1,\n",
    "                                   value=pm.logit(0.64))\n",
    "    \n",
    "    @pm.deterministic\n",
    "    def mu_prednisolone_13(μ=μ, θ=θ, ϵ=ϵ):\n",
    "        # Mean response on the logit scale for prednisolone in RefID 43\n",
    "        return μ + θ[ORAL_STEROID] + ϵ[refid13]\n",
    "\n",
    "    prednisolone_obs_13 = pm.Normal('prednisolone_obs_13', mu_prednisolone_13, prednisolone_13_var**-1, \n",
    "                                    value=pm.logit(0.41), observed=True)\n",
    "    pred_prednisolone_13 = pm.Normal('pred_prednisolone_13', mu_prednisolone_13, prednisolone_13_var**-1,\n",
    "                                    value=pm.logit(0.41))"
   ]
  },
  {
   "cell_type": "markdown",
   "metadata": {},
   "source": [
    "### Hogeling 2011 (RefID 445)"
   ]
  },
  {
   "cell_type": "code",
   "execution_count": 52,
   "metadata": {
    "collapsed": false
   },
   "outputs": [
    {
     "data": {
      "text/html": [
       "<div>\n",
       "<table border=\"1\" class=\"dataframe\">\n",
       "  <thead>\n",
       "    <tr style=\"text-align: right;\">\n",
       "      <th></th>\n",
       "      <th>REFID</th>\n",
       "      <th>Arm</th>\n",
       "      <th>Dosage</th>\n",
       "      <th>Dosage amount</th>\n",
       "      <th>Dosage form</th>\n",
       "      <th>N at follow-up</th>\n",
       "      <th>Outcome</th>\n",
       "      <th>Outcome data/result</th>\n",
       "      <th>Outcome data</th>\n",
       "      <th>Point estimate</th>\n",
       "      <th>sd</th>\n",
       "      <th>Lower range</th>\n",
       "      <th>Upper range</th>\n",
       "      <th>Outcome data/result N</th>\n",
       "    </tr>\n",
       "  </thead>\n",
       "  <tbody>\n",
       "    <tr>\n",
       "      <th>29</th>\n",
       "      <td>445</td>\n",
       "      <td>propranolol</td>\n",
       "      <td>2</td>\n",
       "      <td>mg/kg</td>\n",
       "      <td>oral</td>\n",
       "      <td>18</td>\n",
       "      <td>Change in volume</td>\n",
       "      <td>-60</td>\n",
       "      <td>estimate</td>\n",
       "      <td>0.600</td>\n",
       "      <td>NaN</td>\n",
       "      <td>NaN</td>\n",
       "      <td>NaN</td>\n",
       "      <td>18</td>\n",
       "    </tr>\n",
       "    <tr>\n",
       "      <th>30</th>\n",
       "      <td>445</td>\n",
       "      <td>placebo</td>\n",
       "      <td>NaN</td>\n",
       "      <td>NaN</td>\n",
       "      <td>none</td>\n",
       "      <td>15</td>\n",
       "      <td>Change in volume</td>\n",
       "      <td>-14.1</td>\n",
       "      <td>estimate</td>\n",
       "      <td>0.147</td>\n",
       "      <td>NaN</td>\n",
       "      <td>NaN</td>\n",
       "      <td>NaN</td>\n",
       "      <td>15</td>\n",
       "    </tr>\n",
       "  </tbody>\n",
       "</table>\n",
       "</div>"
      ],
      "text/plain": [
       "    REFID          Arm Dosage Dosage amount Dosage form  N at follow-up  \\\n",
       "29    445  propranolol      2         mg/kg        oral              18   \n",
       "30    445      placebo    NaN           NaN        none              15   \n",
       "\n",
       "             Outcome Outcome data/result Outcome data  Point estimate   sd  \\\n",
       "29  Change in volume                 -60     estimate           0.600  NaN   \n",
       "30  Change in volume               -14.1     estimate           0.147  NaN   \n",
       "\n",
       "    Lower range  Upper range Outcome data/result N  \n",
       "29          NaN          NaN                    18  \n",
       "30          NaN          NaN                    15  "
      ]
     },
     "execution_count": 52,
     "metadata": {},
     "output_type": "execute_result"
    }
   ],
   "source": [
    "kq2_outcomes[kq2_outcomes.REFID==445][subset_cols]"
   ]
  },
  {
   "cell_type": "markdown",
   "metadata": {},
   "source": [
    "Hogeling et al did not report a measure of uncertainty with the effect sizes, therefore this study must be excluded from the meta-analysis."
   ]
  },
  {
   "cell_type": "markdown",
   "metadata": {},
   "source": [
    "### Leaute-Labreze 2015 (RefID 3740)"
   ]
  },
  {
   "cell_type": "code",
   "execution_count": 53,
   "metadata": {
    "collapsed": false
   },
   "outputs": [
    {
     "data": {
      "text/html": [
       "<div>\n",
       "<table border=\"1\" class=\"dataframe\">\n",
       "  <thead>\n",
       "    <tr style=\"text-align: right;\">\n",
       "      <th></th>\n",
       "      <th>REFID</th>\n",
       "      <th>Arm</th>\n",
       "      <th>Dosage</th>\n",
       "      <th>Dosage amount</th>\n",
       "      <th>Dosage form</th>\n",
       "      <th>N at follow-up</th>\n",
       "      <th>Outcome</th>\n",
       "      <th>Outcome data/result</th>\n",
       "      <th>Outcome data</th>\n",
       "      <th>Point estimate</th>\n",
       "      <th>sd</th>\n",
       "      <th>Lower range</th>\n",
       "      <th>Upper range</th>\n",
       "      <th>Outcome data/result N</th>\n",
       "    </tr>\n",
       "  </thead>\n",
       "  <tbody>\n",
       "    <tr>\n",
       "      <th>31</th>\n",
       "      <td>3740</td>\n",
       "      <td>propranolol</td>\n",
       "      <td>3</td>\n",
       "      <td>mg/kg</td>\n",
       "      <td>oral</td>\n",
       "      <td>101</td>\n",
       "      <td>Complete or nearly complete resolution</td>\n",
       "      <td>61 (60)</td>\n",
       "      <td>range</td>\n",
       "      <td>NaN</td>\n",
       "      <td>NaN</td>\n",
       "      <td>90</td>\n",
       "      <td>100</td>\n",
       "      <td>61</td>\n",
       "    </tr>\n",
       "    <tr>\n",
       "      <th>32</th>\n",
       "      <td>3740</td>\n",
       "      <td>placebo</td>\n",
       "      <td>NaN</td>\n",
       "      <td>NaN</td>\n",
       "      <td>none</td>\n",
       "      <td>25</td>\n",
       "      <td>Complete or nearly complete resolution</td>\n",
       "      <td>2 (4)</td>\n",
       "      <td>range</td>\n",
       "      <td>NaN</td>\n",
       "      <td>NaN</td>\n",
       "      <td>90</td>\n",
       "      <td>100</td>\n",
       "      <td>2</td>\n",
       "    </tr>\n",
       "  </tbody>\n",
       "</table>\n",
       "</div>"
      ],
      "text/plain": [
       "    REFID          Arm Dosage Dosage amount Dosage form  N at follow-up  \\\n",
       "31   3740  propranolol      3         mg/kg        oral             101   \n",
       "32   3740      placebo    NaN           NaN        none              25   \n",
       "\n",
       "                                   Outcome Outcome data/result Outcome data  \\\n",
       "31  Complete or nearly complete resolution             61 (60)        range   \n",
       "32  Complete or nearly complete resolution               2 (4)        range   \n",
       "\n",
       "    Point estimate   sd  Lower range  Upper range Outcome data/result N  \n",
       "31             NaN  NaN           90          100                    61  \n",
       "32             NaN  NaN           90          100                     2  "
      ]
     },
     "execution_count": 53,
     "metadata": {},
     "output_type": "execute_result"
    }
   ],
   "source": [
    "kq2_outcomes[kq2_outcomes.REFID==3740][subset_cols]"
   ]
  },
  {
   "cell_type": "code",
   "execution_count": 54,
   "metadata": {
    "collapsed": true
   },
   "outputs": [],
   "source": [
    "refid3740 = np.where(unique_studies==3740)[0][0]"
   ]
  },
  {
   "cell_type": "code",
   "execution_count": 55,
   "metadata": {
    "collapsed": false
   },
   "outputs": [],
   "source": [
    "if quality_scores[3740] >= quality_thresh:\n",
    "\n",
    "    @pm.deterministic\n",
    "    def mu_propranolol_3740(μ=μ, θ=θ, ϵ=ϵ):\n",
    "        # Mean response on the logit scale for propranolol in RefID 3740\n",
    "        return μ + θ[PROPRANOLOL] + ϵ[refid3740]\n",
    "\n",
    "\n",
    "    @pm.deterministic\n",
    "    def p_propranolol_3740(μ=mu_propranolol_3740, τ=τ):\n",
    "        # Response category probabilities for propranolol in RefID 3740\n",
    "        return 1 - norm.cdf(pm.logit(0.9), μ, τ[PROPRANOLOL]**-1)\n",
    "\n",
    "    # Binomial likelihood for propranolol in RefID 5\n",
    "    y_propranolol_3740 = pm.Binomial('y_propranolol_3740', 101, p_propranolol_3740, value=61, \n",
    "                                    observed=True)\n",
    "    # Posterior predictive check\n",
    "    pred_propranolol_3740 = pm.Binomial('pred_propranolol_3740', 101, p_propranolol_3740, value=61)"
   ]
  },
  {
   "cell_type": "code",
   "execution_count": 56,
   "metadata": {
    "collapsed": false
   },
   "outputs": [],
   "source": [
    "if quality_scores[3740] >= quality_thresh:\n",
    "\n",
    "    @pm.deterministic\n",
    "    def mu_control_3740(μ=μ, ϵ=ϵ):\n",
    "        # Mean response on the logit scale for controls in RefID 3740\n",
    "        return μ + ϵ[refid3740]\n",
    "\n",
    "\n",
    "    @pm.deterministic\n",
    "    def p_control_3740(μ=mu_control_3740, τ=τ):\n",
    "        # Response category probabilities for controls in RefID 3740\n",
    "        return 1 - norm.cdf(pm.logit(0.9), μ, τ[-1]**-1)\n",
    "\n",
    "    # Binomial likelihood for propranolol in RefID 5\n",
    "    y_control_3740 = pm.Binomial('y_control_3740', 25, p_control_3740, value=2, \n",
    "                                    observed=True)\n",
    "    # posterior predictive check\n",
    "    pred_control_3740 = pm.Binomial('pred_control_3740', 25, p_control_3740, value=2)"
   ]
  },
  {
   "cell_type": "markdown",
   "metadata": {},
   "source": [
    "### Sondhi 2013 (RefID 72)\n",
    "\n",
    "The paper claims `n=14` for controls, but only reports 12 outcomes."
   ]
  },
  {
   "cell_type": "code",
   "execution_count": 57,
   "metadata": {
    "collapsed": false
   },
   "outputs": [
    {
     "data": {
      "text/html": [
       "<div>\n",
       "<table border=\"1\" class=\"dataframe\">\n",
       "  <thead>\n",
       "    <tr style=\"text-align: right;\">\n",
       "      <th></th>\n",
       "      <th>REFID</th>\n",
       "      <th>Arm</th>\n",
       "      <th>Dosage</th>\n",
       "      <th>Dosage amount</th>\n",
       "      <th>Dosage form</th>\n",
       "      <th>N at follow-up</th>\n",
       "      <th>Outcome</th>\n",
       "      <th>Outcome data/result</th>\n",
       "      <th>Outcome data</th>\n",
       "      <th>Point estimate</th>\n",
       "      <th>sd</th>\n",
       "      <th>Lower range</th>\n",
       "      <th>Upper range</th>\n",
       "      <th>Outcome data/result N</th>\n",
       "    </tr>\n",
       "  </thead>\n",
       "  <tbody>\n",
       "    <tr>\n",
       "      <th>33</th>\n",
       "      <td>72</td>\n",
       "      <td>propranolol</td>\n",
       "      <td>2</td>\n",
       "      <td>mg/kg</td>\n",
       "      <td>oral</td>\n",
       "      <td>31</td>\n",
       "      <td>Significant involution (&gt;50%)</td>\n",
       "      <td>28</td>\n",
       "      <td>range</td>\n",
       "      <td>NaN</td>\n",
       "      <td>NaN</td>\n",
       "      <td>50</td>\n",
       "      <td>100</td>\n",
       "      <td>28</td>\n",
       "    </tr>\n",
       "    <tr>\n",
       "      <th>34</th>\n",
       "      <td>72</td>\n",
       "      <td>propranolol</td>\n",
       "      <td>2</td>\n",
       "      <td>mg/kg</td>\n",
       "      <td>oral</td>\n",
       "      <td>31</td>\n",
       "      <td>Some involution (11%-50%)</td>\n",
       "      <td>0</td>\n",
       "      <td>range</td>\n",
       "      <td>NaN</td>\n",
       "      <td>NaN</td>\n",
       "      <td>11</td>\n",
       "      <td>50</td>\n",
       "      <td>0</td>\n",
       "    </tr>\n",
       "    <tr>\n",
       "      <th>35</th>\n",
       "      <td>72</td>\n",
       "      <td>propranolol</td>\n",
       "      <td>2</td>\n",
       "      <td>mg/kg</td>\n",
       "      <td>oral</td>\n",
       "      <td>31</td>\n",
       "      <td>No involution (≤10%)</td>\n",
       "      <td>3</td>\n",
       "      <td>range</td>\n",
       "      <td>NaN</td>\n",
       "      <td>NaN</td>\n",
       "      <td>0</td>\n",
       "      <td>10</td>\n",
       "      <td>3</td>\n",
       "    </tr>\n",
       "    <tr>\n",
       "      <th>36</th>\n",
       "      <td>72</td>\n",
       "      <td>control - no treatment</td>\n",
       "      <td>NaN</td>\n",
       "      <td>NaN</td>\n",
       "      <td>none</td>\n",
       "      <td>14</td>\n",
       "      <td>Significant involution (&gt;50%)</td>\n",
       "      <td>4</td>\n",
       "      <td>range</td>\n",
       "      <td>NaN</td>\n",
       "      <td>NaN</td>\n",
       "      <td>50</td>\n",
       "      <td>100</td>\n",
       "      <td>4</td>\n",
       "    </tr>\n",
       "    <tr>\n",
       "      <th>37</th>\n",
       "      <td>72</td>\n",
       "      <td>control - no treatment</td>\n",
       "      <td>NaN</td>\n",
       "      <td>NaN</td>\n",
       "      <td>none</td>\n",
       "      <td>14</td>\n",
       "      <td>Some involution (11%-50%)</td>\n",
       "      <td>2</td>\n",
       "      <td>range</td>\n",
       "      <td>NaN</td>\n",
       "      <td>NaN</td>\n",
       "      <td>11</td>\n",
       "      <td>50</td>\n",
       "      <td>2</td>\n",
       "    </tr>\n",
       "    <tr>\n",
       "      <th>38</th>\n",
       "      <td>72</td>\n",
       "      <td>control - no treatment</td>\n",
       "      <td>NaN</td>\n",
       "      <td>NaN</td>\n",
       "      <td>none</td>\n",
       "      <td>14</td>\n",
       "      <td>No involution (≤10%)</td>\n",
       "      <td>6</td>\n",
       "      <td>range</td>\n",
       "      <td>NaN</td>\n",
       "      <td>NaN</td>\n",
       "      <td>0</td>\n",
       "      <td>10</td>\n",
       "      <td>6</td>\n",
       "    </tr>\n",
       "  </tbody>\n",
       "</table>\n",
       "</div>"
      ],
      "text/plain": [
       "    REFID                     Arm Dosage Dosage amount Dosage form  \\\n",
       "33     72             propranolol      2         mg/kg        oral   \n",
       "34     72             propranolol      2         mg/kg        oral   \n",
       "35     72             propranolol      2         mg/kg        oral   \n",
       "36     72  control - no treatment    NaN           NaN        none   \n",
       "37     72  control - no treatment    NaN           NaN        none   \n",
       "38     72  control - no treatment    NaN           NaN        none   \n",
       "\n",
       "    N at follow-up                        Outcome Outcome data/result  \\\n",
       "33              31  Significant involution (>50%)                  28   \n",
       "34              31      Some involution (11%-50%)                   0   \n",
       "35              31           No involution (≤10%)                   3   \n",
       "36              14  Significant involution (>50%)                   4   \n",
       "37              14      Some involution (11%-50%)                   2   \n",
       "38              14           No involution (≤10%)                   6   \n",
       "\n",
       "   Outcome data  Point estimate   sd  Lower range  Upper range  \\\n",
       "33        range             NaN  NaN           50          100   \n",
       "34        range             NaN  NaN           11           50   \n",
       "35        range             NaN  NaN            0           10   \n",
       "36        range             NaN  NaN           50          100   \n",
       "37        range             NaN  NaN           11           50   \n",
       "38        range             NaN  NaN            0           10   \n",
       "\n",
       "   Outcome data/result N  \n",
       "33                    28  \n",
       "34                     0  \n",
       "35                     3  \n",
       "36                     4  \n",
       "37                     2  \n",
       "38                     6  "
      ]
     },
     "execution_count": 57,
     "metadata": {},
     "output_type": "execute_result"
    }
   ],
   "source": [
    "kq2_outcomes[kq2_outcomes.REFID==72][subset_cols]"
   ]
  },
  {
   "cell_type": "code",
   "execution_count": 58,
   "metadata": {
    "collapsed": true
   },
   "outputs": [],
   "source": [
    "refid72 = np.where(unique_studies==72)[0][0]"
   ]
  },
  {
   "cell_type": "code",
   "execution_count": 59,
   "metadata": {
    "collapsed": true
   },
   "outputs": [],
   "source": [
    "if (quality_scores[72] >= quality_thresh) and include_cohort:\n",
    "\n",
    "    @pm.deterministic\n",
    "    def mu_propranolol_72(μ=μ, θ=θ, ϵ=ϵ):\n",
    "        # Mean response on the logit scale for propranolol in RefID 72\n",
    "        return μ + θ[PROPRANOLOL] + ϵ[refid72]\n",
    "\n",
    "\n",
    "    @pm.deterministic\n",
    "    def p_propranolol_72(μ=mu_propranolol_72, τ=τ):\n",
    "        # Response category probabilities for propranolol in RefID 72\n",
    "        c1 = norm.cdf(pm.logit(0.1), μ, τ[PROPRANOLOL]**-1)\n",
    "        c2 = norm.cdf(pm.logit(0.5), μ, τ[PROPRANOLOL]**-1)\n",
    "        return c1, c2-c1, 1-c2   \n",
    "\n",
    "    # Multinomial likelihood for propranolol in RefID 5\n",
    "    y_propranolol_72 = pm.Multinomial('y_propranolol_72', 31, p_propranolol_72, value=[3, 0, 28], \n",
    "                                    observed=True)\n",
    "    # Posterior predictive check\n",
    "    pred_propranolol_72 = pm.Multinomial('pred_propranolol_72', 31, p_propranolol_72, value=[3, 0, 28])"
   ]
  },
  {
   "cell_type": "code",
   "execution_count": 60,
   "metadata": {
    "collapsed": true
   },
   "outputs": [],
   "source": [
    "if quality_scores[72] >= quality_thresh:\n",
    "\n",
    "    @pm.deterministic\n",
    "    def mu_control_72(μ=μ, ϵ=ϵ):\n",
    "        # Mean response on the logit scale for controls in RefID 72\n",
    "        return μ + ϵ[refid72]\n",
    "\n",
    "\n",
    "    @pm.deterministic\n",
    "    def p_control_72(μ=mu_control_72, τ=τ):\n",
    "        # Response category probabilities for controls in RefID 72\n",
    "        c1 = norm.cdf(pm.logit(0.1), μ, τ[PROPRANOLOL]**-1)\n",
    "        c2 = norm.cdf(pm.logit(0.5), μ, τ[PROPRANOLOL]**-1)\n",
    "        return c1, c2-c1, 1-c2   \n",
    "\n",
    "    # Multinomial likelihood for propranolol in RefID 5\n",
    "    y_control_72 = pm.Multinomial('y_control_72', 12, p_control_72, value=[6, 2, 4], \n",
    "                                    observed=True)\n",
    "    # posterior predictive check\n",
    "    pred_control_72 = pm.Multinomial('pred_control_72', 12, p_control_72, value=[6, 2, 4])"
   ]
  },
  {
   "cell_type": "markdown",
   "metadata": {},
   "source": [
    "### Qiu 2013 (RefID 112)\n",
    "\n",
    "Qiu et al. report individual patient data, which we incorporate directly into the meta-analysis."
   ]
  },
  {
   "cell_type": "code",
   "execution_count": 61,
   "metadata": {
    "collapsed": false
   },
   "outputs": [
    {
     "data": {
      "text/html": [
       "<div>\n",
       "<table border=\"1\" class=\"dataframe\">\n",
       "  <thead>\n",
       "    <tr style=\"text-align: right;\">\n",
       "      <th></th>\n",
       "      <th>REFID</th>\n",
       "      <th>Arm</th>\n",
       "      <th>Dosage</th>\n",
       "      <th>Dosage amount</th>\n",
       "      <th>Dosage form</th>\n",
       "      <th>N at follow-up</th>\n",
       "      <th>Outcome</th>\n",
       "      <th>Outcome data/result</th>\n",
       "      <th>Outcome data</th>\n",
       "      <th>Point estimate</th>\n",
       "      <th>sd</th>\n",
       "      <th>Lower range</th>\n",
       "      <th>Upper range</th>\n",
       "      <th>Outcome data/result N</th>\n",
       "    </tr>\n",
       "  </thead>\n",
       "  <tbody>\n",
       "    <tr>\n",
       "      <th>39</th>\n",
       "      <td>112</td>\n",
       "      <td>timolol</td>\n",
       "      <td>0.005</td>\n",
       "      <td>NaN</td>\n",
       "      <td>topical</td>\n",
       "      <td>20</td>\n",
       "      <td>Visual analog scale</td>\n",
       "      <td>NR</td>\n",
       "      <td>IPD</td>\n",
       "      <td>NaN</td>\n",
       "      <td>NaN</td>\n",
       "      <td>NaN</td>\n",
       "      <td>NaN</td>\n",
       "      <td>NR</td>\n",
       "    </tr>\n",
       "  </tbody>\n",
       "</table>\n",
       "</div>"
      ],
      "text/plain": [
       "    REFID      Arm Dosage Dosage amount Dosage form  N at follow-up  \\\n",
       "39    112  timolol  0.005           NaN     topical              20   \n",
       "\n",
       "                Outcome Outcome data/result Outcome data  Point estimate   sd  \\\n",
       "39  Visual analog scale                  NR          IPD             NaN  NaN   \n",
       "\n",
       "    Lower range  Upper range Outcome data/result N  \n",
       "39          NaN          NaN                    NR  "
      ]
     },
     "execution_count": 61,
     "metadata": {},
     "output_type": "execute_result"
    }
   ],
   "source": [
    "kq2_outcomes[kq2_outcomes.REFID==112][subset_cols]"
   ]
  },
  {
   "cell_type": "code",
   "execution_count": 62,
   "metadata": {
    "collapsed": true
   },
   "outputs": [],
   "source": [
    "refid112 = np.where(unique_studies==112)[0][0]"
   ]
  },
  {
   "cell_type": "code",
   "execution_count": 63,
   "metadata": {
    "collapsed": false
   },
   "outputs": [],
   "source": [
    "obs_timolol_112 = kq2_ipd[kq2_ipd.Arm=='timolol'].Outcome.values/100."
   ]
  },
  {
   "cell_type": "code",
   "execution_count": 64,
   "metadata": {
    "collapsed": false
   },
   "outputs": [],
   "source": [
    "if (quality_scores[112] >= quality_thresh) and include_cohort:\n",
    "\n",
    "    @pm.deterministic\n",
    "    def mu_timolol_112(μ=μ, θ=θ, ϵ=ϵ):\n",
    "        # Mean response on the logit scale for timolol in RefID 112\n",
    "        return μ + θ[TIMOLOL] + ϵ[refid112]\n",
    "\n",
    "\n",
    "    y_timolol_112 = pm.Normal('y_timolol_112', mu_timolol_112, τ[TIMOLOL]**-1, \n",
    "                             value=pm.logit(obs_timolol_112 - 1e-6), observed=True)\n",
    "    pred_timolol_112 = pm.Normal('pred_timolol_112', mu_timolol_112, τ[TIMOLOL]**-1, \n",
    "                                 value=pm.logit(obs_timolol_112 - 1e-6))"
   ]
  },
  {
   "cell_type": "markdown",
   "metadata": {},
   "source": [
    "### Thayal 2012 (RefID 309)"
   ]
  },
  {
   "cell_type": "code",
   "execution_count": 65,
   "metadata": {
    "collapsed": false
   },
   "outputs": [
    {
     "data": {
      "text/html": [
       "<div>\n",
       "<table border=\"1\" class=\"dataframe\">\n",
       "  <thead>\n",
       "    <tr style=\"text-align: right;\">\n",
       "      <th></th>\n",
       "      <th>REFID</th>\n",
       "      <th>Arm</th>\n",
       "      <th>Dosage</th>\n",
       "      <th>Dosage amount</th>\n",
       "      <th>Dosage form</th>\n",
       "      <th>N at follow-up</th>\n",
       "      <th>Outcome</th>\n",
       "      <th>Outcome data/result</th>\n",
       "      <th>Outcome data</th>\n",
       "      <th>Point estimate</th>\n",
       "      <th>sd</th>\n",
       "      <th>Lower range</th>\n",
       "      <th>Upper range</th>\n",
       "      <th>Outcome data/result N</th>\n",
       "    </tr>\n",
       "  </thead>\n",
       "  <tbody>\n",
       "    <tr>\n",
       "      <th>44</th>\n",
       "      <td>309</td>\n",
       "      <td>propranolol</td>\n",
       "      <td>2</td>\n",
       "      <td>mg/kg</td>\n",
       "      <td>oral</td>\n",
       "      <td>10</td>\n",
       "      <td>Complete involution (&gt; 90% response)</td>\n",
       "      <td>2</td>\n",
       "      <td>range</td>\n",
       "      <td>NaN</td>\n",
       "      <td>NaN</td>\n",
       "      <td>90</td>\n",
       "      <td>100</td>\n",
       "      <td>2</td>\n",
       "    </tr>\n",
       "    <tr>\n",
       "      <th>45</th>\n",
       "      <td>309</td>\n",
       "      <td>propranolol</td>\n",
       "      <td>2</td>\n",
       "      <td>mg/kg</td>\n",
       "      <td>oral</td>\n",
       "      <td>10</td>\n",
       "      <td>reduction in size of 75-90 %</td>\n",
       "      <td>4</td>\n",
       "      <td>range</td>\n",
       "      <td>NaN</td>\n",
       "      <td>NaN</td>\n",
       "      <td>75</td>\n",
       "      <td>90</td>\n",
       "      <td>4</td>\n",
       "    </tr>\n",
       "    <tr>\n",
       "      <th>46</th>\n",
       "      <td>309</td>\n",
       "      <td>propranolol</td>\n",
       "      <td>2</td>\n",
       "      <td>mg/kg</td>\n",
       "      <td>oral</td>\n",
       "      <td>10</td>\n",
       "      <td>reduction in size of 50 to 75 %</td>\n",
       "      <td>3</td>\n",
       "      <td>range</td>\n",
       "      <td>NaN</td>\n",
       "      <td>NaN</td>\n",
       "      <td>50</td>\n",
       "      <td>75</td>\n",
       "      <td>3</td>\n",
       "    </tr>\n",
       "    <tr>\n",
       "      <th>47</th>\n",
       "      <td>309</td>\n",
       "      <td>propranolol</td>\n",
       "      <td>2</td>\n",
       "      <td>mg/kg</td>\n",
       "      <td>oral</td>\n",
       "      <td>10</td>\n",
       "      <td>reduction in size of &lt;25 %</td>\n",
       "      <td>1</td>\n",
       "      <td>range</td>\n",
       "      <td>NaN</td>\n",
       "      <td>NaN</td>\n",
       "      <td>0</td>\n",
       "      <td>25</td>\n",
       "      <td>1</td>\n",
       "    </tr>\n",
       "  </tbody>\n",
       "</table>\n",
       "</div>"
      ],
      "text/plain": [
       "    REFID          Arm Dosage Dosage amount Dosage form  N at follow-up  \\\n",
       "44    309  propranolol      2         mg/kg        oral              10   \n",
       "45    309  propranolol      2         mg/kg        oral              10   \n",
       "46    309  propranolol      2         mg/kg        oral              10   \n",
       "47    309  propranolol      2         mg/kg        oral              10   \n",
       "\n",
       "                                 Outcome Outcome data/result Outcome data  \\\n",
       "44  Complete involution (> 90% response)                   2        range   \n",
       "45          reduction in size of 75-90 %                   4        range   \n",
       "46       reduction in size of 50 to 75 %                   3        range   \n",
       "47            reduction in size of <25 %                   1        range   \n",
       "\n",
       "    Point estimate   sd  Lower range  Upper range Outcome data/result N  \n",
       "44             NaN  NaN           90          100                     2  \n",
       "45             NaN  NaN           75           90                     4  \n",
       "46             NaN  NaN           50           75                     3  \n",
       "47             NaN  NaN            0           25                     1  "
      ]
     },
     "execution_count": 65,
     "metadata": {},
     "output_type": "execute_result"
    }
   ],
   "source": [
    "kq2_outcomes[kq2_outcomes.REFID==309][subset_cols]"
   ]
  },
  {
   "cell_type": "code",
   "execution_count": 66,
   "metadata": {
    "collapsed": true
   },
   "outputs": [],
   "source": [
    "refid309 = np.where(unique_studies==309)[0][0]"
   ]
  },
  {
   "cell_type": "code",
   "execution_count": 67,
   "metadata": {
    "collapsed": false
   },
   "outputs": [],
   "source": [
    "if (quality_scores[309] >= quality_thresh) and include_cohort:\n",
    "\n",
    "    @pm.deterministic\n",
    "    def mu_propranolol_309(μ=μ, θ=θ, ϵ=ϵ):\n",
    "        # Mean response on the logit scale for propranolol in RefID 309\n",
    "        return μ + θ[PROPRANOLOL] + ϵ[refid309]\n",
    "\n",
    "\n",
    "    @pm.deterministic\n",
    "    def p_propranolol_309(μ=mu_propranolol_309, τ=τ):\n",
    "        # Response category probabilities for propranolol in RefID 309\n",
    "        c1 = norm.cdf(pm.logit(0.25), μ, τ[PROPRANOLOL]**-1)\n",
    "        c2 = norm.cdf(pm.logit(0.5), μ, τ[PROPRANOLOL]**-1)\n",
    "        c3 = norm.cdf(pm.logit(0.75), μ, τ[PROPRANOLOL]**-1)\n",
    "        c4 = norm.cdf(pm.logit(0.9), μ, τ[PROPRANOLOL]**-1)\n",
    "        return c1, c2-c1, c3-c2, c4-c3, 1-c4  \n",
    "\n",
    "    # Multinomial likelihood for propranolol in RefID 309\n",
    "    y_propranolol_309 = pm.Multinomial('y_propranolol_309', 10, p_propranolol_309, \n",
    "                                      value=[1, 0, 3, 4, 2], observed=True)\n",
    "    # Posterior predictive check\n",
    "    pred_propranolol_309 = pm.Multinomial('pred_propranolol_309', 10, p_propranolol_309, \n",
    "                                      value=[1, 0, 3, 4, 2])"
   ]
  },
  {
   "cell_type": "markdown",
   "metadata": {},
   "source": [
    "### Chambers 2012 (RefID 321)"
   ]
  },
  {
   "cell_type": "code",
   "execution_count": 68,
   "metadata": {
    "collapsed": false
   },
   "outputs": [
    {
     "data": {
      "text/html": [
       "<div>\n",
       "<table border=\"1\" class=\"dataframe\">\n",
       "  <thead>\n",
       "    <tr style=\"text-align: right;\">\n",
       "      <th></th>\n",
       "      <th>REFID</th>\n",
       "      <th>Arm</th>\n",
       "      <th>Dosage</th>\n",
       "      <th>Dosage amount</th>\n",
       "      <th>Dosage form</th>\n",
       "      <th>N at follow-up</th>\n",
       "      <th>Outcome</th>\n",
       "      <th>Outcome data/result</th>\n",
       "      <th>Outcome data</th>\n",
       "      <th>Point estimate</th>\n",
       "      <th>sd</th>\n",
       "      <th>Lower range</th>\n",
       "      <th>Upper range</th>\n",
       "      <th>Outcome data/result N</th>\n",
       "    </tr>\n",
       "  </thead>\n",
       "  <tbody>\n",
       "    <tr>\n",
       "      <th>48</th>\n",
       "      <td>321</td>\n",
       "      <td>timolol</td>\n",
       "      <td>0.0025</td>\n",
       "      <td>BID</td>\n",
       "      <td>topical</td>\n",
       "      <td>13</td>\n",
       "      <td>reduction in size of &gt;50 %</td>\n",
       "      <td>61.5</td>\n",
       "      <td>range</td>\n",
       "      <td>NaN</td>\n",
       "      <td>NaN</td>\n",
       "      <td>50</td>\n",
       "      <td>100</td>\n",
       "      <td>8</td>\n",
       "    </tr>\n",
       "    <tr>\n",
       "      <th>49</th>\n",
       "      <td>321</td>\n",
       "      <td>timolol</td>\n",
       "      <td>0.0025</td>\n",
       "      <td>BID</td>\n",
       "      <td>topical</td>\n",
       "      <td>13</td>\n",
       "      <td>reduction in size of 0-50 %</td>\n",
       "      <td>30.8</td>\n",
       "      <td>range</td>\n",
       "      <td>NaN</td>\n",
       "      <td>NaN</td>\n",
       "      <td>1</td>\n",
       "      <td>50</td>\n",
       "      <td>4</td>\n",
       "    </tr>\n",
       "    <tr>\n",
       "      <th>50</th>\n",
       "      <td>321</td>\n",
       "      <td>timolol</td>\n",
       "      <td>0.0025</td>\n",
       "      <td>BID</td>\n",
       "      <td>topical</td>\n",
       "      <td>13</td>\n",
       "      <td>enlarged in size</td>\n",
       "      <td>NaN</td>\n",
       "      <td>range</td>\n",
       "      <td>NaN</td>\n",
       "      <td>NaN</td>\n",
       "      <td>0</td>\n",
       "      <td>1</td>\n",
       "      <td>1</td>\n",
       "    </tr>\n",
       "    <tr>\n",
       "      <th>51</th>\n",
       "      <td>321</td>\n",
       "      <td>control</td>\n",
       "      <td>NaN</td>\n",
       "      <td>NaN</td>\n",
       "      <td>none</td>\n",
       "      <td>10</td>\n",
       "      <td>reduction in size of &gt;50 %</td>\n",
       "      <td>0</td>\n",
       "      <td>range</td>\n",
       "      <td>NaN</td>\n",
       "      <td>NaN</td>\n",
       "      <td>50</td>\n",
       "      <td>100</td>\n",
       "      <td>0</td>\n",
       "    </tr>\n",
       "    <tr>\n",
       "      <th>52</th>\n",
       "      <td>321</td>\n",
       "      <td>control</td>\n",
       "      <td>NaN</td>\n",
       "      <td>NaN</td>\n",
       "      <td>none</td>\n",
       "      <td>10</td>\n",
       "      <td>reduction in size of 0-50 %</td>\n",
       "      <td>10</td>\n",
       "      <td>range</td>\n",
       "      <td>NaN</td>\n",
       "      <td>NaN</td>\n",
       "      <td>1</td>\n",
       "      <td>50</td>\n",
       "      <td>1</td>\n",
       "    </tr>\n",
       "    <tr>\n",
       "      <th>53</th>\n",
       "      <td>321</td>\n",
       "      <td>control</td>\n",
       "      <td>NaN</td>\n",
       "      <td>NaN</td>\n",
       "      <td>none</td>\n",
       "      <td>10</td>\n",
       "      <td>enlarged in size</td>\n",
       "      <td>NaN</td>\n",
       "      <td>range</td>\n",
       "      <td>NaN</td>\n",
       "      <td>NaN</td>\n",
       "      <td>0</td>\n",
       "      <td>1</td>\n",
       "      <td>9</td>\n",
       "    </tr>\n",
       "  </tbody>\n",
       "</table>\n",
       "</div>"
      ],
      "text/plain": [
       "    REFID      Arm  Dosage Dosage amount Dosage form  N at follow-up  \\\n",
       "48    321  timolol  0.0025           BID     topical              13   \n",
       "49    321  timolol  0.0025           BID     topical              13   \n",
       "50    321  timolol  0.0025           BID     topical              13   \n",
       "51    321  control     NaN           NaN        none              10   \n",
       "52    321  control     NaN           NaN        none              10   \n",
       "53    321  control     NaN           NaN        none              10   \n",
       "\n",
       "                        Outcome Outcome data/result Outcome data  \\\n",
       "48   reduction in size of >50 %                61.5        range   \n",
       "49  reduction in size of 0-50 %                30.8        range   \n",
       "50             enlarged in size                 NaN        range   \n",
       "51   reduction in size of >50 %                   0        range   \n",
       "52  reduction in size of 0-50 %                  10        range   \n",
       "53             enlarged in size                 NaN        range   \n",
       "\n",
       "    Point estimate   sd  Lower range  Upper range Outcome data/result N  \n",
       "48             NaN  NaN           50          100                     8  \n",
       "49             NaN  NaN            1           50                     4  \n",
       "50             NaN  NaN            0            1                     1  \n",
       "51             NaN  NaN           50          100                     0  \n",
       "52             NaN  NaN            1           50                     1  \n",
       "53             NaN  NaN            0            1                     9  "
      ]
     },
     "execution_count": 68,
     "metadata": {},
     "output_type": "execute_result"
    }
   ],
   "source": [
    "kq2_outcomes[kq2_outcomes.REFID==321][subset_cols]"
   ]
  },
  {
   "cell_type": "markdown",
   "metadata": {
    "collapsed": true
   },
   "source": [
    "This study treats lesions in periocular area only, and therefore was omitted from the meta-analysis."
   ]
  },
  {
   "cell_type": "markdown",
   "metadata": {},
   "source": [
    "### Bertrand 2011 (RefID 402)"
   ]
  },
  {
   "cell_type": "code",
   "execution_count": 69,
   "metadata": {
    "collapsed": false
   },
   "outputs": [
    {
     "data": {
      "text/html": [
       "<div>\n",
       "<table border=\"1\" class=\"dataframe\">\n",
       "  <thead>\n",
       "    <tr style=\"text-align: right;\">\n",
       "      <th></th>\n",
       "      <th>REFID</th>\n",
       "      <th>Arm</th>\n",
       "      <th>Dosage</th>\n",
       "      <th>Dosage amount</th>\n",
       "      <th>Dosage form</th>\n",
       "      <th>N at follow-up</th>\n",
       "      <th>Outcome</th>\n",
       "      <th>Outcome data/result</th>\n",
       "      <th>Outcome data</th>\n",
       "      <th>Point estimate</th>\n",
       "      <th>sd</th>\n",
       "      <th>Lower range</th>\n",
       "      <th>Upper range</th>\n",
       "      <th>Outcome data/result N</th>\n",
       "    </tr>\n",
       "  </thead>\n",
       "  <tbody>\n",
       "    <tr>\n",
       "      <th>54</th>\n",
       "      <td>402</td>\n",
       "      <td>prednisone</td>\n",
       "      <td>2.8</td>\n",
       "      <td>mg/kg</td>\n",
       "      <td>oral</td>\n",
       "      <td>12</td>\n",
       "      <td>Visual Analog Scale - mean mm</td>\n",
       "      <td>44.82</td>\n",
       "      <td>estimate</td>\n",
       "      <td>44.82</td>\n",
       "      <td>12.21</td>\n",
       "      <td>NaN</td>\n",
       "      <td>NaN</td>\n",
       "      <td>NaN</td>\n",
       "    </tr>\n",
       "    <tr>\n",
       "      <th>55</th>\n",
       "      <td>402</td>\n",
       "      <td>propranolol</td>\n",
       "      <td>2.7</td>\n",
       "      <td>mg/kg</td>\n",
       "      <td>oral</td>\n",
       "      <td>12</td>\n",
       "      <td>Visual Analog Scale - mean mm</td>\n",
       "      <td>78.73</td>\n",
       "      <td>estimate</td>\n",
       "      <td>78.73</td>\n",
       "      <td>22.47</td>\n",
       "      <td>NaN</td>\n",
       "      <td>NaN</td>\n",
       "      <td>NaN</td>\n",
       "    </tr>\n",
       "  </tbody>\n",
       "</table>\n",
       "</div>"
      ],
      "text/plain": [
       "    REFID          Arm Dosage Dosage amount Dosage form  N at follow-up  \\\n",
       "54    402   prednisone    2.8         mg/kg        oral              12   \n",
       "55    402  propranolol    2.7         mg/kg        oral              12   \n",
       "\n",
       "                          Outcome Outcome data/result Outcome data  \\\n",
       "54  Visual Analog Scale - mean mm               44.82     estimate   \n",
       "55  Visual Analog Scale - mean mm               78.73     estimate   \n",
       "\n",
       "    Point estimate     sd  Lower range  Upper range Outcome data/result N  \n",
       "54           44.82  12.21          NaN          NaN                   NaN  \n",
       "55           78.73  22.47          NaN          NaN                   NaN  "
      ]
     },
     "execution_count": 69,
     "metadata": {},
     "output_type": "execute_result"
    }
   ],
   "source": [
    "kq2_outcomes[kq2_outcomes.REFID==402][subset_cols]"
   ]
  },
  {
   "cell_type": "code",
   "execution_count": 70,
   "metadata": {
    "collapsed": true
   },
   "outputs": [],
   "source": [
    "refid402 = np.where(unique_studies==402)[0][0]"
   ]
  },
  {
   "cell_type": "markdown",
   "metadata": {},
   "source": [
    "Find SD on the logit scale using the delta method"
   ]
  },
  {
   "cell_type": "code",
   "execution_count": 71,
   "metadata": {
    "collapsed": true
   },
   "outputs": [],
   "source": [
    "propranolol_402_var = (0.2247**2) / (0.7873 * (1-0.7873))**2\n",
    "prednisone_402_var = (0.1221**2) / (0.4482 * (1-0.4482))**2"
   ]
  },
  {
   "cell_type": "code",
   "execution_count": 72,
   "metadata": {
    "collapsed": true
   },
   "outputs": [],
   "source": [
    "if (quality_scores[402] >= quality_thresh) and include_cohort:\n",
    "\n",
    "    @pm.deterministic\n",
    "    def mu_propranolol_402(μ=μ, θ=θ, ϵ=ϵ):\n",
    "        # Mean response on the logit scale for oral propranolol in RefID 402\n",
    "        return μ + θ[PROPRANOLOL] + ϵ[refid402]\n",
    "\n",
    "    propranolol_obs_402 = pm.Normal('propranolol_obs_402', mu_propranolol_402, propranolol_402_var**-1, \n",
    "                                    value=pm.logit(0.7873), observed=True)\n",
    "    # Posterior predictive check\n",
    "    pred_propranolol_402 = pm.Normal('pred_propranolol_402', mu_propranolol_402, propranolol_402_var**-1, \n",
    "                                    value=pm.logit(0.7873))\n",
    "\n",
    "    @pm.deterministic\n",
    "    def mu_prednisolone_402(μ=μ, θ=θ, ϵ=ϵ):\n",
    "        # Mean response on the logit scale for prednisolone in RefID 402\n",
    "        return μ + θ[ORAL_STEROID] + ϵ[refid402]\n",
    "\n",
    "    prednisolone_obs_402 = pm.Normal('prednisolone_obs_402', mu_prednisolone_402, prednisone_402_var**-1, \n",
    "                                     pm.logit(0.4482), observed=True)\n",
    "    # Posterior predictive check\n",
    "    pred_prednisolone_obs_402 = pm.Normal('pred_prednisolone_402', mu_prednisolone_402, prednisone_402_var**-1, \n",
    "                                     pm.logit(0.4482))"
   ]
  },
  {
   "cell_type": "markdown",
   "metadata": {},
   "source": [
    "### Price 2011 (RefID 438)"
   ]
  },
  {
   "cell_type": "code",
   "execution_count": 73,
   "metadata": {
    "collapsed": false
   },
   "outputs": [
    {
     "data": {
      "text/html": [
       "<div>\n",
       "<table border=\"1\" class=\"dataframe\">\n",
       "  <thead>\n",
       "    <tr style=\"text-align: right;\">\n",
       "      <th></th>\n",
       "      <th>REFID</th>\n",
       "      <th>Arm</th>\n",
       "      <th>Dosage</th>\n",
       "      <th>Dosage amount</th>\n",
       "      <th>Dosage form</th>\n",
       "      <th>N at follow-up</th>\n",
       "      <th>Outcome</th>\n",
       "      <th>Outcome data/result</th>\n",
       "      <th>Outcome data</th>\n",
       "      <th>Point estimate</th>\n",
       "      <th>sd</th>\n",
       "      <th>Lower range</th>\n",
       "      <th>Upper range</th>\n",
       "      <th>Outcome data/result N</th>\n",
       "    </tr>\n",
       "  </thead>\n",
       "  <tbody>\n",
       "    <tr>\n",
       "      <th>56</th>\n",
       "      <td>438</td>\n",
       "      <td>propranolol</td>\n",
       "      <td>2</td>\n",
       "      <td>mg/kg</td>\n",
       "      <td>oral</td>\n",
       "      <td>68</td>\n",
       "      <td>Clearance ≥ 75%</td>\n",
       "      <td>56</td>\n",
       "      <td>range</td>\n",
       "      <td>NaN</td>\n",
       "      <td>NaN</td>\n",
       "      <td>75</td>\n",
       "      <td>100</td>\n",
       "      <td>56</td>\n",
       "    </tr>\n",
       "    <tr>\n",
       "      <th>57</th>\n",
       "      <td>438</td>\n",
       "      <td>propranolol</td>\n",
       "      <td>2</td>\n",
       "      <td>mg/kg</td>\n",
       "      <td>oral</td>\n",
       "      <td>68</td>\n",
       "      <td>Clearance &lt;75%</td>\n",
       "      <td>12</td>\n",
       "      <td>range</td>\n",
       "      <td>NaN</td>\n",
       "      <td>NaN</td>\n",
       "      <td>0</td>\n",
       "      <td>75</td>\n",
       "      <td>12</td>\n",
       "    </tr>\n",
       "    <tr>\n",
       "      <th>58</th>\n",
       "      <td>438</td>\n",
       "      <td>corticosteroids</td>\n",
       "      <td>4</td>\n",
       "      <td>mg/kg</td>\n",
       "      <td>oral</td>\n",
       "      <td>42</td>\n",
       "      <td>Clearance ≥ 75%</td>\n",
       "      <td>12</td>\n",
       "      <td>range</td>\n",
       "      <td>NaN</td>\n",
       "      <td>NaN</td>\n",
       "      <td>75</td>\n",
       "      <td>100</td>\n",
       "      <td>12</td>\n",
       "    </tr>\n",
       "    <tr>\n",
       "      <th>59</th>\n",
       "      <td>438</td>\n",
       "      <td>corticosteroids</td>\n",
       "      <td>4</td>\n",
       "      <td>mg/kg</td>\n",
       "      <td>oral</td>\n",
       "      <td>42</td>\n",
       "      <td>Clearance &lt;75%</td>\n",
       "      <td>30</td>\n",
       "      <td>range</td>\n",
       "      <td>NaN</td>\n",
       "      <td>NaN</td>\n",
       "      <td>0</td>\n",
       "      <td>75</td>\n",
       "      <td>30</td>\n",
       "    </tr>\n",
       "  </tbody>\n",
       "</table>\n",
       "</div>"
      ],
      "text/plain": [
       "    REFID              Arm Dosage Dosage amount Dosage form  N at follow-up  \\\n",
       "56    438      propranolol      2         mg/kg        oral              68   \n",
       "57    438      propranolol      2         mg/kg        oral              68   \n",
       "58    438  corticosteroids      4         mg/kg        oral              42   \n",
       "59    438  corticosteroids      4         mg/kg        oral              42   \n",
       "\n",
       "            Outcome Outcome data/result Outcome data  Point estimate   sd  \\\n",
       "56  Clearance ≥ 75%                  56        range             NaN  NaN   \n",
       "57   Clearance <75%                  12        range             NaN  NaN   \n",
       "58  Clearance ≥ 75%                  12        range             NaN  NaN   \n",
       "59   Clearance <75%                  30        range             NaN  NaN   \n",
       "\n",
       "    Lower range  Upper range Outcome data/result N  \n",
       "56           75          100                    56  \n",
       "57            0           75                    12  \n",
       "58           75          100                    12  \n",
       "59            0           75                    30  "
      ]
     },
     "execution_count": 73,
     "metadata": {},
     "output_type": "execute_result"
    }
   ],
   "source": [
    "kq2_outcomes[kq2_outcomes.REFID==438][subset_cols]"
   ]
  },
  {
   "cell_type": "code",
   "execution_count": 74,
   "metadata": {
    "collapsed": true
   },
   "outputs": [],
   "source": [
    "refid438 = np.where(unique_studies==438)[0][0]"
   ]
  },
  {
   "cell_type": "code",
   "execution_count": 75,
   "metadata": {
    "collapsed": false
   },
   "outputs": [],
   "source": [
    "if (quality_scores[438] >= quality_thresh) and include_cohort:\n",
    "\n",
    "    @pm.deterministic\n",
    "    def mu_propranolol_438(μ=μ, θ=θ, ϵ=ϵ):\n",
    "        # Mean response on the logit scale for propranolol in RefID 438\n",
    "        return μ + θ[PROPRANOLOL] + ϵ[refid438]\n",
    "\n",
    "\n",
    "    @pm.deterministic\n",
    "    def p_propranolol_438(μ=mu_propranolol_438, τ=τ):\n",
    "        # Response category probabilities for propranolol in RefID 438\n",
    "        return 1 - norm.cdf(pm.logit(0.75), μ, τ[PROPRANOLOL]**-1)\n",
    "\n",
    "    # Binomial likelihood for propranolol in RefID 5\n",
    "    y_propranolol_438 = pm.Binomial('y_propranolol_438', 68, p_propranolol_438, \n",
    "                                    value=56, observed=True)\n",
    "    # posterior predictive check\n",
    "    pred_propranolol_438 = pm.Binomial('pred_propranolol_438', 68, p_propranolol_438, \n",
    "                                    value=56)"
   ]
  },
  {
   "cell_type": "code",
   "execution_count": 76,
   "metadata": {
    "collapsed": false
   },
   "outputs": [],
   "source": [
    "if (quality_scores[438] >= quality_thresh) and include_cohort:\n",
    "\n",
    "    @pm.deterministic\n",
    "    def mu_corticosteriod_438(μ=μ, θ=θ, ϵ=ϵ):\n",
    "        # Mean response on the logit scale for corticosteriods in RefID 438\n",
    "        return μ + θ[ORAL_STEROID] + ϵ[refid438]\n",
    "\n",
    "\n",
    "    @pm.deterministic\n",
    "    def p_corticosteriod_438(μ=mu_corticosteriod_438, τ=τ):\n",
    "        # Response category probabilities for corticosteriods in RefID 438\n",
    "        return 1 - norm.cdf(pm.logit(0.75), μ, τ[ORAL_STEROID]**-1)\n",
    "\n",
    "    # Binomial likelihood for propranolol in RefID 5\n",
    "    y_corticosteriod_438 = pm.Binomial('y_corticosteriod_438', 42, p_corticosteriod_438, \n",
    "                                    value=12, observed=True)\n",
    "    # Posterior predictive check\n",
    "    pred_corticosteriod_438 = pm.Binomial('pred_corticosteriod_438', 42, p_corticosteriod_438, \n",
    "                                    value=12)"
   ]
  },
  {
   "cell_type": "markdown",
   "metadata": {},
   "source": [
    "### Yu 2013 (RefID 3451)"
   ]
  },
  {
   "cell_type": "code",
   "execution_count": 77,
   "metadata": {
    "collapsed": false
   },
   "outputs": [
    {
     "data": {
      "text/html": [
       "<div>\n",
       "<table border=\"1\" class=\"dataframe\">\n",
       "  <thead>\n",
       "    <tr style=\"text-align: right;\">\n",
       "      <th></th>\n",
       "      <th>REFID</th>\n",
       "      <th>Arm</th>\n",
       "      <th>Dosage</th>\n",
       "      <th>Dosage amount</th>\n",
       "      <th>Dosage form</th>\n",
       "      <th>N at follow-up</th>\n",
       "      <th>Outcome</th>\n",
       "      <th>Outcome data/result</th>\n",
       "      <th>Outcome data</th>\n",
       "      <th>Point estimate</th>\n",
       "      <th>sd</th>\n",
       "      <th>Lower range</th>\n",
       "      <th>Upper range</th>\n",
       "      <th>Outcome data/result N</th>\n",
       "    </tr>\n",
       "  </thead>\n",
       "  <tbody>\n",
       "    <tr>\n",
       "      <th>60</th>\n",
       "      <td>3451</td>\n",
       "      <td>timolol</td>\n",
       "      <td>NR</td>\n",
       "      <td>NR</td>\n",
       "      <td>topical</td>\n",
       "      <td>101</td>\n",
       "      <td>Response - ineffective</td>\n",
       "      <td>7.9</td>\n",
       "      <td>range</td>\n",
       "      <td>NaN</td>\n",
       "      <td>NaN</td>\n",
       "      <td>0</td>\n",
       "      <td>1</td>\n",
       "      <td>8</td>\n",
       "    </tr>\n",
       "    <tr>\n",
       "      <th>61</th>\n",
       "      <td>3451</td>\n",
       "      <td>timolol</td>\n",
       "      <td>NR</td>\n",
       "      <td>NR</td>\n",
       "      <td>topical</td>\n",
       "      <td>101</td>\n",
       "      <td>Response - controlled growth</td>\n",
       "      <td>35.6</td>\n",
       "      <td>range</td>\n",
       "      <td>NaN</td>\n",
       "      <td>NaN</td>\n",
       "      <td>0</td>\n",
       "      <td>1</td>\n",
       "      <td>36</td>\n",
       "    </tr>\n",
       "    <tr>\n",
       "      <th>62</th>\n",
       "      <td>3451</td>\n",
       "      <td>timolol</td>\n",
       "      <td>NR</td>\n",
       "      <td>NR</td>\n",
       "      <td>topical</td>\n",
       "      <td>101</td>\n",
       "      <td>Response - promoted regression</td>\n",
       "      <td>56.4</td>\n",
       "      <td>range</td>\n",
       "      <td>NaN</td>\n",
       "      <td>NaN</td>\n",
       "      <td>1</td>\n",
       "      <td>99</td>\n",
       "      <td>57</td>\n",
       "    </tr>\n",
       "    <tr>\n",
       "      <th>63</th>\n",
       "      <td>3451</td>\n",
       "      <td>timolol</td>\n",
       "      <td>NR</td>\n",
       "      <td>NR</td>\n",
       "      <td>topical</td>\n",
       "      <td>101</td>\n",
       "      <td>Complete regression</td>\n",
       "      <td>12</td>\n",
       "      <td>range</td>\n",
       "      <td>NaN</td>\n",
       "      <td>NaN</td>\n",
       "      <td>99</td>\n",
       "      <td>100</td>\n",
       "      <td>12</td>\n",
       "    </tr>\n",
       "    <tr>\n",
       "      <th>64</th>\n",
       "      <td>3451</td>\n",
       "      <td>No treatment - observation</td>\n",
       "      <td>NaN</td>\n",
       "      <td>NaN</td>\n",
       "      <td>none</td>\n",
       "      <td>23</td>\n",
       "      <td>Response - ineffective</td>\n",
       "      <td>65.2</td>\n",
       "      <td>range</td>\n",
       "      <td>NaN</td>\n",
       "      <td>NaN</td>\n",
       "      <td>0</td>\n",
       "      <td>1</td>\n",
       "      <td>15</td>\n",
       "    </tr>\n",
       "    <tr>\n",
       "      <th>65</th>\n",
       "      <td>3451</td>\n",
       "      <td>No treatment - observation</td>\n",
       "      <td>NaN</td>\n",
       "      <td>NaN</td>\n",
       "      <td>none</td>\n",
       "      <td>23</td>\n",
       "      <td>Response - controlled growth</td>\n",
       "      <td>30.4</td>\n",
       "      <td>range</td>\n",
       "      <td>NaN</td>\n",
       "      <td>NaN</td>\n",
       "      <td>0</td>\n",
       "      <td>1</td>\n",
       "      <td>7</td>\n",
       "    </tr>\n",
       "    <tr>\n",
       "      <th>66</th>\n",
       "      <td>3451</td>\n",
       "      <td>No treatment - observation</td>\n",
       "      <td>NaN</td>\n",
       "      <td>NaN</td>\n",
       "      <td>none</td>\n",
       "      <td>23</td>\n",
       "      <td>Response - promotedregression</td>\n",
       "      <td>4.3</td>\n",
       "      <td>range</td>\n",
       "      <td>NaN</td>\n",
       "      <td>NaN</td>\n",
       "      <td>1</td>\n",
       "      <td>99</td>\n",
       "      <td>1</td>\n",
       "    </tr>\n",
       "  </tbody>\n",
       "</table>\n",
       "</div>"
      ],
      "text/plain": [
       "    REFID                         Arm Dosage Dosage amount Dosage form  \\\n",
       "60   3451                     timolol     NR            NR     topical   \n",
       "61   3451                     timolol     NR            NR     topical   \n",
       "62   3451                     timolol     NR            NR     topical   \n",
       "63   3451                     timolol     NR            NR     topical   \n",
       "64   3451  No treatment - observation    NaN           NaN        none   \n",
       "65   3451  No treatment - observation    NaN           NaN        none   \n",
       "66   3451  No treatment - observation    NaN           NaN        none   \n",
       "\n",
       "    N at follow-up                         Outcome Outcome data/result  \\\n",
       "60             101          Response - ineffective                 7.9   \n",
       "61             101    Response - controlled growth                35.6   \n",
       "62             101  Response - promoted regression                56.4   \n",
       "63             101             Complete regression                  12   \n",
       "64              23          Response - ineffective                65.2   \n",
       "65              23    Response - controlled growth                30.4   \n",
       "66              23   Response - promotedregression                 4.3   \n",
       "\n",
       "   Outcome data  Point estimate   sd  Lower range  Upper range  \\\n",
       "60        range             NaN  NaN            0            1   \n",
       "61        range             NaN  NaN            0            1   \n",
       "62        range             NaN  NaN            1           99   \n",
       "63        range             NaN  NaN           99          100   \n",
       "64        range             NaN  NaN            0            1   \n",
       "65        range             NaN  NaN            0            1   \n",
       "66        range             NaN  NaN            1           99   \n",
       "\n",
       "   Outcome data/result N  \n",
       "60                     8  \n",
       "61                    36  \n",
       "62                    57  \n",
       "63                    12  \n",
       "64                    15  \n",
       "65                     7  \n",
       "66                     1  "
      ]
     },
     "execution_count": 77,
     "metadata": {},
     "output_type": "execute_result"
    }
   ],
   "source": [
    "kq2_outcomes[kq2_outcomes.REFID==3451][subset_cols]"
   ]
  },
  {
   "cell_type": "code",
   "execution_count": 78,
   "metadata": {
    "collapsed": true
   },
   "outputs": [],
   "source": [
    "refid3451 = np.where(unique_studies==3451)[0][0]"
   ]
  },
  {
   "cell_type": "code",
   "execution_count": 79,
   "metadata": {
    "collapsed": false
   },
   "outputs": [],
   "source": [
    "if (quality_scores[3451] >= quality_thresh) and include_cohort:\n",
    "\n",
    "    @pm.deterministic\n",
    "    def mu_timolol_3451(μ=μ, θ=θ, ϵ=ϵ):\n",
    "        # Mean response on the logit scale for timolol in RefID 3451\n",
    "        return μ + θ[TIMOLOL] + ϵ[refid3451]\n",
    "\n",
    "\n",
    "    @pm.deterministic\n",
    "    def p_timolol_3451(μ=mu_timolol_3451, τ=τ):\n",
    "        # Response category probabilities for timolol in RefID 3451\n",
    "        c1 = norm.cdf(pm.logit(0.01), μ, τ[TIMOLOL]**-1)\n",
    "        c2 = norm.cdf(pm.logit(0.99), μ, τ[TIMOLOL]**-1)\n",
    "        return c1, c2-c1, 1 - c2\n",
    "\n",
    "    # Binomial likelihood for propranolol in RefID 3451\n",
    "    y_timolol_3451 = pm.Multinomial('y_timolol_3451', 101, p_timolol_3451, value=[44, 57-12, 12], observed=True)\n",
    "    # Posterior predictive check\n",
    "    pred_timolol_3451 = pm.Multinomial('pred_timolol_3451', 101, p_timolol_3451, value=[44, 57-12, 12])"
   ]
  },
  {
   "cell_type": "code",
   "execution_count": 80,
   "metadata": {
    "collapsed": true
   },
   "outputs": [],
   "source": [
    "if quality_scores[3451] >= quality_thresh:\n",
    "\n",
    "    @pm.deterministic\n",
    "    def mu_control_3451(μ=μ, ϵ=ϵ):\n",
    "        # Mean response on the logit scale for controls in RefID 3451\n",
    "        return μ + ϵ[refid3451]\n",
    "\n",
    "\n",
    "    @pm.deterministic\n",
    "    def p_control_3451(μ=mu_control_3451, τ=τ):\n",
    "        # Response category probabilities for timolol in RefID 3451\n",
    "        c1 = norm.cdf(pm.logit(0.01), μ, τ[-1]**-1)\n",
    "        c2 = norm.cdf(pm.logit(0.99), μ, τ[-1]**-1)\n",
    "        return c1, c2-c1, 1 - c2\n",
    "\n",
    "    # Binomial likelihood for propranolol in RefID 3451\n",
    "    y_control_3451 = pm.Multinomial('y_control_3451', 23, p_control_3451, value=[22, 1, 0], observed=True)\n",
    "    # posterior predictive check\n",
    "    pred_control_3451 = pm.Multinomial('pred_control_3451', 23, p_control_3451, value=[22, 1, 0])"
   ]
  },
  {
   "cell_type": "markdown",
   "metadata": {},
   "source": [
    "### Awadein 2011 (RefID 3522)"
   ]
  },
  {
   "cell_type": "code",
   "execution_count": 81,
   "metadata": {
    "collapsed": false
   },
   "outputs": [
    {
     "data": {
      "text/html": [
       "<div>\n",
       "<table border=\"1\" class=\"dataframe\">\n",
       "  <thead>\n",
       "    <tr style=\"text-align: right;\">\n",
       "      <th></th>\n",
       "      <th>REFID</th>\n",
       "      <th>Arm</th>\n",
       "      <th>Dosage</th>\n",
       "      <th>Dosage amount</th>\n",
       "      <th>Dosage form</th>\n",
       "      <th>N at follow-up</th>\n",
       "      <th>Outcome</th>\n",
       "      <th>Outcome data/result</th>\n",
       "      <th>Outcome data</th>\n",
       "      <th>Point estimate</th>\n",
       "      <th>sd</th>\n",
       "      <th>Lower range</th>\n",
       "      <th>Upper range</th>\n",
       "      <th>Outcome data/result N</th>\n",
       "    </tr>\n",
       "  </thead>\n",
       "  <tbody>\n",
       "    <tr>\n",
       "      <th>67</th>\n",
       "      <td>3522</td>\n",
       "      <td>propranolol</td>\n",
       "      <td>1</td>\n",
       "      <td>mg/ml</td>\n",
       "      <td>intralesional</td>\n",
       "      <td>12</td>\n",
       "      <td>Size of hemangioma (cm2)</td>\n",
       "      <td>3.6 ± 2.6</td>\n",
       "      <td>NaN</td>\n",
       "      <td>NaN</td>\n",
       "      <td>NaN</td>\n",
       "      <td>NaN</td>\n",
       "      <td>NaN</td>\n",
       "      <td>NaN</td>\n",
       "    </tr>\n",
       "    <tr>\n",
       "      <th>68</th>\n",
       "      <td>3522</td>\n",
       "      <td>propranolol</td>\n",
       "      <td>1</td>\n",
       "      <td>mg/ml</td>\n",
       "      <td>intralesional</td>\n",
       "      <td>12</td>\n",
       "      <td>Response rate - Complete resolution achieved</td>\n",
       "      <td>42</td>\n",
       "      <td>scalar</td>\n",
       "      <td>NaN</td>\n",
       "      <td>NaN</td>\n",
       "      <td>99</td>\n",
       "      <td>100</td>\n",
       "      <td>5</td>\n",
       "    </tr>\n",
       "    <tr>\n",
       "      <th>69</th>\n",
       "      <td>3522</td>\n",
       "      <td>propranolol</td>\n",
       "      <td>1</td>\n",
       "      <td>mg/ml</td>\n",
       "      <td>intralesional</td>\n",
       "      <td>12</td>\n",
       "      <td>Response rate - Sustained plateau, with &gt;50% r...</td>\n",
       "      <td>25</td>\n",
       "      <td>range</td>\n",
       "      <td>NaN</td>\n",
       "      <td>NaN</td>\n",
       "      <td>50</td>\n",
       "      <td>99</td>\n",
       "      <td>3</td>\n",
       "    </tr>\n",
       "    <tr>\n",
       "      <th>70</th>\n",
       "      <td>3522</td>\n",
       "      <td>propranolol</td>\n",
       "      <td>1</td>\n",
       "      <td>mg/ml</td>\n",
       "      <td>intralesional</td>\n",
       "      <td>12</td>\n",
       "      <td>Response rate - &lt;50% reduction in size of hema...</td>\n",
       "      <td>17</td>\n",
       "      <td>range</td>\n",
       "      <td>NaN</td>\n",
       "      <td>NaN</td>\n",
       "      <td>0</td>\n",
       "      <td>50</td>\n",
       "      <td>2</td>\n",
       "    </tr>\n",
       "    <tr>\n",
       "      <th>71</th>\n",
       "      <td>3522</td>\n",
       "      <td>propranolol</td>\n",
       "      <td>1</td>\n",
       "      <td>mg/ml</td>\n",
       "      <td>intralesional</td>\n",
       "      <td>12</td>\n",
       "      <td>Resistant to treatment</td>\n",
       "      <td>17</td>\n",
       "      <td>NaN</td>\n",
       "      <td>NaN</td>\n",
       "      <td>NaN</td>\n",
       "      <td>NaN</td>\n",
       "      <td>NaN</td>\n",
       "      <td>2</td>\n",
       "    </tr>\n",
       "    <tr>\n",
       "      <th>72</th>\n",
       "      <td>3522</td>\n",
       "      <td>propranolol</td>\n",
       "      <td>1</td>\n",
       "      <td>mg/ml</td>\n",
       "      <td>intralesional</td>\n",
       "      <td>12</td>\n",
       "      <td>Rebound growth</td>\n",
       "      <td>4</td>\n",
       "      <td>NaN</td>\n",
       "      <td>NaN</td>\n",
       "      <td>NaN</td>\n",
       "      <td>NaN</td>\n",
       "      <td>NaN</td>\n",
       "      <td>4</td>\n",
       "    </tr>\n",
       "    <tr>\n",
       "      <th>73</th>\n",
       "      <td>3522</td>\n",
       "      <td>triamcinolone</td>\n",
       "      <td>40</td>\n",
       "      <td>mg/ml</td>\n",
       "      <td>intralesional</td>\n",
       "      <td>10</td>\n",
       "      <td>Size of hemangioma (cm2)</td>\n",
       "      <td>3.7 ± 2.5</td>\n",
       "      <td>NaN</td>\n",
       "      <td>NaN</td>\n",
       "      <td>NaN</td>\n",
       "      <td>NaN</td>\n",
       "      <td>NaN</td>\n",
       "      <td>NaN</td>\n",
       "    </tr>\n",
       "    <tr>\n",
       "      <th>74</th>\n",
       "      <td>3522</td>\n",
       "      <td>triamcinolone</td>\n",
       "      <td>40</td>\n",
       "      <td>mg/ml</td>\n",
       "      <td>intralesional</td>\n",
       "      <td>10</td>\n",
       "      <td>Response rate - Complete resolution achieved</td>\n",
       "      <td>40</td>\n",
       "      <td>range</td>\n",
       "      <td>NaN</td>\n",
       "      <td>NaN</td>\n",
       "      <td>99</td>\n",
       "      <td>100</td>\n",
       "      <td>4</td>\n",
       "    </tr>\n",
       "    <tr>\n",
       "      <th>75</th>\n",
       "      <td>3522</td>\n",
       "      <td>triamcinolone</td>\n",
       "      <td>40</td>\n",
       "      <td>mg/ml</td>\n",
       "      <td>intralesional</td>\n",
       "      <td>10</td>\n",
       "      <td>Response rate - Sustained plateau, with &gt;50% r...</td>\n",
       "      <td>20</td>\n",
       "      <td>range</td>\n",
       "      <td>NaN</td>\n",
       "      <td>NaN</td>\n",
       "      <td>50</td>\n",
       "      <td>99</td>\n",
       "      <td>2</td>\n",
       "    </tr>\n",
       "    <tr>\n",
       "      <th>76</th>\n",
       "      <td>3522</td>\n",
       "      <td>triamcinolone</td>\n",
       "      <td>40</td>\n",
       "      <td>mg/ml</td>\n",
       "      <td>intralesional</td>\n",
       "      <td>10</td>\n",
       "      <td>Response rate - &lt;50% reduction in size of hema...</td>\n",
       "      <td>20</td>\n",
       "      <td>range</td>\n",
       "      <td>NaN</td>\n",
       "      <td>NaN</td>\n",
       "      <td>0</td>\n",
       "      <td>50</td>\n",
       "      <td>2</td>\n",
       "    </tr>\n",
       "    <tr>\n",
       "      <th>77</th>\n",
       "      <td>3522</td>\n",
       "      <td>triamcinolone</td>\n",
       "      <td>40</td>\n",
       "      <td>mg/ml</td>\n",
       "      <td>intralesional</td>\n",
       "      <td>10</td>\n",
       "      <td>Resistant to treatment</td>\n",
       "      <td>20</td>\n",
       "      <td>range</td>\n",
       "      <td>NaN</td>\n",
       "      <td>NaN</td>\n",
       "      <td>0</td>\n",
       "      <td>0</td>\n",
       "      <td>2</td>\n",
       "    </tr>\n",
       "    <tr>\n",
       "      <th>78</th>\n",
       "      <td>3522</td>\n",
       "      <td>triamcinolone</td>\n",
       "      <td>40</td>\n",
       "      <td>mg/ml</td>\n",
       "      <td>intralesional</td>\n",
       "      <td>10</td>\n",
       "      <td>Rebound growth</td>\n",
       "      <td>3</td>\n",
       "      <td>NaN</td>\n",
       "      <td>NaN</td>\n",
       "      <td>NaN</td>\n",
       "      <td>NaN</td>\n",
       "      <td>NaN</td>\n",
       "      <td>3</td>\n",
       "    </tr>\n",
       "  </tbody>\n",
       "</table>\n",
       "</div>"
      ],
      "text/plain": [
       "    REFID            Arm Dosage Dosage amount    Dosage form  N at follow-up  \\\n",
       "67   3522    propranolol      1         mg/ml  intralesional              12   \n",
       "68   3522    propranolol      1         mg/ml  intralesional              12   \n",
       "69   3522    propranolol      1         mg/ml  intralesional              12   \n",
       "70   3522    propranolol      1         mg/ml  intralesional              12   \n",
       "71   3522    propranolol      1         mg/ml  intralesional              12   \n",
       "72   3522    propranolol      1         mg/ml  intralesional              12   \n",
       "73   3522  triamcinolone     40         mg/ml  intralesional              10   \n",
       "74   3522  triamcinolone     40         mg/ml  intralesional              10   \n",
       "75   3522  triamcinolone     40         mg/ml  intralesional              10   \n",
       "76   3522  triamcinolone     40         mg/ml  intralesional              10   \n",
       "77   3522  triamcinolone     40         mg/ml  intralesional              10   \n",
       "78   3522  triamcinolone     40         mg/ml  intralesional              10   \n",
       "\n",
       "                                              Outcome Outcome data/result  \\\n",
       "67                           Size of hemangioma (cm2)           3.6 ± 2.6   \n",
       "68       Response rate - Complete resolution achieved                  42   \n",
       "69  Response rate - Sustained plateau, with >50% r...                  25   \n",
       "70  Response rate - <50% reduction in size of hema...                  17   \n",
       "71                             Resistant to treatment                  17   \n",
       "72                                     Rebound growth                   4   \n",
       "73                           Size of hemangioma (cm2)           3.7 ± 2.5   \n",
       "74       Response rate - Complete resolution achieved                  40   \n",
       "75  Response rate - Sustained plateau, with >50% r...                  20   \n",
       "76  Response rate - <50% reduction in size of hema...                  20   \n",
       "77                             Resistant to treatment                  20   \n",
       "78                                     Rebound growth                   3   \n",
       "\n",
       "   Outcome data  Point estimate   sd  Lower range  Upper range  \\\n",
       "67          NaN             NaN  NaN          NaN          NaN   \n",
       "68       scalar             NaN  NaN           99          100   \n",
       "69        range             NaN  NaN           50           99   \n",
       "70        range             NaN  NaN            0           50   \n",
       "71          NaN             NaN  NaN          NaN          NaN   \n",
       "72          NaN             NaN  NaN          NaN          NaN   \n",
       "73          NaN             NaN  NaN          NaN          NaN   \n",
       "74        range             NaN  NaN           99          100   \n",
       "75        range             NaN  NaN           50           99   \n",
       "76        range             NaN  NaN            0           50   \n",
       "77        range             NaN  NaN            0            0   \n",
       "78          NaN             NaN  NaN          NaN          NaN   \n",
       "\n",
       "   Outcome data/result N  \n",
       "67                   NaN  \n",
       "68                     5  \n",
       "69                     3  \n",
       "70                     2  \n",
       "71                     2  \n",
       "72                     4  \n",
       "73                   NaN  \n",
       "74                     4  \n",
       "75                     2  \n",
       "76                     2  \n",
       "77                     2  \n",
       "78                     3  "
      ]
     },
     "execution_count": 81,
     "metadata": {},
     "output_type": "execute_result"
    }
   ],
   "source": [
    "kq2_outcomes[kq2_outcomes.REFID==3522][subset_cols]"
   ]
  },
  {
   "cell_type": "markdown",
   "metadata": {
    "collapsed": true
   },
   "source": [
    "This study treats lesions in periocular area only, and therefore was omitted from the meta-analysis."
   ]
  },
  {
   "cell_type": "markdown",
   "metadata": {},
   "source": [
    "### Pope 2007 (RefID 1180)"
   ]
  },
  {
   "cell_type": "code",
   "execution_count": 82,
   "metadata": {
    "collapsed": false
   },
   "outputs": [
    {
     "data": {
      "text/html": [
       "<div>\n",
       "<table border=\"1\" class=\"dataframe\">\n",
       "  <thead>\n",
       "    <tr style=\"text-align: right;\">\n",
       "      <th></th>\n",
       "      <th>REFID</th>\n",
       "      <th>Arm</th>\n",
       "      <th>Dosage</th>\n",
       "      <th>Dosage amount</th>\n",
       "      <th>Dosage form</th>\n",
       "      <th>N at follow-up</th>\n",
       "      <th>Outcome</th>\n",
       "      <th>Outcome data/result</th>\n",
       "      <th>Outcome data</th>\n",
       "      <th>Point estimate</th>\n",
       "      <th>sd</th>\n",
       "      <th>Lower range</th>\n",
       "      <th>Upper range</th>\n",
       "      <th>Outcome data/result N</th>\n",
       "    </tr>\n",
       "  </thead>\n",
       "  <tbody>\n",
       "    <tr>\n",
       "      <th>82</th>\n",
       "      <td>1180</td>\n",
       "      <td>prednisolone</td>\n",
       "      <td>2</td>\n",
       "      <td>mg/kg</td>\n",
       "      <td>oral</td>\n",
       "      <td>10</td>\n",
       "      <td>Change in size measured using VAS at AGE 1 year</td>\n",
       "      <td>50 (35 to 67)</td>\n",
       "      <td>difference</td>\n",
       "      <td>50</td>\n",
       "      <td>NaN</td>\n",
       "      <td>35</td>\n",
       "      <td>67</td>\n",
       "      <td>NaN</td>\n",
       "    </tr>\n",
       "  </tbody>\n",
       "</table>\n",
       "</div>"
      ],
      "text/plain": [
       "    REFID           Arm Dosage Dosage amount Dosage form  N at follow-up  \\\n",
       "82   1180  prednisolone      2         mg/kg        oral              10   \n",
       "\n",
       "                                            Outcome Outcome data/result  \\\n",
       "82  Change in size measured using VAS at AGE 1 year       50 (35 to 67)   \n",
       "\n",
       "   Outcome data  Point estimate   sd  Lower range  Upper range  \\\n",
       "82   difference              50  NaN           35           67   \n",
       "\n",
       "   Outcome data/result N  \n",
       "82                   NaN  "
      ]
     },
     "execution_count": 82,
     "metadata": {},
     "output_type": "execute_result"
    }
   ],
   "source": [
    "kq2_outcomes[kq2_outcomes.REFID==1180][subset_cols]"
   ]
  },
  {
   "cell_type": "code",
   "execution_count": 83,
   "metadata": {
    "collapsed": true
   },
   "outputs": [],
   "source": [
    "refid1180 = np.where(unique_studies==1180)[0][0]"
   ]
  },
  {
   "cell_type": "code",
   "execution_count": 84,
   "metadata": {
    "collapsed": true
   },
   "outputs": [],
   "source": [
    "prednisolone_sd_1180 = (0.67 - 0.35) / 1.35"
   ]
  },
  {
   "cell_type": "code",
   "execution_count": 85,
   "metadata": {
    "collapsed": true
   },
   "outputs": [],
   "source": [
    "if quality_scores[1180] >= quality_thresh:\n",
    "\n",
    "    prednisolone_1180_latent = pm.Normal('prednisolone_1180_latent', 0.5, \n",
    "                                                 prednisolone_sd_1180**-2, size=10)\n",
    "\n",
    "    prednisolone_1180_trunc = pm.Lambda('prednisolone_1180_trunc', \n",
    "                                             lambda y=prednisolone_1180_latent: np.clip(y, 1e-6, 1-1e-6)).value"
   ]
  },
  {
   "cell_type": "code",
   "execution_count": 86,
   "metadata": {
    "collapsed": false
   },
   "outputs": [],
   "source": [
    "if quality_scores[1180] >= quality_thresh:\n",
    "\n",
    "    @pm.deterministic\n",
    "    def mu_prednisolone_1180(μ=μ, θ=θ, ϵ=ϵ):\n",
    "        # Mean response on the logit scale for prednisolone in RefID 1180\n",
    "        return μ + θ[ORAL_STEROID] + ϵ[refid1180]\n",
    "\n",
    "    @pm.potential\n",
    "    def prednisolone_obs_1180(μ=mu_prednisolone_1180, τ=τ, y=prednisolone_1180_trunc):\n",
    "        return pm.normal_like(pm.logit(y), μ, τ[ORAL_STEROID])"
   ]
  },
  {
   "cell_type": "markdown",
   "metadata": {},
   "source": [
    "### Pope 2012 (RefID 3723)"
   ]
  },
  {
   "cell_type": "code",
   "execution_count": 87,
   "metadata": {
    "collapsed": false
   },
   "outputs": [
    {
     "data": {
      "text/html": [
       "<div>\n",
       "<table border=\"1\" class=\"dataframe\">\n",
       "  <thead>\n",
       "    <tr style=\"text-align: right;\">\n",
       "      <th></th>\n",
       "      <th>REFID</th>\n",
       "      <th>Arm</th>\n",
       "      <th>Dosage</th>\n",
       "      <th>Dosage amount</th>\n",
       "      <th>Dosage form</th>\n",
       "      <th>N at follow-up</th>\n",
       "      <th>Outcome</th>\n",
       "      <th>Outcome data/result</th>\n",
       "      <th>Outcome data</th>\n",
       "      <th>Point estimate</th>\n",
       "      <th>sd</th>\n",
       "      <th>Lower range</th>\n",
       "      <th>Upper range</th>\n",
       "      <th>Outcome data/result N</th>\n",
       "    </tr>\n",
       "  </thead>\n",
       "  <tbody>\n",
       "    <tr>\n",
       "      <th>80</th>\n",
       "      <td>3723</td>\n",
       "      <td>propranolol</td>\n",
       "      <td>2 to 3</td>\n",
       "      <td>mg/kg</td>\n",
       "      <td>oral</td>\n",
       "      <td>9</td>\n",
       "      <td>percentage IH shrinkage</td>\n",
       "      <td>86 ± 14.82</td>\n",
       "      <td>estimate</td>\n",
       "      <td>86</td>\n",
       "      <td>14.82</td>\n",
       "      <td>NaN</td>\n",
       "      <td>NaN</td>\n",
       "      <td>NaN</td>\n",
       "    </tr>\n",
       "  </tbody>\n",
       "</table>\n",
       "</div>"
      ],
      "text/plain": [
       "    REFID          Arm  Dosage Dosage amount Dosage form  N at follow-up  \\\n",
       "80   3723  propranolol  2 to 3         mg/kg        oral               9   \n",
       "\n",
       "                    Outcome Outcome data/result Outcome data  Point estimate  \\\n",
       "80  percentage IH shrinkage          86 ± 14.82     estimate              86   \n",
       "\n",
       "       sd  Lower range  Upper range Outcome data/result N  \n",
       "80  14.82          NaN          NaN                   NaN  "
      ]
     },
     "execution_count": 87,
     "metadata": {},
     "output_type": "execute_result"
    }
   ],
   "source": [
    "kq2_outcomes[kq2_outcomes.REFID==3723][subset_cols]"
   ]
  },
  {
   "cell_type": "code",
   "execution_count": 88,
   "metadata": {
    "collapsed": true
   },
   "outputs": [],
   "source": [
    "refid3723 = np.where(unique_studies==3723)[0][0]"
   ]
  },
  {
   "cell_type": "code",
   "execution_count": 89,
   "metadata": {
    "collapsed": true
   },
   "outputs": [],
   "source": [
    "propranolol_3723_var = (0.1482**2) / (0.86 * (1-0.86))**2"
   ]
  },
  {
   "cell_type": "code",
   "execution_count": 90,
   "metadata": {
    "collapsed": true
   },
   "outputs": [],
   "source": [
    "if (quality_scores[3723] >= quality_thresh) and include_cohort:\n",
    "\n",
    "    @pm.deterministic\n",
    "    def mu_propranolol_3723(μ=μ, θ=θ, ϵ=ϵ):\n",
    "        # Mean response on the logit scale for oral propranolol in RefID 3723\n",
    "        return μ + θ[PROPRANOLOL] + ϵ[refid3723]\n",
    "\n",
    "    propranolol_obs_3723 = pm.Normal('propranolol_obs_3723', mu_propranolol_3723, propranolol_3723_var**-1, \n",
    "                                    value=pm.logit(0.86), observed=True)\n",
    "    # Posterior predictive check\n",
    "    pred_propranolol_3723 = pm.Normal('pred_propranolol_3723', mu_propranolol_3723, propranolol_3723_var**-1, \n",
    "                                    value=pm.logit(0.86))"
   ]
  },
  {
   "cell_type": "markdown",
   "metadata": {},
   "source": [
    "### Leaute-Labreze 2013 (RefID 3875)"
   ]
  },
  {
   "cell_type": "code",
   "execution_count": 91,
   "metadata": {
    "collapsed": false
   },
   "outputs": [
    {
     "data": {
      "text/html": [
       "<div>\n",
       "<table border=\"1\" class=\"dataframe\">\n",
       "  <thead>\n",
       "    <tr style=\"text-align: right;\">\n",
       "      <th></th>\n",
       "      <th>REFID</th>\n",
       "      <th>Arm</th>\n",
       "      <th>Dosage</th>\n",
       "      <th>Dosage amount</th>\n",
       "      <th>Dosage form</th>\n",
       "      <th>N at follow-up</th>\n",
       "      <th>Outcome</th>\n",
       "      <th>Outcome data/result</th>\n",
       "      <th>Outcome data</th>\n",
       "      <th>Point estimate</th>\n",
       "      <th>sd</th>\n",
       "      <th>Lower range</th>\n",
       "      <th>Upper range</th>\n",
       "      <th>Outcome data/result N</th>\n",
       "    </tr>\n",
       "  </thead>\n",
       "  <tbody>\n",
       "    <tr>\n",
       "      <th>83</th>\n",
       "      <td>3875</td>\n",
       "      <td>propranolol</td>\n",
       "      <td>3 then 4</td>\n",
       "      <td>mg/kg</td>\n",
       "      <td>oral</td>\n",
       "      <td>6</td>\n",
       "      <td>change in thickness</td>\n",
       "      <td>44.9 (36.0, 76.2)</td>\n",
       "      <td>NaN</td>\n",
       "      <td>44.9</td>\n",
       "      <td>NaN</td>\n",
       "      <td>NaN</td>\n",
       "      <td>NaN</td>\n",
       "      <td>NaN</td>\n",
       "    </tr>\n",
       "    <tr>\n",
       "      <th>84</th>\n",
       "      <td>3875</td>\n",
       "      <td>propranolol</td>\n",
       "      <td>3 then 4</td>\n",
       "      <td>mg/kg</td>\n",
       "      <td>oral</td>\n",
       "      <td>6</td>\n",
       "      <td>percentage change in size</td>\n",
       "      <td>15.8 (2.4, 51.7)</td>\n",
       "      <td>NaN</td>\n",
       "      <td>15.8</td>\n",
       "      <td>NaN</td>\n",
       "      <td>NaN</td>\n",
       "      <td>NaN</td>\n",
       "      <td>NaN</td>\n",
       "    </tr>\n",
       "    <tr>\n",
       "      <th>85</th>\n",
       "      <td>3875</td>\n",
       "      <td>placebo</td>\n",
       "      <td>NaN</td>\n",
       "      <td>NaN</td>\n",
       "      <td>NaN</td>\n",
       "      <td>6</td>\n",
       "      <td>change in thickness</td>\n",
       "      <td>-11.3</td>\n",
       "      <td>NaN</td>\n",
       "      <td>-11.3</td>\n",
       "      <td>NaN</td>\n",
       "      <td>NaN</td>\n",
       "      <td>NaN</td>\n",
       "      <td>NaN</td>\n",
       "    </tr>\n",
       "    <tr>\n",
       "      <th>86</th>\n",
       "      <td>3875</td>\n",
       "      <td>placebo</td>\n",
       "      <td>NaN</td>\n",
       "      <td>NaN</td>\n",
       "      <td>NaN</td>\n",
       "      <td>6</td>\n",
       "      <td>percentage change in size</td>\n",
       "      <td>-8.9</td>\n",
       "      <td>NaN</td>\n",
       "      <td>-8.9</td>\n",
       "      <td>NaN</td>\n",
       "      <td>NaN</td>\n",
       "      <td>NaN</td>\n",
       "      <td>NaN</td>\n",
       "    </tr>\n",
       "  </tbody>\n",
       "</table>\n",
       "</div>"
      ],
      "text/plain": [
       "    REFID          Arm    Dosage Dosage amount Dosage form  N at follow-up  \\\n",
       "83   3875  propranolol  3 then 4         mg/kg        oral               6   \n",
       "84   3875  propranolol  3 then 4         mg/kg        oral               6   \n",
       "85   3875      placebo       NaN           NaN         NaN               6   \n",
       "86   3875      placebo       NaN           NaN         NaN               6   \n",
       "\n",
       "                      Outcome Outcome data/result Outcome data  \\\n",
       "83        change in thickness   44.9 (36.0, 76.2)          NaN   \n",
       "84  percentage change in size    15.8 (2.4, 51.7)          NaN   \n",
       "85        change in thickness               -11.3          NaN   \n",
       "86  percentage change in size                -8.9          NaN   \n",
       "\n",
       "    Point estimate   sd  Lower range  Upper range Outcome data/result N  \n",
       "83            44.9  NaN          NaN          NaN                   NaN  \n",
       "84            15.8  NaN          NaN          NaN                   NaN  \n",
       "85           -11.3  NaN          NaN          NaN                   NaN  \n",
       "86            -8.9  NaN          NaN          NaN                   NaN  "
      ]
     },
     "execution_count": 91,
     "metadata": {},
     "output_type": "execute_result"
    }
   ],
   "source": [
    "kq2_outcomes[kq2_outcomes.REFID==3875][subset_cols]"
   ]
  },
  {
   "cell_type": "code",
   "execution_count": 92,
   "metadata": {
    "collapsed": true
   },
   "outputs": [],
   "source": [
    "refid3875 = np.where(unique_studies==3875)[0][0]"
   ]
  },
  {
   "cell_type": "code",
   "execution_count": 93,
   "metadata": {
    "collapsed": true
   },
   "outputs": [],
   "source": [
    "_propranolol_3875_sd = 6 * (0.517 - 0.024) / 3.92"
   ]
  },
  {
   "cell_type": "code",
   "execution_count": 94,
   "metadata": {
    "collapsed": false
   },
   "outputs": [],
   "source": [
    "propranolol_3875_var = (_propranolol_3875_sd**2) / (0.158 * (1-0.158))**2"
   ]
  },
  {
   "cell_type": "code",
   "execution_count": 95,
   "metadata": {
    "collapsed": true
   },
   "outputs": [],
   "source": [
    "if quality_scores[3875] >= quality_thresh:\n",
    "\n",
    "    @pm.deterministic\n",
    "    def mu_propranolol_3875(μ=μ, θ=θ, ϵ=ϵ):\n",
    "        # Mean response on the logit scale for oral propranolol in RefID 13\n",
    "        return μ + θ[PROPRANOLOL] + ϵ[refid3875]\n",
    "\n",
    "    propranolol_obs_3875 = pm.Normal('propranolol_obs_3875', mu_propranolol_3875, propranolol_3875_var**-1, \n",
    "                                   value=pm.logit(0.158), observed=True)\n",
    "    # Posterior predictive check\n",
    "    pred_propranolol_3875 = pm.Normal('pred_propranolol_3875', mu_propranolol_3875, propranolol_3875_var**-1, \n",
    "                                   value=pm.logit(0.158))"
   ]
  },
  {
   "cell_type": "markdown",
   "metadata": {},
   "source": [
    "### Malik 2013 (RefID 3843)"
   ]
  },
  {
   "cell_type": "code",
   "execution_count": 96,
   "metadata": {
    "collapsed": false
   },
   "outputs": [
    {
     "data": {
      "text/html": [
       "<div>\n",
       "<table border=\"1\" class=\"dataframe\">\n",
       "  <thead>\n",
       "    <tr style=\"text-align: right;\">\n",
       "      <th></th>\n",
       "      <th>REFID</th>\n",
       "      <th>Arm</th>\n",
       "      <th>Dosage</th>\n",
       "      <th>Dosage amount</th>\n",
       "      <th>Dosage form</th>\n",
       "      <th>N at follow-up</th>\n",
       "      <th>Outcome</th>\n",
       "      <th>Outcome data/result</th>\n",
       "      <th>Outcome data</th>\n",
       "      <th>Point estimate</th>\n",
       "      <th>sd</th>\n",
       "      <th>Lower range</th>\n",
       "      <th>Upper range</th>\n",
       "      <th>Outcome data/result N</th>\n",
       "    </tr>\n",
       "  </thead>\n",
       "  <tbody>\n",
       "    <tr>\n",
       "      <th>87</th>\n",
       "      <td>3843</td>\n",
       "      <td>propranolol</td>\n",
       "      <td>2-3</td>\n",
       "      <td>mg/kg</td>\n",
       "      <td>oral</td>\n",
       "      <td>5</td>\n",
       "      <td>color fading, flattening</td>\n",
       "      <td>NaN</td>\n",
       "      <td>NaN</td>\n",
       "      <td>NaN</td>\n",
       "      <td>1.7</td>\n",
       "      <td>NaN</td>\n",
       "      <td>NaN</td>\n",
       "      <td>NaN</td>\n",
       "    </tr>\n",
       "    <tr>\n",
       "      <th>88</th>\n",
       "      <td>3843</td>\n",
       "      <td>prednisolone</td>\n",
       "      <td>1-4</td>\n",
       "      <td>mg/kg</td>\n",
       "      <td>oral</td>\n",
       "      <td>4</td>\n",
       "      <td>color fading, flattening</td>\n",
       "      <td>NaN</td>\n",
       "      <td>NaN</td>\n",
       "      <td>NaN</td>\n",
       "      <td>2.9</td>\n",
       "      <td>NaN</td>\n",
       "      <td>NaN</td>\n",
       "      <td>NaN</td>\n",
       "    </tr>\n",
       "    <tr>\n",
       "      <th>89</th>\n",
       "      <td>3843</td>\n",
       "      <td>propranolol</td>\n",
       "      <td>2-3</td>\n",
       "      <td>mg/kg</td>\n",
       "      <td>oral</td>\n",
       "      <td>5</td>\n",
       "      <td>mean size reduction</td>\n",
       "      <td>89.8 ± 10.3</td>\n",
       "      <td>NaN</td>\n",
       "      <td>89.8</td>\n",
       "      <td>10.3</td>\n",
       "      <td>NaN</td>\n",
       "      <td>NaN</td>\n",
       "      <td>NaN</td>\n",
       "    </tr>\n",
       "    <tr>\n",
       "      <th>90</th>\n",
       "      <td>3843</td>\n",
       "      <td>prednisolone</td>\n",
       "      <td>1-4</td>\n",
       "      <td>mg/kg</td>\n",
       "      <td>oral</td>\n",
       "      <td>4</td>\n",
       "      <td>mean size reduction</td>\n",
       "      <td>66.6 ± 41.6</td>\n",
       "      <td>NaN</td>\n",
       "      <td>66.6</td>\n",
       "      <td>41.6</td>\n",
       "      <td>NaN</td>\n",
       "      <td>NaN</td>\n",
       "      <td>NaN</td>\n",
       "    </tr>\n",
       "  </tbody>\n",
       "</table>\n",
       "</div>"
      ],
      "text/plain": [
       "    REFID           Arm Dosage Dosage amount Dosage form  N at follow-up  \\\n",
       "87   3843   propranolol    2-3         mg/kg        oral               5   \n",
       "88   3843  prednisolone    1-4         mg/kg        oral               4   \n",
       "89   3843   propranolol    2-3         mg/kg        oral               5   \n",
       "90   3843  prednisolone    1-4         mg/kg        oral               4   \n",
       "\n",
       "                     Outcome Outcome data/result Outcome data  Point estimate  \\\n",
       "87  color fading, flattening                 NaN          NaN             NaN   \n",
       "88  color fading, flattening                 NaN          NaN             NaN   \n",
       "89       mean size reduction         89.8 ± 10.3          NaN            89.8   \n",
       "90       mean size reduction         66.6 ± 41.6          NaN            66.6   \n",
       "\n",
       "      sd  Lower range  Upper range Outcome data/result N  \n",
       "87   1.7          NaN          NaN                   NaN  \n",
       "88   2.9          NaN          NaN                   NaN  \n",
       "89  10.3          NaN          NaN                   NaN  \n",
       "90  41.6          NaN          NaN                   NaN  "
      ]
     },
     "execution_count": 96,
     "metadata": {},
     "output_type": "execute_result"
    }
   ],
   "source": [
    "kq2_outcomes[kq2_outcomes.REFID==3843][subset_cols]"
   ]
  },
  {
   "cell_type": "code",
   "execution_count": 97,
   "metadata": {
    "collapsed": true
   },
   "outputs": [],
   "source": [
    "refid3843 = np.where(unique_studies==3843)[0][0]"
   ]
  },
  {
   "cell_type": "code",
   "execution_count": 98,
   "metadata": {
    "collapsed": true
   },
   "outputs": [],
   "source": [
    "propranolol_3843_var = (0.103**2) / (0.898 * (1-0.898))**2\n",
    "prednisolone_3843_var = (0.416**2) / (0.666 * (1-0.666))**2"
   ]
  },
  {
   "cell_type": "code",
   "execution_count": 99,
   "metadata": {
    "collapsed": true
   },
   "outputs": [],
   "source": [
    "if quality_scores[3843] >= quality_thresh:\n",
    "\n",
    "    @pm.deterministic\n",
    "    def mu_propranolol_3843(μ=μ, θ=θ, ϵ=ϵ):\n",
    "        # Mean response on the logit scale for oral propranolol in RefID 3843\n",
    "        return μ + θ[PROPRANOLOL] + ϵ[refid3843]\n",
    "\n",
    "    propranolol_obs_3843 = pm.Normal('propranolol_obs_3843', mu_propranolol_3843, propranolol_3843_var**-1, \n",
    "                                    value=pm.logit(0.898), observed=True)\n",
    "    # Posterior predictive check\n",
    "    pred_propranolol_3843 = pm.Normal('pred_propranolol_3843', mu_propranolol_3843, propranolol_3843_var**-1, \n",
    "                                    value=pm.logit(0.898))\n",
    "\n",
    "    @pm.deterministic\n",
    "    def mu_prednisolone_3843(μ=μ, θ=θ, ϵ=ϵ):\n",
    "        # Mean response on the logit scale for prednisolone in RefID 3843\n",
    "        return μ + θ[ORAL_STEROID] + ϵ[refid3843]\n",
    "\n",
    "    prednisolone_obs_3843 = pm.Normal('prednisolone_obs_3843', mu_prednisolone_3843, prednisolone_3843_var**-1, \n",
    "                                    value=pm.logit(0.666), observed=True)\n",
    "    # posterior predictive check\n",
    "    pred_prednisolone_3843 = pm.Normal('pred_prednisolone_3843', mu_prednisolone_3843, prednisolone_3843_var**-1, \n",
    "                                    value=pm.logit(0.666))"
   ]
  },
  {
   "cell_type": "markdown",
   "metadata": {},
   "source": [
    "### Tawfik 2015 (RefID 4000)"
   ]
  },
  {
   "cell_type": "code",
   "execution_count": 100,
   "metadata": {
    "collapsed": false
   },
   "outputs": [
    {
     "data": {
      "text/html": [
       "<div>\n",
       "<table border=\"1\" class=\"dataframe\">\n",
       "  <thead>\n",
       "    <tr style=\"text-align: right;\">\n",
       "      <th></th>\n",
       "      <th>REFID</th>\n",
       "      <th>Arm</th>\n",
       "      <th>Dosage</th>\n",
       "      <th>Dosage amount</th>\n",
       "      <th>Dosage form</th>\n",
       "      <th>N at follow-up</th>\n",
       "      <th>Outcome</th>\n",
       "      <th>Outcome data/result</th>\n",
       "      <th>Outcome data</th>\n",
       "      <th>Point estimate</th>\n",
       "      <th>sd</th>\n",
       "      <th>Lower range</th>\n",
       "      <th>Upper range</th>\n",
       "      <th>Outcome data/result N</th>\n",
       "    </tr>\n",
       "  </thead>\n",
       "  <tbody>\n",
       "    <tr>\n",
       "      <th>91</th>\n",
       "      <td>4000</td>\n",
       "      <td>timolol</td>\n",
       "      <td>5</td>\n",
       "      <td>mg/ml</td>\n",
       "      <td>topical</td>\n",
       "      <td>30</td>\n",
       "      <td>No improvement (0 %) in ≤ 6month old</td>\n",
       "      <td>NaN</td>\n",
       "      <td>NaN</td>\n",
       "      <td>NaN</td>\n",
       "      <td>NaN</td>\n",
       "      <td>NaN</td>\n",
       "      <td>NaN</td>\n",
       "      <td>0</td>\n",
       "    </tr>\n",
       "    <tr>\n",
       "      <th>92</th>\n",
       "      <td>4000</td>\n",
       "      <td>timolol</td>\n",
       "      <td>5</td>\n",
       "      <td>mg/ml</td>\n",
       "      <td>topical</td>\n",
       "      <td>30</td>\n",
       "      <td>Mild improvement (&lt;25%) in ≤ 6month old</td>\n",
       "      <td>NaN</td>\n",
       "      <td>NaN</td>\n",
       "      <td>NaN</td>\n",
       "      <td>NaN</td>\n",
       "      <td>NaN</td>\n",
       "      <td>NaN</td>\n",
       "      <td>1</td>\n",
       "    </tr>\n",
       "    <tr>\n",
       "      <th>93</th>\n",
       "      <td>4000</td>\n",
       "      <td>timolol</td>\n",
       "      <td>5</td>\n",
       "      <td>mg/ml</td>\n",
       "      <td>topical</td>\n",
       "      <td>30</td>\n",
       "      <td>Moderate imrovement (26% - 50%) in ≤ 6month old</td>\n",
       "      <td>NaN</td>\n",
       "      <td>NaN</td>\n",
       "      <td>NaN</td>\n",
       "      <td>NaN</td>\n",
       "      <td>NaN</td>\n",
       "      <td>NaN</td>\n",
       "      <td>1</td>\n",
       "    </tr>\n",
       "    <tr>\n",
       "      <th>94</th>\n",
       "      <td>4000</td>\n",
       "      <td>timolol</td>\n",
       "      <td>5</td>\n",
       "      <td>mg/ml</td>\n",
       "      <td>topical</td>\n",
       "      <td>30</td>\n",
       "      <td>Good improvement (51% - 75%) in ≤ 6month old</td>\n",
       "      <td>NaN</td>\n",
       "      <td>NaN</td>\n",
       "      <td>NaN</td>\n",
       "      <td>NaN</td>\n",
       "      <td>NaN</td>\n",
       "      <td>NaN</td>\n",
       "      <td>3</td>\n",
       "    </tr>\n",
       "    <tr>\n",
       "      <th>95</th>\n",
       "      <td>4000</td>\n",
       "      <td>timolol</td>\n",
       "      <td>5</td>\n",
       "      <td>mg/ml</td>\n",
       "      <td>topical</td>\n",
       "      <td>30</td>\n",
       "      <td>Excellent improvement (76% 110%)  in ≤ 6month old</td>\n",
       "      <td>NaN</td>\n",
       "      <td>NaN</td>\n",
       "      <td>NaN</td>\n",
       "      <td>NaN</td>\n",
       "      <td>NaN</td>\n",
       "      <td>NaN</td>\n",
       "      <td>3</td>\n",
       "    </tr>\n",
       "    <tr>\n",
       "      <th>96</th>\n",
       "      <td>4000</td>\n",
       "      <td>timolol</td>\n",
       "      <td>5</td>\n",
       "      <td>mg/ml</td>\n",
       "      <td>topical</td>\n",
       "      <td>30</td>\n",
       "      <td>No improvement (0 %) in &gt; 6month old</td>\n",
       "      <td>NaN</td>\n",
       "      <td>NaN</td>\n",
       "      <td>NaN</td>\n",
       "      <td>NaN</td>\n",
       "      <td>NaN</td>\n",
       "      <td>NaN</td>\n",
       "      <td>4</td>\n",
       "    </tr>\n",
       "    <tr>\n",
       "      <th>97</th>\n",
       "      <td>4000</td>\n",
       "      <td>timolol</td>\n",
       "      <td>5</td>\n",
       "      <td>mg/ml</td>\n",
       "      <td>topical</td>\n",
       "      <td>30</td>\n",
       "      <td>Mild improvement (&lt;25%) in &gt; 6month old</td>\n",
       "      <td>NaN</td>\n",
       "      <td>NaN</td>\n",
       "      <td>NaN</td>\n",
       "      <td>NaN</td>\n",
       "      <td>NaN</td>\n",
       "      <td>NaN</td>\n",
       "      <td>3</td>\n",
       "    </tr>\n",
       "    <tr>\n",
       "      <th>98</th>\n",
       "      <td>4000</td>\n",
       "      <td>timolol</td>\n",
       "      <td>5</td>\n",
       "      <td>mg/ml</td>\n",
       "      <td>topical</td>\n",
       "      <td>30</td>\n",
       "      <td>Moderate imrovement (26% - 50%) in &gt; 6month old</td>\n",
       "      <td>NaN</td>\n",
       "      <td>NaN</td>\n",
       "      <td>NaN</td>\n",
       "      <td>NaN</td>\n",
       "      <td>NaN</td>\n",
       "      <td>NaN</td>\n",
       "      <td>3</td>\n",
       "    </tr>\n",
       "    <tr>\n",
       "      <th>99</th>\n",
       "      <td>4000</td>\n",
       "      <td>timolol</td>\n",
       "      <td>5</td>\n",
       "      <td>mg/ml</td>\n",
       "      <td>topical</td>\n",
       "      <td>30</td>\n",
       "      <td>Good improvement (51% - 75%) in &gt; 6month old</td>\n",
       "      <td>NaN</td>\n",
       "      <td>NaN</td>\n",
       "      <td>NaN</td>\n",
       "      <td>NaN</td>\n",
       "      <td>NaN</td>\n",
       "      <td>NaN</td>\n",
       "      <td>6</td>\n",
       "    </tr>\n",
       "    <tr>\n",
       "      <th>100</th>\n",
       "      <td>4000</td>\n",
       "      <td>timolol</td>\n",
       "      <td>5</td>\n",
       "      <td>mg/ml</td>\n",
       "      <td>topical</td>\n",
       "      <td>30</td>\n",
       "      <td>Excellent improvement (76% 110%)  in &gt; 6month old</td>\n",
       "      <td>NaN</td>\n",
       "      <td>NaN</td>\n",
       "      <td>NaN</td>\n",
       "      <td>NaN</td>\n",
       "      <td>NaN</td>\n",
       "      <td>NaN</td>\n",
       "      <td>6</td>\n",
       "    </tr>\n",
       "    <tr>\n",
       "      <th>101</th>\n",
       "      <td>4000</td>\n",
       "      <td>timolol</td>\n",
       "      <td>5</td>\n",
       "      <td>mg/ml</td>\n",
       "      <td>topical</td>\n",
       "      <td>30</td>\n",
       "      <td>Hemoglobin level after treatment</td>\n",
       "      <td>NaN</td>\n",
       "      <td>NaN</td>\n",
       "      <td>NaN</td>\n",
       "      <td>NaN</td>\n",
       "      <td>NaN</td>\n",
       "      <td>NaN</td>\n",
       "      <td>1.67</td>\n",
       "    </tr>\n",
       "  </tbody>\n",
       "</table>\n",
       "</div>"
      ],
      "text/plain": [
       "     REFID      Arm Dosage Dosage amount Dosage form  N at follow-up  \\\n",
       "91    4000  timolol      5        mg/ml      topical              30   \n",
       "92    4000  timolol      5        mg/ml      topical              30   \n",
       "93    4000  timolol      5        mg/ml      topical              30   \n",
       "94    4000  timolol      5        mg/ml      topical              30   \n",
       "95    4000  timolol      5        mg/ml      topical              30   \n",
       "96    4000  timolol      5        mg/ml      topical              30   \n",
       "97    4000  timolol      5        mg/ml      topical              30   \n",
       "98    4000  timolol      5        mg/ml      topical              30   \n",
       "99    4000  timolol      5        mg/ml      topical              30   \n",
       "100   4000  timolol      5        mg/ml      topical              30   \n",
       "101   4000  timolol      5        mg/ml      topical              30   \n",
       "\n",
       "                                               Outcome Outcome data/result  \\\n",
       "91                No improvement (0 %) in ≤ 6month old                 NaN   \n",
       "92             Mild improvement (<25%) in ≤ 6month old                 NaN   \n",
       "93     Moderate imrovement (26% - 50%) in ≤ 6month old                 NaN   \n",
       "94        Good improvement (51% - 75%) in ≤ 6month old                 NaN   \n",
       "95   Excellent improvement (76% 110%)  in ≤ 6month old                 NaN   \n",
       "96                No improvement (0 %) in > 6month old                 NaN   \n",
       "97             Mild improvement (<25%) in > 6month old                 NaN   \n",
       "98     Moderate imrovement (26% - 50%) in > 6month old                 NaN   \n",
       "99        Good improvement (51% - 75%) in > 6month old                 NaN   \n",
       "100  Excellent improvement (76% 110%)  in > 6month old                 NaN   \n",
       "101                   Hemoglobin level after treatment                 NaN   \n",
       "\n",
       "    Outcome data  Point estimate   sd  Lower range  Upper range  \\\n",
       "91           NaN             NaN  NaN          NaN          NaN   \n",
       "92           NaN             NaN  NaN          NaN          NaN   \n",
       "93           NaN             NaN  NaN          NaN          NaN   \n",
       "94           NaN             NaN  NaN          NaN          NaN   \n",
       "95           NaN             NaN  NaN          NaN          NaN   \n",
       "96           NaN             NaN  NaN          NaN          NaN   \n",
       "97           NaN             NaN  NaN          NaN          NaN   \n",
       "98           NaN             NaN  NaN          NaN          NaN   \n",
       "99           NaN             NaN  NaN          NaN          NaN   \n",
       "100          NaN             NaN  NaN          NaN          NaN   \n",
       "101          NaN             NaN  NaN          NaN          NaN   \n",
       "\n",
       "    Outcome data/result N  \n",
       "91                      0  \n",
       "92                      1  \n",
       "93                      1  \n",
       "94                      3  \n",
       "95                      3  \n",
       "96                      4  \n",
       "97                      3  \n",
       "98                      3  \n",
       "99                      6  \n",
       "100                     6  \n",
       "101                  1.67  "
      ]
     },
     "execution_count": 100,
     "metadata": {},
     "output_type": "execute_result"
    }
   ],
   "source": [
    "kq2_outcomes[kq2_outcomes.REFID==4000][subset_cols]"
   ]
  },
  {
   "cell_type": "code",
   "execution_count": 101,
   "metadata": {
    "collapsed": true
   },
   "outputs": [],
   "source": [
    "refid4000 = np.where(unique_studies==4000)[0][0]"
   ]
  },
  {
   "cell_type": "code",
   "execution_count": 102,
   "metadata": {
    "collapsed": true
   },
   "outputs": [],
   "source": [
    "if quality_scores[4000] >= quality_thresh:\n",
    "\n",
    "    @pm.deterministic\n",
    "    def mu_timolol_4000(μ=μ, θ=θ, ϵ=ϵ):\n",
    "        # Mean response on the logit scale for timolol in RefID 4000\n",
    "        return μ + θ[TIMOLOL] + ϵ[refid4000]\n",
    "\n",
    "\n",
    "    @pm.deterministic\n",
    "    def p_timolol_4000(μ=mu_timolol_4000, τ=τ):\n",
    "        # Response category probabilities for timolol in RefID 4000\n",
    "        c1 = norm.cdf(pm.logit(0.01), μ, τ[TIMOLOL]**-1)\n",
    "        c2 = norm.cdf(pm.logit(0.25), μ, τ[TIMOLOL]**-1)\n",
    "        c3 = norm.cdf(pm.logit(0.50), μ, τ[TIMOLOL]**-1)\n",
    "        c4 = norm.cdf(pm.logit(0.75), μ, τ[TIMOLOL]**-1)\n",
    "        return c1, c2-c1, c3-c2, c4-c3, 1-c4\n",
    "\n",
    "    # Multinomial likelihood for timolol in RefID 4007\n",
    "    y_timolol_4000 = pm.Multinomial('y_timolol_4000', 30, \n",
    "                                                  p_timolol_4000, \n",
    "                                                  value=[4, 4, 4, 9, 9], observed=True)\n",
    "    # Posterior predictive check\n",
    "    pred_timolol_4000 = pm.Multinomial('pred_timolol_4000', 30, \n",
    "                                                  p_timolol_4000, \n",
    "                                                  value=[4, 4, 4, 9, 9])"
   ]
  },
  {
   "cell_type": "markdown",
   "metadata": {},
   "source": [
    "### Park 2014 (RefID 4007)"
   ]
  },
  {
   "cell_type": "code",
   "execution_count": 103,
   "metadata": {
    "collapsed": false
   },
   "outputs": [
    {
     "data": {
      "text/html": [
       "<div>\n",
       "<table border=\"1\" class=\"dataframe\">\n",
       "  <thead>\n",
       "    <tr style=\"text-align: right;\">\n",
       "      <th></th>\n",
       "      <th>REFID</th>\n",
       "      <th>Arm</th>\n",
       "      <th>Dosage</th>\n",
       "      <th>Dosage amount</th>\n",
       "      <th>Dosage form</th>\n",
       "      <th>N at follow-up</th>\n",
       "      <th>Outcome</th>\n",
       "      <th>Outcome data/result</th>\n",
       "      <th>Outcome data</th>\n",
       "      <th>Point estimate</th>\n",
       "      <th>sd</th>\n",
       "      <th>Lower range</th>\n",
       "      <th>Upper range</th>\n",
       "      <th>Outcome data/result N</th>\n",
       "    </tr>\n",
       "  </thead>\n",
       "  <tbody>\n",
       "    <tr>\n",
       "      <th>102</th>\n",
       "      <td>4007</td>\n",
       "      <td>timolol</td>\n",
       "      <td>0.5</td>\n",
       "      <td>%</td>\n",
       "      <td>topical</td>\n",
       "      <td>61</td>\n",
       "      <td>Improvement &lt; 0</td>\n",
       "      <td>NaN</td>\n",
       "      <td>NaN</td>\n",
       "      <td>NaN</td>\n",
       "      <td>NaN</td>\n",
       "      <td>NaN</td>\n",
       "      <td>NaN</td>\n",
       "      <td>0</td>\n",
       "    </tr>\n",
       "    <tr>\n",
       "      <th>103</th>\n",
       "      <td>4007</td>\n",
       "      <td>timolol</td>\n",
       "      <td>0.5</td>\n",
       "      <td>%</td>\n",
       "      <td>topical</td>\n",
       "      <td>61</td>\n",
       "      <td>Improvement = 0</td>\n",
       "      <td>NaN</td>\n",
       "      <td>NaN</td>\n",
       "      <td>NaN</td>\n",
       "      <td>NaN</td>\n",
       "      <td>NaN</td>\n",
       "      <td>NaN</td>\n",
       "      <td>3</td>\n",
       "    </tr>\n",
       "    <tr>\n",
       "      <th>104</th>\n",
       "      <td>4007</td>\n",
       "      <td>timolol</td>\n",
       "      <td>0.5</td>\n",
       "      <td>%</td>\n",
       "      <td>topical</td>\n",
       "      <td>61</td>\n",
       "      <td>Improvement = 0 - 24</td>\n",
       "      <td>NaN</td>\n",
       "      <td>NaN</td>\n",
       "      <td>NaN</td>\n",
       "      <td>NaN</td>\n",
       "      <td>NaN</td>\n",
       "      <td>NaN</td>\n",
       "      <td>19</td>\n",
       "    </tr>\n",
       "    <tr>\n",
       "      <th>105</th>\n",
       "      <td>4007</td>\n",
       "      <td>timolol</td>\n",
       "      <td>0.5</td>\n",
       "      <td>%</td>\n",
       "      <td>topical</td>\n",
       "      <td>61</td>\n",
       "      <td>Improvement = 25 - 49</td>\n",
       "      <td>NaN</td>\n",
       "      <td>NaN</td>\n",
       "      <td>NaN</td>\n",
       "      <td>NaN</td>\n",
       "      <td>NaN</td>\n",
       "      <td>NaN</td>\n",
       "      <td>11</td>\n",
       "    </tr>\n",
       "    <tr>\n",
       "      <th>106</th>\n",
       "      <td>4007</td>\n",
       "      <td>timolol</td>\n",
       "      <td>0.5</td>\n",
       "      <td>%</td>\n",
       "      <td>topical</td>\n",
       "      <td>61</td>\n",
       "      <td>Improvement = 50 - 74</td>\n",
       "      <td>NaN</td>\n",
       "      <td>NaN</td>\n",
       "      <td>NaN</td>\n",
       "      <td>NaN</td>\n",
       "      <td>NaN</td>\n",
       "      <td>NaN</td>\n",
       "      <td>14</td>\n",
       "    </tr>\n",
       "    <tr>\n",
       "      <th>107</th>\n",
       "      <td>4007</td>\n",
       "      <td>timolol</td>\n",
       "      <td>0.5</td>\n",
       "      <td>%</td>\n",
       "      <td>topical</td>\n",
       "      <td>61</td>\n",
       "      <td>Improvement = 75 - 100</td>\n",
       "      <td>NaN</td>\n",
       "      <td>NaN</td>\n",
       "      <td>NaN</td>\n",
       "      <td>NaN</td>\n",
       "      <td>NaN</td>\n",
       "      <td>NaN</td>\n",
       "      <td>14</td>\n",
       "    </tr>\n",
       "  </tbody>\n",
       "</table>\n",
       "</div>"
      ],
      "text/plain": [
       "     REFID      Arm Dosage Dosage amount Dosage form  N at follow-up  \\\n",
       "102   4007  timolol    0.5             %     topical              61   \n",
       "103   4007  timolol    0.5             %     topical              61   \n",
       "104   4007  timolol    0.5             %     topical              61   \n",
       "105   4007  timolol    0.5             %     topical              61   \n",
       "106   4007  timolol    0.5             %     topical              61   \n",
       "107   4007  timolol    0.5             %     topical              61   \n",
       "\n",
       "                    Outcome Outcome data/result Outcome data  Point estimate  \\\n",
       "102         Improvement < 0                 NaN          NaN             NaN   \n",
       "103         Improvement = 0                 NaN          NaN             NaN   \n",
       "104    Improvement = 0 - 24                 NaN          NaN             NaN   \n",
       "105   Improvement = 25 - 49                 NaN          NaN             NaN   \n",
       "106   Improvement = 50 - 74                 NaN          NaN             NaN   \n",
       "107  Improvement = 75 - 100                 NaN          NaN             NaN   \n",
       "\n",
       "      sd  Lower range  Upper range Outcome data/result N  \n",
       "102  NaN          NaN          NaN                     0  \n",
       "103  NaN          NaN          NaN                     3  \n",
       "104  NaN          NaN          NaN                    19  \n",
       "105  NaN          NaN          NaN                    11  \n",
       "106  NaN          NaN          NaN                    14  \n",
       "107  NaN          NaN          NaN                    14  "
      ]
     },
     "execution_count": 103,
     "metadata": {},
     "output_type": "execute_result"
    }
   ],
   "source": [
    "kq2_outcomes[kq2_outcomes.REFID==4007][subset_cols]"
   ]
  },
  {
   "cell_type": "code",
   "execution_count": 104,
   "metadata": {
    "collapsed": true
   },
   "outputs": [],
   "source": [
    "refid4007 = np.where(unique_studies==4007)[0][0]"
   ]
  },
  {
   "cell_type": "code",
   "execution_count": 105,
   "metadata": {
    "collapsed": true
   },
   "outputs": [],
   "source": [
    "if (quality_scores[4007] >= quality_thresh) and include_cohort:\n",
    "\n",
    "    @pm.deterministic\n",
    "    def mu_timolol_4007(μ=μ, θ=θ, ϵ=ϵ):\n",
    "        # Mean response on the logit scale for timolol in RefID 4007\n",
    "        return μ + θ[TIMOLOL] + ϵ[refid4007]\n",
    "\n",
    "\n",
    "    @pm.deterministic\n",
    "    def p_timolol_4007(μ=mu_timolol_4007, τ=τ):\n",
    "        # Response category probabilities for timolol in RefID 4007\n",
    "        c1 = norm.cdf(pm.logit(0.01), μ, τ[TIMOLOL]**-1)\n",
    "        c2 = norm.cdf(pm.logit(0.25), μ, τ[TIMOLOL]**-1)\n",
    "        c3 = norm.cdf(pm.logit(0.50), μ, τ[TIMOLOL]**-1)\n",
    "        c4 = norm.cdf(pm.logit(0.75), μ, τ[TIMOLOL]**-1)\n",
    "        return c1, c2-c1, c3-c2, c4-c3, 1-c4\n",
    "\n",
    "    # Multinomial likelihood for timolol in RefID 4007\n",
    "    y_timolol_4007 = pm.Multinomial('y_timolol_4007', 61, \n",
    "                                                  p_timolol_4007, \n",
    "                                                  value=[3, 19, 11, 14, 14], observed=True)\n",
    "    # Posterior predictive check\n",
    "    pred_timolol_4007 = pm.Multinomial('pred_timolol_4007', 61, \n",
    "                                                  p_timolol_4007, \n",
    "                                                  value=[3, 19, 11, 14, 14])"
   ]
  },
  {
   "cell_type": "markdown",
   "metadata": {},
   "source": [
    "Expected clearance rates for each treatment"
   ]
  },
  {
   "cell_type": "code",
   "execution_count": 106,
   "metadata": {
    "collapsed": false
   },
   "outputs": [],
   "source": [
    "@pm.deterministic\n",
    "def expected_clearance(μ=μ, θ=θ, ϕ=ϕ):\n",
    "    p = np.append(pm.invlogit(μ), pm.invlogit(μ + θ[0] + ϕ))\n",
    "    return np.append(p, pm.invlogit(μ + θ))"
   ]
  },
  {
   "cell_type": "code",
   "execution_count": 107,
   "metadata": {
    "collapsed": false
   },
   "outputs": [],
   "source": [
    "@pm.deterministic\n",
    "def predicted_clearance(μ=μ, θ=θ, ϕ=ϕ, τ=τ):\n",
    "    m = np.append(np.append(μ, μ + θ[0] + ϕ), μ + θ)\n",
    "    T = np.append(np.append(τ[-1], τ[0]), τ[:-1])    \n",
    "    y = pm.rnormal(m, T)\n",
    "    return pm.invlogit(y)"
   ]
  },
  {
   "cell_type": "code",
   "execution_count": 108,
   "metadata": {
    "collapsed": true
   },
   "outputs": [],
   "source": [
    "best = pm.Lambda('best', lambda b=expected_clearance:  (b==b.max()).astype(int))"
   ]
  },
  {
   "cell_type": "code",
   "execution_count": 109,
   "metadata": {
    "collapsed": true
   },
   "outputs": [],
   "source": [
    "rate_labels = ['Control', \n",
    "               'Intralesional\\npropranolol', \n",
    "               'Oral propranolol', \n",
    "               'Timolol', \n",
    "               'Intralesional\\ntriamcinolone', \n",
    "               'Oral steroid']"
   ]
  },
  {
   "cell_type": "code",
   "execution_count": 110,
   "metadata": {
    "collapsed": true
   },
   "outputs": [],
   "source": [
    "iterations, burn = 200000, 190000\n",
    "\n",
    "M = pm.MCMC(locals())\n",
    "M.use_step_method(pm.AdaptiveMetropolis, θ)"
   ]
  },
  {
   "cell_type": "code",
   "execution_count": 111,
   "metadata": {
    "collapsed": false
   },
   "outputs": [
    {
     "name": "stdout",
     "output_type": "stream",
     "text": [
      " [-----------------100%-----------------] 200000 of 200000 complete in 3664.4 sec"
     ]
    }
   ],
   "source": [
    "M.sample(iterations, burn)"
   ]
  },
  {
   "cell_type": "code",
   "execution_count": 112,
   "metadata": {
    "collapsed": false
   },
   "outputs": [
    {
     "name": "stdout",
     "output_type": "stream",
     "text": [
      " [-----------------100%-----------------] 200000 of 200000 complete in 3535.0 sec"
     ]
    }
   ],
   "source": [
    "M.sample(iterations, burn)"
   ]
  },
  {
   "cell_type": "code",
   "execution_count": 113,
   "metadata": {
    "collapsed": false
   },
   "outputs": [
    {
     "name": "stdout",
     "output_type": "stream",
     "text": [
      "\n",
      "best:\n",
      " \n",
      "\tMean             SD               MC Error        95% HPD interval\n",
      "\t------------------------------------------------------------------\n",
      "\t0.0              0.0              0.0                    [ 0.  0.]\n",
      "\t0.001            0.037            0.001                  [ 0.  0.]\n",
      "\t0.984            0.124            0.009                  [ 1.  1.]\n",
      "\t0.0              0.0              0.0                    [ 0.  0.]\n",
      "\t0.014            0.119            0.009                  [ 0.  0.]\n",
      "\t0.0              0.0              0.0                    [ 0.  0.]\n",
      "\t\n",
      "\t\n",
      "\tPosterior quantiles:\n",
      "\t\n",
      "\t2.5             25              50              75             97.5\n",
      "\t |---------------|===============|===============|---------------|\n",
      "\t0.0              0.0             0.0            0.0           0.0\n",
      "\t0.0              0.0             0.0            0.0           0.0\n",
      "\t1.0              1.0             1.0            1.0           1.0\n",
      "\t0.0              0.0             0.0            0.0           0.0\n",
      "\t0.0              0.0             0.0            0.0           0.0\n",
      "\t0.0              0.0             0.0            0.0           0.0\n",
      "\t\n"
     ]
    }
   ],
   "source": [
    "best.summary()"
   ]
  },
  {
   "cell_type": "code",
   "execution_count": 114,
   "metadata": {
    "collapsed": false
   },
   "outputs": [
    {
     "name": "stdout",
     "output_type": "stream",
     "text": [
      "Plotting θ_0\n",
      "Plotting θ_1\n",
      "Plotting θ_2\n",
      "Plotting θ_3\n"
     ]
    },
    {
     "data": {
      "image/png": "[encoded data removed]",
      "text/plain": [
       "<matplotlib.figure.Figure at 0x11898a588>"
      ]
     },
     "metadata": {},
     "output_type": "display_data"
    }
   ],
   "source": [
    "pm.Matplot.plot(θ)"
   ]
  },
  {
   "cell_type": "code",
   "execution_count": 115,
   "metadata": {
    "collapsed": false
   },
   "outputs": [
    {
     "name": "stdout",
     "output_type": "stream",
     "text": [
      "Plotting σ_0\n",
      "Plotting σ_1\n",
      "Plotting σ_2\n",
      "Plotting σ_3\n",
      "Plotting σ_4\n"
     ]
    },
    {
     "data": {
      "image/png": "[encoded data removed]",
      "text/plain": [
       "<matplotlib.figure.Figure at 0x11ac0b8d0>"
      ]
     },
     "metadata": {},
     "output_type": "display_data"
    },
    {
     "data": {
      "image/png": "[encoded data removed]",
      "text/plain": [
       "<matplotlib.figure.Figure at 0x11a9b1d68>"
      ]
     },
     "metadata": {},
     "output_type": "display_data"
    }
   ],
   "source": [
    "pm.Matplot.plot(σ)"
   ]
  },
  {
   "cell_type": "code",
   "execution_count": 116,
   "metadata": {
    "collapsed": false
   },
   "outputs": [
    {
     "name": "stdout",
     "output_type": "stream",
     "text": [
      "\n",
      "σ:\n",
      " \n",
      "\tMean             SD               MC Error        95% HPD interval\n",
      "\t------------------------------------------------------------------\n",
      "\t2.498            0.201            0.015            [ 2.105  2.87 ]\n",
      "\t1.51             0.03             0.001            [ 1.456  1.571]\n",
      "\t1.725            0.269            0.021            [ 1.275  2.268]\n",
      "\t1.303            0.136            0.008            [ 1.053  1.57 ]\n",
      "\t1.239            0.165            0.014            [ 0.928  1.59 ]\n",
      "\t\n",
      "\t\n",
      "\tPosterior quantiles:\n",
      "\t\n",
      "\t2.5             25              50              75             97.5\n",
      "\t |---------------|===============|===============|---------------|\n",
      "\t2.137            2.367           2.484          2.619         2.926\n",
      "\t1.454            1.49            1.509          1.53          1.57\n",
      "\t1.314            1.523           1.687          1.896         2.347\n",
      "\t1.07             1.205           1.294          1.387         1.613\n",
      "\t0.929            1.126           1.229          1.343         1.593\n",
      "\t\n"
     ]
    }
   ],
   "source": [
    "σ.summary()"
   ]
  },
  {
   "cell_type": "code",
   "execution_count": 117,
   "metadata": {
    "collapsed": false
   },
   "outputs": [
    {
     "name": "stdout",
     "output_type": "stream",
     "text": [
      "\n",
      "θ:\n",
      " \n",
      "\tMean             SD               MC Error        95% HPD interval\n",
      "\t------------------------------------------------------------------\n",
      "\t6.561            0.985            0.094            [ 4.769  8.653]\n",
      "\t3.491            0.533            0.052            [ 2.668  4.476]\n",
      "\t3.513            0.965            0.082            [ 1.248  4.926]\n",
      "\t2.951            0.552            0.052            [ 1.972  4.159]\n",
      "\t\n",
      "\t\n",
      "\tPosterior quantiles:\n",
      "\t\n",
      "\t2.5             25              50              75             97.5\n",
      "\t |---------------|===============|===============|---------------|\n",
      "\t4.959            5.903           6.404          7.156         9.211\n",
      "\t2.578            3.035           3.569          3.911         4.443\n",
      "\t1.592            3.008           3.519          3.978         5.485\n",
      "\t1.966            2.607           2.972          3.291         4.159\n",
      "\t\n"
     ]
    }
   ],
   "source": [
    "θ.summary()"
   ]
  },
  {
   "cell_type": "code",
   "execution_count": 118,
   "metadata": {
    "collapsed": false
   },
   "outputs": [
    {
     "data": {
      "image/png": "[encoded data removed]",
      "text/plain": [
       "<matplotlib.figure.Figure at 0x11af18f28>"
      ]
     },
     "metadata": {},
     "output_type": "display_data"
    }
   ],
   "source": [
    "sigma_labels = ['Propranolol', \n",
    "               'Timolol', \n",
    "               'Triamcinolone ', \n",
    "               'Oral steroid',\n",
    "               'Control']\n",
    "\n",
    "pm.Matplot.summary_plot(σ, custom_labels=sigma_labels, \n",
    "                        vline_pos=-1, main='Standard deviation of effects', chain=1)"
   ]
  },
  {
   "cell_type": "code",
   "execution_count": 119,
   "metadata": {
    "collapsed": false,
    "scrolled": true
   },
   "outputs": [
    {
     "name": "stdout",
     "output_type": "stream",
     "text": [
      "\n",
      "expected_clearance:\n",
      " \n",
      "\tMean             SD               MC Error        95% HPD interval\n",
      "\t------------------------------------------------------------------\n",
      "\t0.038            0.026            0.002            [ 0.002  0.092]\n",
      "\t0.09             0.162            0.008            [ 0.     0.459]\n",
      "\t0.945            0.036            0.003            [ 0.876  0.991]\n",
      "\t0.493            0.168            0.016              [ 0.07  0.78]\n",
      "\t0.495            0.224            0.02             [ 0.101  0.878]\n",
      "\t0.372            0.154            0.015            [ 0.112  0.702]\n",
      "\t\n",
      "\t\n",
      "\tPosterior quantiles:\n",
      "\t\n",
      "\t2.5             25              50              75             97.5\n",
      "\t |---------------|===============|===============|---------------|\n",
      "\t0.002            0.018           0.035          0.05          0.103\n",
      "\t0.0              0.005           0.022          0.089         0.638\n",
      "\t0.831            0.934           0.955          0.968         0.985\n",
      "\t0.103            0.392           0.505          0.605         0.82\n",
      "\t0.108            0.315           0.492          0.681         0.897\n",
      "\t0.101            0.254           0.357          0.478         0.697\n",
      "\t\n"
     ]
    }
   ],
   "source": [
    "expected_clearance.summary()"
   ]
  },
  {
   "cell_type": "code",
   "execution_count": 120,
   "metadata": {
    "collapsed": false
   },
   "outputs": [
    {
     "data": {
      "image/png": "[encoded data removed]",
      "text/plain": [
       "<matplotlib.figure.Figure at 0x11af1bd30>"
      ]
     },
     "metadata": {},
     "output_type": "display_data"
    }
   ],
   "source": [
    "pm.Matplot.summary_plot(expected_clearance, custom_labels=rate_labels, \n",
    "                        main='Expected clearance (%)', vline_pos=-1)"
   ]
  },
  {
   "cell_type": "code",
   "execution_count": 121,
   "metadata": {
    "collapsed": false
   },
   "outputs": [
    {
     "data": {
      "image/png": "[encoded data removed]",
      "text/plain": [
       "<matplotlib.figure.Figure at 0x11a5ea2e8>"
      ]
     },
     "metadata": {},
     "output_type": "display_data"
    }
   ],
   "source": [
    "pm.Matplot.summary_plot(expected_clearance, custom_labels=rate_labels, \n",
    "                        main='Expected clearance (%)', vline_pos=-1, chain=1)"
   ]
  },
  {
   "cell_type": "code",
   "execution_count": 122,
   "metadata": {
    "collapsed": false
   },
   "outputs": [
    {
     "name": "stdout",
     "output_type": "stream",
     "text": [
      "\n",
      "μ:\n",
      " \n",
      "\tMean             SD               MC Error        95% HPD interval\n",
      "\t------------------------------------------------------------------\n",
      "\t-3.543           0.935            0.092            [-5.839 -2.02 ]\n",
      "\t\n",
      "\t\n",
      "\tPosterior quantiles:\n",
      "\t\n",
      "\t2.5             25              50              75             97.5\n",
      "\t |---------------|===============|===============|---------------|\n",
      "\t-6.11            -3.986          -3.31          -2.947        -2.159\n",
      "\t\n"
     ]
    }
   ],
   "source": [
    "μ.summary()"
   ]
  },
  {
   "cell_type": "code",
   "execution_count": 123,
   "metadata": {
    "collapsed": false
   },
   "outputs": [
    {
     "name": "stdout",
     "output_type": "stream",
     "text": [
      "\n",
      "σ:\n",
      " \n",
      "\tMean             SD               MC Error        95% HPD interval\n",
      "\t------------------------------------------------------------------\n",
      "\t2.498            0.201            0.015            [ 2.105  2.87 ]\n",
      "\t1.51             0.03             0.001            [ 1.456  1.571]\n",
      "\t1.725            0.269            0.021            [ 1.275  2.268]\n",
      "\t1.303            0.136            0.008            [ 1.053  1.57 ]\n",
      "\t1.239            0.165            0.014            [ 0.928  1.59 ]\n",
      "\t\n",
      "\t\n",
      "\tPosterior quantiles:\n",
      "\t\n",
      "\t2.5             25              50              75             97.5\n",
      "\t |---------------|===============|===============|---------------|\n",
      "\t2.137            2.367           2.484          2.619         2.926\n",
      "\t1.454            1.49            1.509          1.53          1.57\n",
      "\t1.314            1.523           1.687          1.896         2.347\n",
      "\t1.07             1.205           1.294          1.387         1.613\n",
      "\t0.929            1.126           1.229          1.343         1.593\n",
      "\t\n"
     ]
    }
   ],
   "source": [
    "σ.summary()"
   ]
  },
  {
   "cell_type": "code",
   "execution_count": 124,
   "metadata": {
    "collapsed": false
   },
   "outputs": [],
   "source": [
    "means = (μ.trace() + θ.trace().T).T"
   ]
  },
  {
   "cell_type": "code",
   "execution_count": 125,
   "metadata": {
    "collapsed": false
   },
   "outputs": [],
   "source": [
    "sds = σ.trace()[:, :-1]"
   ]
  },
  {
   "cell_type": "code",
   "execution_count": 126,
   "metadata": {
    "collapsed": false
   },
   "outputs": [
    {
     "data": {
      "image/png": "[encoded data removed]",
      "text/plain": [
       "<matplotlib.figure.Figure at 0x11aa6cd68>"
      ]
     },
     "metadata": {},
     "output_type": "display_data"
    }
   ],
   "source": [
    "import matplotlib.pyplot as plt\n",
    "from pymc import invlogit\n",
    "from scipy.stats import norm\n",
    "\n",
    "labels = ['Propranolol', \n",
    "               'Timolol', \n",
    "               'Triamcinolone', \n",
    "               'Oral steroid']\n",
    "\n",
    "fig, axes = plt.subplots(2,2, sharey=True)\n",
    "\n",
    "n = 100\n",
    "xvals = np.linspace(-5, 10)\n",
    "\n",
    "for j,ax in enumerate(np.ravel(axes)):\n",
    "    m = np.empty(n)\n",
    "    for i in range(n):\n",
    "        dist = norm(means[-i,j], sds[-i,j])\n",
    "        m[i] = invlogit(dist.mean())\n",
    "        ax.plot(invlogit(xvals), invlogit(dist.pdf(xvals)), 'b-', alpha=0.05)\n",
    "    ax.set_xlabel(labels[j])\n",
    "    ax.set_title('mean=%s' % np.mean(m).round(2))"
   ]
  },
  {
   "cell_type": "markdown",
   "metadata": {
    "collapsed": true
   },
   "source": [
    "## Surface Under the Cumulative RAnking curve (SUCRA)\n",
    "\n",
    "Use posterior probabilities for each treatment to be among the n-best options (cumulative probabilities)"
   ]
  },
  {
   "cell_type": "code",
   "execution_count": 127,
   "metadata": {
    "collapsed": false
   },
   "outputs": [],
   "source": [
    "# Calculate ranks for treatments from expected clearance traces\n",
    "clearance_ranks = np.argsort(expected_clearance.trace()) + 1\n",
    "samples, ranks = clearance_ranks.shape"
   ]
  },
  {
   "cell_type": "code",
   "execution_count": 128,
   "metadata": {
    "collapsed": false
   },
   "outputs": [
    {
     "data": {
      "image/png": "[encoded data removed]",
      "text/plain": [
       "<matplotlib.figure.Figure at 0x11af56a20>"
      ]
     },
     "metadata": {},
     "output_type": "display_data"
    }
   ],
   "source": [
    "fig, axes = plt.subplots(2, 3, sharey=True)\n",
    "\n",
    "for i, treat in enumerate(rate_labels):\n",
    "    ax = axes.ravel()[i]\n",
    "    ax.set_xlabel(treat)\n",
    "    \n",
    "    # Pull out ranks for treatment\n",
    "    rank = clearance_ranks[:, i]\n",
    "    # Calculate cumulative probabilities\n",
    "    cumulative_probs = [(rank>=(j+1)).mean() for j in range(ranks)][::-1]\n",
    "    # Calculate SUCRA\n",
    "    sucra = sum(cumulative_probs[:-1])/(ranks-1)\n",
    "    \n",
    "    ax.set_title('SUCRA = %s' % np.round(sucra, 3))\n",
    "    ax.plot(np.arange(ranks)+1, cumulative_probs)"
   ]
  }
 ],
 "metadata": {
  "kernelspec": {
   "display_name": "Python 3",
   "language": "python",
   "name": "python3"
  },
  "language_info": {
   "codemirror_mode": {
    "name": "ipython",
    "version": 3
   },
   "file_extension": ".py",
   "mimetype": "text/x-python",
   "name": "python",
   "nbconvert_exporter": "python",
   "pygments_lexer": "ipython3",
   "version": "3.4.2"
  }
 },
 "nbformat": 4,
 "nbformat_minor": 0
}
